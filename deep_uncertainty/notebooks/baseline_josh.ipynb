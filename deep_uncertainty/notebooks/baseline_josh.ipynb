{
 "cells": [
  {
   "cell_type": "code",
   "execution_count": 2,
   "metadata": {},
   "outputs": [],
   "source": [
    "import os\n",
    "from sklearn.linear_model import PoissonRegressor\n",
    "import pandas as pd\n",
    "from sklearn.model_selection import train_test_split\n",
    "from sklearn import preprocessing\n",
    "from sklearn.metrics import mean_squared_error \n",
    "import numpy as np\n",
    "import statsmodels.formula.api as smf\n",
    "import statsmodels.api as sm\n",
    "from scipy.stats import poisson\n",
    "from scipy.stats import nbinom\n",
    "from patsy import dmatrices\n",
    "os.chdir(os.path.expanduser(\"~/Misc/Research/deep_uncertainty\"))\n",
    "from deep_uncertainty.evaluation.calibration import compute_mean_calibration"
   ]
  },
  {
   "cell_type": "code",
   "execution_count": 3,
   "metadata": {},
   "outputs": [
    {
     "data": {
      "text/html": [
       "<div>\n",
       "<style scoped>\n",
       "    .dataframe tbody tr th:only-of-type {\n",
       "        vertical-align: middle;\n",
       "    }\n",
       "\n",
       "    .dataframe tbody tr th {\n",
       "        vertical-align: top;\n",
       "    }\n",
       "\n",
       "    .dataframe thead th {\n",
       "        text-align: right;\n",
       "    }\n",
       "</style>\n",
       "<table border=\"1\" class=\"dataframe\">\n",
       "  <thead>\n",
       "    <tr style=\"text-align: right;\">\n",
       "      <th></th>\n",
       "      <th>counts.id</th>\n",
       "      <th>counts.scripts</th>\n",
       "      <th>counts.detailing</th>\n",
       "      <th>counts.lagged_scripts</th>\n",
       "      <th>demo.id</th>\n",
       "      <th>demo.generalphys</th>\n",
       "      <th>demo.specialist</th>\n",
       "      <th>demo.mean_samples</th>\n",
       "    </tr>\n",
       "  </thead>\n",
       "  <tbody>\n",
       "    <tr>\n",
       "      <th>0</th>\n",
       "      <td>1</td>\n",
       "      <td>3</td>\n",
       "      <td>1</td>\n",
       "      <td>4</td>\n",
       "      <td>1</td>\n",
       "      <td>1</td>\n",
       "      <td>0</td>\n",
       "      <td>0.721739</td>\n",
       "    </tr>\n",
       "    <tr>\n",
       "      <th>1</th>\n",
       "      <td>1</td>\n",
       "      <td>12</td>\n",
       "      <td>1</td>\n",
       "      <td>3</td>\n",
       "      <td>2</td>\n",
       "      <td>0</td>\n",
       "      <td>1</td>\n",
       "      <td>0.491304</td>\n",
       "    </tr>\n",
       "    <tr>\n",
       "      <th>2</th>\n",
       "      <td>1</td>\n",
       "      <td>3</td>\n",
       "      <td>1</td>\n",
       "      <td>12</td>\n",
       "      <td>3</td>\n",
       "      <td>1</td>\n",
       "      <td>0</td>\n",
       "      <td>0.339130</td>\n",
       "    </tr>\n",
       "    <tr>\n",
       "      <th>3</th>\n",
       "      <td>1</td>\n",
       "      <td>6</td>\n",
       "      <td>2</td>\n",
       "      <td>3</td>\n",
       "      <td>4</td>\n",
       "      <td>1</td>\n",
       "      <td>0</td>\n",
       "      <td>3.195652</td>\n",
       "    </tr>\n",
       "    <tr>\n",
       "      <th>4</th>\n",
       "      <td>1</td>\n",
       "      <td>5</td>\n",
       "      <td>1</td>\n",
       "      <td>6</td>\n",
       "      <td>5</td>\n",
       "      <td>0</td>\n",
       "      <td>1</td>\n",
       "      <td>0.347826</td>\n",
       "    </tr>\n",
       "    <tr>\n",
       "      <th>...</th>\n",
       "      <td>...</td>\n",
       "      <td>...</td>\n",
       "      <td>...</td>\n",
       "      <td>...</td>\n",
       "      <td>...</td>\n",
       "      <td>...</td>\n",
       "      <td>...</td>\n",
       "      <td>...</td>\n",
       "    </tr>\n",
       "    <tr>\n",
       "      <th>22995</th>\n",
       "      <td>1000</td>\n",
       "      <td>3</td>\n",
       "      <td>4</td>\n",
       "      <td>2</td>\n",
       "      <td>996</td>\n",
       "      <td>1</td>\n",
       "      <td>0</td>\n",
       "      <td>0.247826</td>\n",
       "    </tr>\n",
       "    <tr>\n",
       "      <th>22996</th>\n",
       "      <td>1000</td>\n",
       "      <td>4</td>\n",
       "      <td>4</td>\n",
       "      <td>3</td>\n",
       "      <td>997</td>\n",
       "      <td>0</td>\n",
       "      <td>1</td>\n",
       "      <td>0.286957</td>\n",
       "    </tr>\n",
       "    <tr>\n",
       "      <th>22997</th>\n",
       "      <td>1000</td>\n",
       "      <td>7</td>\n",
       "      <td>3</td>\n",
       "      <td>4</td>\n",
       "      <td>998</td>\n",
       "      <td>0</td>\n",
       "      <td>0</td>\n",
       "      <td>0.000000</td>\n",
       "    </tr>\n",
       "    <tr>\n",
       "      <th>22998</th>\n",
       "      <td>1000</td>\n",
       "      <td>8</td>\n",
       "      <td>3</td>\n",
       "      <td>7</td>\n",
       "      <td>999</td>\n",
       "      <td>1</td>\n",
       "      <td>0</td>\n",
       "      <td>0.000000</td>\n",
       "    </tr>\n",
       "    <tr>\n",
       "      <th>22999</th>\n",
       "      <td>1000</td>\n",
       "      <td>6</td>\n",
       "      <td>4</td>\n",
       "      <td>8</td>\n",
       "      <td>1000</td>\n",
       "      <td>0</td>\n",
       "      <td>1</td>\n",
       "      <td>0.043478</td>\n",
       "    </tr>\n",
       "  </tbody>\n",
       "</table>\n",
       "<p>23000 rows × 8 columns</p>\n",
       "</div>"
      ],
      "text/plain": [
       "       counts.id  counts.scripts  counts.detailing  counts.lagged_scripts  \\\n",
       "0              1               3                 1                      4   \n",
       "1              1              12                 1                      3   \n",
       "2              1               3                 1                     12   \n",
       "3              1               6                 2                      3   \n",
       "4              1               5                 1                      6   \n",
       "...          ...             ...               ...                    ...   \n",
       "22995       1000               3                 4                      2   \n",
       "22996       1000               4                 4                      3   \n",
       "22997       1000               7                 3                      4   \n",
       "22998       1000               8                 3                      7   \n",
       "22999       1000               6                 4                      8   \n",
       "\n",
       "       demo.id  demo.generalphys  demo.specialist  demo.mean_samples  \n",
       "0            1                 1                0           0.721739  \n",
       "1            2                 0                1           0.491304  \n",
       "2            3                 1                0           0.339130  \n",
       "3            4                 1                0           3.195652  \n",
       "4            5                 0                1           0.347826  \n",
       "...        ...               ...              ...                ...  \n",
       "22995      996                 1                0           0.247826  \n",
       "22996      997                 0                1           0.286957  \n",
       "22997      998                 0                0           0.000000  \n",
       "22998      999                 1                0           0.000000  \n",
       "22999     1000                 0                1           0.043478  \n",
       "\n",
       "[23000 rows x 8 columns]"
      ]
     },
     "execution_count": 3,
     "metadata": {},
     "output_type": "execute_result"
    }
   ],
   "source": [
    "# bikes = pd.read_csv('deep_uncertainty/datalocal/hour.csv')\n",
    "# bikes = bikes[:1000]\n",
    "\n",
    "detailing_data_loc = 'deep_uncertainty/datalocal/bayesm.csv'\n",
    "detailing_data  = pd.read_csv(detailing_data_loc)\n",
    "#deal with Nan values\n",
    "# detailing_data = detailing_data.dropna()\n",
    "# detailing_data['CUSTCOUN'] = detailing_data['CUSTCOUN'] // 1\n",
    "# detailing_data['CUSTCOUN'] = detailing_data['CUSTCOUN'].astype(int)\n",
    "# detailing_data = detailing_data[detailing_data['CUSTCOUN'] > 0]\n",
    "# detailing_data = detailing_data[:1000]\n",
    "detailing_data\n",
    "# sales_data.columns"
   ]
  },
  {
   "cell_type": "code",
   "execution_count": 4,
   "metadata": {},
   "outputs": [
    {
     "name": "stdout",
     "output_type": "stream",
     "text": [
      "                 Generalized Linear Model Regression Results                  \n",
      "==============================================================================\n",
      "Dep. Variable:                scripts   No. Observations:                18389\n",
      "Model:                            GLM   Df Residuals:                    18383\n",
      "Model Family:                 Poisson   Df Model:                            5\n",
      "Link Function:                    Log   Scale:                          1.0000\n",
      "Method:                          IRLS   Log-Likelihood:                -50536.\n",
      "Date:                Wed, 20 Mar 2024   Deviance:                       54677.\n",
      "Time:                        16:19:53   Pearson chi2:                 4.36e+04\n",
      "No. Iterations:                     7   Pseudo R-squ. (CS):             0.9895\n",
      "Covariance Type:            nonrobust                                         \n",
      "==================================================================================\n",
      "                     coef    std err          z      P>|z|      [0.025      0.975]\n",
      "----------------------------------------------------------------------------------\n",
      "Intercept          0.9172      0.009    106.846      0.000       0.900       0.934\n",
      "scripts            0.0641      0.000    133.827      0.000       0.063       0.065\n",
      "detailing          0.0773      0.002     43.706      0.000       0.074       0.081\n",
      "lagged_scripts    -0.0070      0.001    -13.312      0.000      -0.008      -0.006\n",
      "generalphys        0.0480      0.008      5.833      0.000       0.032       0.064\n",
      "specialist         0.0737      0.010      7.114      0.000       0.053       0.094\n",
      "==================================================================================\n"
     ]
    }
   ],
   "source": [
    "\n",
    "#rename columns\n",
    "detailing_data = detailing_data.rename(columns={'counts.scripts': 'scripts', 'counts.detailing': 'detailing', 'counts.lagged_scripts': 'lagged_scripts'\n",
    "                                        , 'counts.id': 'id', 'demo.id':'id', 'demo.generalphys':'generalphys', 'demo.specialist':'specialist', 'demo.mean_samples':'mean_samples'})\n",
    "detailing_data = detailing_data.drop(['id'], axis=1)\n",
    "detailing_data\n",
    "X = detailing_data.iloc[:,:-1]\n",
    "mask = np.random.rand(len(detailing_data)) < 0.8\n",
    "df_train = detailing_data[mask]\n",
    "df_test = detailing_data[~mask]\n",
    "\n",
    "expr = \"scripts ~ \" + \" + \".join(detailing_data.columns[:-1])\n",
    "expr\n",
    "\n",
    "y_train, X_train = dmatrices(expr, df_train, return_type='dataframe')\n",
    "y_test, X_test = dmatrices(expr, df_test, return_type='dataframe')\n",
    "\n",
    "poisson_training_results = sm.GLM(y_train, X_train, family=sm.families.Poisson()).fit()\n",
    "poisson_testing_results = sm.GLM(y_test, X_test, family=sm.families.Poisson()).fit()\n",
    "print(poisson_training_results.summary())"
   ]
  },
  {
   "cell_type": "code",
   "execution_count": 5,
   "metadata": {},
   "outputs": [
    {
     "name": "stdout",
     "output_type": "stream",
     "text": [
      "101.1580867217438\n",
      "10.057737654251268\n"
     ]
    }
   ],
   "source": [
    "print(mean_squared_error(poisson_training_results.mu, y_train))\n",
    "print(np.sqrt(mean_squared_error(poisson_training_results.mu, y_train)))"
   ]
  },
  {
   "cell_type": "code",
   "execution_count": 6,
   "metadata": {},
   "outputs": [
    {
     "data": {
      "text/plain": [
       "Intercept         0.917165\n",
       "scripts           0.064107\n",
       "detailing         0.077331\n",
       "lagged_scripts   -0.007021\n",
       "generalphys       0.048026\n",
       "specialist        0.073711\n",
       "dtype: float64"
      ]
     },
     "execution_count": 6,
     "metadata": {},
     "output_type": "execute_result"
    }
   ],
   "source": [
    "poisson_training_results.params"
   ]
  },
  {
   "cell_type": "code",
   "execution_count": 7,
   "metadata": {},
   "outputs": [
    {
     "data": {
      "text/plain": [
       "array([[ 0., 15.],\n",
       "       [ 0.,  9.],\n",
       "       [ 0.,  9.],\n",
       "       [ 0.,  9.],\n",
       "       [ 0., 10.],\n",
       "       [ 0., 12.],\n",
       "       [ 0., 10.],\n",
       "       [ 0., 14.],\n",
       "       [ 0., 14.],\n",
       "       [ 0., 10.]])"
      ]
     },
     "execution_count": 7,
     "metadata": {},
     "output_type": "execute_result"
    }
   ],
   "source": [
    "y_preds = poisson_testing_results.mu\n",
    "posterior_predictive = poisson(mu=y_preds)\n",
    "np.column_stack([posterior_predictive.ppf(0.001), posterior_predictive.ppf(0.999)])[:10]\n",
    "# print(y_preds[:10])"
   ]
  },
  {
   "cell_type": "code",
   "execution_count": 8,
   "metadata": {},
   "outputs": [
    {
     "data": {
      "text/plain": [
       "array([[12.],\n",
       "       [ 3.],\n",
       "       [ 1.],\n",
       "       [ 1.],\n",
       "       [ 2.],\n",
       "       [ 6.],\n",
       "       [ 1.],\n",
       "       [ 8.],\n",
       "       [ 9.],\n",
       "       [ 1.]])"
      ]
     },
     "execution_count": 8,
     "metadata": {},
     "output_type": "execute_result"
    }
   ],
   "source": [
    "y_test[:10].values"
   ]
  },
  {
   "cell_type": "code",
   "execution_count": 9,
   "metadata": {},
   "outputs": [
    {
     "data": {
      "text/plain": [
       "5.06108695652174"
      ]
     },
     "execution_count": 9,
     "metadata": {},
     "output_type": "execute_result"
    }
   ],
   "source": [
    "detailing_data['scripts'].mean()"
   ]
  },
  {
   "cell_type": "code",
   "execution_count": 10,
   "metadata": {},
   "outputs": [
    {
     "data": {
      "text/plain": [
       "7.409465371205955"
      ]
     },
     "execution_count": 10,
     "metadata": {},
     "output_type": "execute_result"
    }
   ],
   "source": [
    "detailing_data['scripts'].std()"
   ]
  },
  {
   "cell_type": "code",
   "execution_count": 11,
   "metadata": {},
   "outputs": [
    {
     "data": {
      "text/plain": [
       "0.7326918267985252"
      ]
     },
     "execution_count": 11,
     "metadata": {},
     "output_type": "execute_result"
    }
   ],
   "source": [
    "# Poisson calibration\n",
    "compute_mean_calibration(np.array(y_test), posterior_predictive)"
   ]
  },
  {
   "cell_type": "code",
   "execution_count": 12,
   "metadata": {},
   "outputs": [
    {
     "data": {
      "image/png": "[encoded data removed]",
      "text/plain": [
       "<Figure size 640x480 with 1 Axes>"
      ]
     },
     "metadata": {},
     "output_type": "display_data"
    }
   ],
   "source": [
    "from deep_uncertainty.evaluation.calibration import plot_regression_calibration_curve\n",
    "\n",
    "\n",
    "plot_regression_calibration_curve(np.array(y_test), posterior_predictive, num_bins=9)"
   ]
  },
  {
   "cell_type": "code",
   "execution_count": 13,
   "metadata": {},
   "outputs": [
    {
     "name": "stderr",
     "output_type": "stream",
     "text": [
      "/var/folders/d7/8mpnc7h57hb6gcv3lp21z67m0000gn/T/ipykernel_3587/1509262161.py:1: SettingWithCopyWarning: \n",
      "A value is trying to be set on a copy of a slice from a DataFrame.\n",
      "Try using .loc[row_indexer,col_indexer] = value instead\n",
      "\n",
      "See the caveats in the documentation: https://pandas.pydata.org/pandas-docs/stable/user_guide/indexing.html#returning-a-view-versus-a-copy\n",
      "  df_train[\"BB_LAMBDA\"] = poisson_training_results.mu\n",
      "/var/folders/d7/8mpnc7h57hb6gcv3lp21z67m0000gn/T/ipykernel_3587/1509262161.py:2: SettingWithCopyWarning: \n",
      "A value is trying to be set on a copy of a slice from a DataFrame.\n",
      "Try using .loc[row_indexer,col_indexer] = value instead\n",
      "\n",
      "See the caveats in the documentation: https://pandas.pydata.org/pandas-docs/stable/user_guide/indexing.html#returning-a-view-versus-a-copy\n",
      "  df_train['AUX_OLS_DEP'] = df_train.apply(lambda x: ((x['scripts'] - x['BB_LAMBDA'])**2 - x['BB_LAMBDA']) / x['BB_LAMBDA'], axis=1)\n",
      "/var/folders/d7/8mpnc7h57hb6gcv3lp21z67m0000gn/T/ipykernel_3587/1509262161.py:5: FutureWarning: Series.__getitem__ treating keys as positions is deprecated. In a future version, integer keys will always be treated as labels (consistent with DataFrame behavior). To access a value by position, use `ser.iloc[pos]`\n",
      "  nb2_training_results = sm.GLM(y_train, X_train,family=sm.families.NegativeBinomial(alpha=aux_olsr_results.params[0])).fit()\n",
      "/Users/joshuaphelps/anaconda3/lib/python3.11/site-packages/statsmodels/genmod/generalized_linear_model.py:900: FutureWarning: linear keyword is deprecated, use which=\"linear\"\n",
      "  warnings.warn(msg, FutureWarning)\n"
     ]
    }
   ],
   "source": [
    "df_train[\"BB_LAMBDA\"] = poisson_training_results.mu\n",
    "df_train['AUX_OLS_DEP'] = df_train.apply(lambda x: ((x['scripts'] - x['BB_LAMBDA'])**2 - x['BB_LAMBDA']) / x['BB_LAMBDA'], axis=1)\n",
    "ols_expr = \"\"\"AUX_OLS_DEP ~ BB_LAMBDA - 1\"\"\"\n",
    "aux_olsr_results = smf.ols(ols_expr, df_train).fit()\n",
    "nb2_training_results = sm.GLM(y_train, X_train,family=sm.families.NegativeBinomial(alpha=aux_olsr_results.params[0])).fit()\n",
    "nb2_predictions = nb2_training_results.get_prediction(X_test)\n",
    "successes = nb2_training_results.predict(X_test, linear=True)\n",
    "predictions_summary_frame = nb2_predictions.summary_frame()\n",
    "predicted_counts=predictions_summary_frame['mean']"
   ]
  },
  {
   "cell_type": "code",
   "execution_count": 14,
   "metadata": {},
   "outputs": [
    {
     "data": {
      "text/plain": [
       "Intercept         0.290050\n",
       "scripts           0.156681\n",
       "detailing         0.061958\n",
       "lagged_scripts   -0.017614\n",
       "generalphys      -0.008611\n",
       "specialist        0.023104\n",
       "dtype: float64"
      ]
     },
     "execution_count": 14,
     "metadata": {},
     "output_type": "execute_result"
    }
   ],
   "source": [
    "nb2_training_results.params"
   ]
  },
  {
   "cell_type": "code",
   "execution_count": 15,
   "metadata": {},
   "outputs": [
    {
     "name": "stdout",
     "output_type": "stream",
     "text": [
      "440233.02391347097\n",
      "663.5005832050722\n"
     ]
    }
   ],
   "source": [
    "print(mean_squared_error(predictions_summary_frame['mean'], y_test))\n",
    "print(np.sqrt(mean_squared_error(predictions_summary_frame['mean'], y_test)))"
   ]
  },
  {
   "cell_type": "code",
   "execution_count": 16,
   "metadata": {},
   "outputs": [],
   "source": [
    "y_preds = predicted_counts\n",
    "y_test = y_test['scripts']\n",
    "# n is # of successes\n",
    "n = successes\n",
    "# p is the probability of success\n",
    "p = successes / len(y_test)\n",
    "posterior_predictive = nbinom(p=p, n=n)"
   ]
  },
  {
   "cell_type": "code",
   "execution_count": 17,
   "metadata": {},
   "outputs": [
    {
     "data": {
      "text/plain": [
       "0.3748668960583307"
      ]
     },
     "execution_count": 17,
     "metadata": {},
     "output_type": "execute_result"
    }
   ],
   "source": [
    "# Negative Binomial calibration\n",
    "compute_mean_calibration(np.array(y_test), posterior_predictive)"
   ]
  },
  {
   "cell_type": "code",
   "execution_count": 18,
   "metadata": {},
   "outputs": [
    {
     "data": {
      "image/png": "[encoded data removed]",
      "text/plain": [
       "<Figure size 640x480 with 1 Axes>"
      ]
     },
     "metadata": {},
     "output_type": "display_data"
    }
   ],
   "source": [
    "plot_regression_calibration_curve(np.array(y_test), posterior_predictive, num_bins=9)"
   ]
  },
  {
   "cell_type": "code",
   "execution_count": null,
   "metadata": {},
   "outputs": [],
   "source": []
  },
  {
   "cell_type": "code",
   "execution_count": null,
   "metadata": {},
   "outputs": [],
   "source": [
    "\n",
    "\n"
   ]
  },
  {
   "cell_type": "code",
   "execution_count": null,
   "metadata": {},
   "outputs": [],
   "source": []
  },
  {
   "cell_type": "code",
   "execution_count": null,
   "metadata": {},
   "outputs": [],
   "source": []
  },
  {
   "cell_type": "code",
   "execution_count": null,
   "metadata": {},
   "outputs": [],
   "source": []
  },
  {
   "cell_type": "code",
   "execution_count": null,
   "metadata": {},
   "outputs": [],
   "source": []
  },
  {
   "cell_type": "code",
   "execution_count": null,
   "metadata": {},
   "outputs": [],
   "source": []
  }
 ],
 "metadata": {
  "kernelspec": {
   "display_name": "base",
   "language": "python",
   "name": "python3"
  },
  "language_info": {
   "codemirror_mode": {
    "name": "ipython",
    "version": 3
   },
   "file_extension": ".py",
   "mimetype": "text/x-python",
   "name": "python",
   "nbconvert_exporter": "python",
   "pygments_lexer": "ipython3",
   "version": "3.11.5"
  }
 },
 "nbformat": 4,
 "nbformat_minor": 2
}
