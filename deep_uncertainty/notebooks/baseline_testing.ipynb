{
 "cells": [
  {
   "cell_type": "code",
   "execution_count": 3,
   "metadata": {},
   "outputs": [],
   "source": [
    "import os\n",
    "from sklearn.linear_model import PoissonRegressor\n",
    "import pandas as pd\n",
    "from sklearn.model_selection import train_test_split\n",
    "from sklearn import preprocessing\n",
    "from sklearn.metrics import mean_squared_error\n",
    "import numpy as np\n",
    "import statsmodels.formula.api as smf\n",
    "import statsmodels.api as sm\n",
    "from scipy.stats import poisson\n",
    "from scipy.stats import nbinom\n",
    "from patsy import dmatrices\n",
    "os.chdir(os.path.expanduser(\"~/Desktop/Classes/Research/deep_uncertainty/deep_uncertainty\"))\n",
    "from deep_uncertainty.evaluation.calibration import compute_mean_calibration, plot_regression_calibration_curve, display_bayes_credible_interval"
   ]
  },
  {
   "cell_type": "markdown",
   "metadata": {},
   "source": [
    "# Bikes Data"
   ]
  },
  {
   "cell_type": "markdown",
   "metadata": {},
   "source": [
    "Poisson"
   ]
  },
  {
   "cell_type": "code",
   "execution_count": 69,
   "metadata": {},
   "outputs": [],
   "source": [
    "bikes = pd.read_csv('deep_uncertainty/data/bikes/hour.csv')\n",
    "# bikes = bikes[:1000]"
   ]
  },
  {
   "cell_type": "code",
   "execution_count": 70,
   "metadata": {},
   "outputs": [],
   "source": [
    "bikes = bikes.drop(['dteday', 'instant', 'registered'], axis=1)\n",
    "X = bikes.iloc[:,:-1]\n",
    "X = preprocessing.StandardScaler().fit_transform(X)\n",
    "mask = np.random.rand(len(bikes)) < 0.8\n",
    "df_train = bikes[mask]\n",
    "df_test = bikes[~mask]\n",
    "\n",
    "expr = \"cnt ~ \" + \" + \".join(bikes.columns[:-1])\n",
    "expr\n",
    "\n",
    "y_train, X_train = dmatrices(expr, df_train, return_type='dataframe')\n",
    "y_test, X_test = dmatrices(expr, df_test, return_type='dataframe')\n",
    "\n",
    "poisson_training_results = sm.GLM(y_train, X_train, family=sm.families.Poisson()).fit()\n",
    "poisson_testing_results = sm.GLM(y_test, X_test, family=sm.families.Poisson()).fit()\n",
    "# print(poisson_training_results.summary())"
   ]
  },
  {
   "cell_type": "code",
   "execution_count": 71,
   "metadata": {},
   "outputs": [
    {
     "data": {
      "text/plain": [
       "array([[ 19.,  56.],\n",
       "       [ 24.,  64.],\n",
       "       [ 53., 108.],\n",
       "       [ 46.,  98.],\n",
       "       [ 41.,  91.],\n",
       "       [ 19.,  55.],\n",
       "       [ 21.,  59.],\n",
       "       [ 22.,  61.],\n",
       "       [ 27.,  68.],\n",
       "       [ 30.,  74.]])"
      ]
     },
     "execution_count": 71,
     "metadata": {},
     "output_type": "execute_result"
    }
   ],
   "source": [
    "y_preds = poisson_testing_results.mu\n",
    "posterior_predictive = poisson(mu=y_preds)\n",
    "np.column_stack([posterior_predictive.ppf(0.001), posterior_predictive.ppf(0.999)])[:10]"
   ]
  },
  {
   "cell_type": "code",
   "execution_count": 72,
   "metadata": {},
   "outputs": [
    {
     "data": {
      "text/plain": [
       "Intercept     3.404410\n",
       "season        0.098715\n",
       "yr            0.289982\n",
       "mnth          0.006788\n",
       "hr            0.040598\n",
       "holiday       0.007363\n",
       "weekday      -0.005990\n",
       "workingday    0.506906\n",
       "weathersit   -0.032532\n",
       "temp         -0.110429\n",
       "atemp         0.776292\n",
       "hum          -0.321590\n",
       "windspeed     0.232221\n",
       "casual        0.007304\n",
       "dtype: float64"
      ]
     },
     "execution_count": 72,
     "metadata": {},
     "output_type": "execute_result"
    }
   ],
   "source": [
    "poisson_training_results.params"
   ]
  },
  {
   "cell_type": "code",
   "execution_count": 73,
   "metadata": {},
   "outputs": [
    {
     "data": {
      "text/plain": [
       "array([[  1.],\n",
       "       [  8.],\n",
       "       [110.],\n",
       "       [ 67.],\n",
       "       [ 37.],\n",
       "       [ 17.],\n",
       "       [  6.],\n",
       "       [  3.],\n",
       "       [  8.],\n",
       "       [ 20.]])"
      ]
     },
     "execution_count": 73,
     "metadata": {},
     "output_type": "execute_result"
    }
   ],
   "source": [
    "y_test[:10].values"
   ]
  },
  {
   "cell_type": "code",
   "execution_count": 74,
   "metadata": {},
   "outputs": [
    {
     "data": {
      "text/plain": [
       "16788.52866980368"
      ]
     },
     "execution_count": 74,
     "metadata": {},
     "output_type": "execute_result"
    }
   ],
   "source": [
    "mse = mean_squared_error(y_preds, y_test)\n",
    "mse"
   ]
  },
  {
   "cell_type": "code",
   "execution_count": 75,
   "metadata": {},
   "outputs": [
    {
     "data": {
      "text/plain": [
       "129.57055479468968"
      ]
     },
     "execution_count": 75,
     "metadata": {},
     "output_type": "execute_result"
    }
   ],
   "source": [
    "np.sqrt(mse)"
   ]
  },
  {
   "cell_type": "code",
   "execution_count": 76,
   "metadata": {},
   "outputs": [
    {
     "data": {
      "text/plain": [
       "189.46308763450142"
      ]
     },
     "execution_count": 76,
     "metadata": {},
     "output_type": "execute_result"
    }
   ],
   "source": [
    "bikes['cnt'].mean()"
   ]
  },
  {
   "cell_type": "code",
   "execution_count": 77,
   "metadata": {},
   "outputs": [
    {
     "data": {
      "text/plain": [
       "181.38759909186527"
      ]
     },
     "execution_count": 77,
     "metadata": {},
     "output_type": "execute_result"
    }
   ],
   "source": [
    "bikes['cnt'].std()"
   ]
  },
  {
   "cell_type": "code",
   "execution_count": 78,
   "metadata": {},
   "outputs": [
    {
     "ename": "KeyboardInterrupt",
     "evalue": "",
     "output_type": "error",
     "traceback": [
      "\u001b[0;31m---------------------------------------------------------------------------\u001b[0m",
      "\u001b[0;31mKeyboardInterrupt\u001b[0m                         Traceback (most recent call last)",
      "Cell \u001b[0;32mIn[78], line 2\u001b[0m\n\u001b[1;32m      1\u001b[0m \u001b[38;5;66;03m# Poisson calibration\u001b[39;00m\n\u001b[0;32m----> 2\u001b[0m compute_mean_calibration(np\u001b[38;5;241m.\u001b[39marray(y_test), posterior_predictive)\n",
      "File \u001b[0;32m~/Desktop/Classes/Research/deep_uncertainty/deep_uncertainty/deep_uncertainty/evaluation/calibration.py:177\u001b[0m, in \u001b[0;36mcompute_mean_calibration\u001b[0;34m(y_true, posterior_predictive_distribution)\u001b[0m\n\u001b[1;32m    175\u001b[0m \u001b[38;5;28;01mwith\u001b[39;00m warnings\u001b[38;5;241m.\u001b[39mcatch_warnings():  \u001b[38;5;66;03m# Scipy passes back an annoying integration warning that doesn't affect the output.\u001b[39;00m\n\u001b[1;32m    176\u001b[0m     warnings\u001b[38;5;241m.\u001b[39msimplefilter(\u001b[38;5;124m\"\u001b[39m\u001b[38;5;124mignore\u001b[39m\u001b[38;5;124m\"\u001b[39m)\n\u001b[0;32m--> 177\u001b[0m     area_between_model_and_perfect_calibration_curve \u001b[38;5;241m=\u001b[39m quad(f, \u001b[38;5;241m0\u001b[39m, \u001b[38;5;241m1\u001b[39m)[\u001b[38;5;241m0\u001b[39m]\n\u001b[1;32m    179\u001b[0m calibration_score \u001b[38;5;241m=\u001b[39m \u001b[38;5;241m1\u001b[39m \u001b[38;5;241m-\u001b[39m ((\u001b[38;5;241m4\u001b[39m \u001b[38;5;241m/\u001b[39m \u001b[38;5;241m3\u001b[39m) \u001b[38;5;241m*\u001b[39m area_between_model_and_perfect_calibration_curve)\n\u001b[1;32m    180\u001b[0m \u001b[38;5;28;01mreturn\u001b[39;00m calibration_score\n",
      "File \u001b[0;32m/opt/homebrew/anaconda3/lib/python3.11/site-packages/scipy/integrate/_quadpack_py.py:465\u001b[0m, in \u001b[0;36mquad\u001b[0;34m(func, a, b, args, full_output, epsabs, epsrel, limit, points, weight, wvar, wopts, maxp1, limlst, complex_func)\u001b[0m\n\u001b[1;32m    462\u001b[0m     \u001b[38;5;28;01mreturn\u001b[39;00m retval\n\u001b[1;32m    464\u001b[0m \u001b[38;5;28;01mif\u001b[39;00m weight \u001b[38;5;129;01mis\u001b[39;00m \u001b[38;5;28;01mNone\u001b[39;00m:\n\u001b[0;32m--> 465\u001b[0m     retval \u001b[38;5;241m=\u001b[39m _quad(func, a, b, args, full_output, epsabs, epsrel, limit,\n\u001b[1;32m    466\u001b[0m                    points)\n\u001b[1;32m    467\u001b[0m \u001b[38;5;28;01melse\u001b[39;00m:\n\u001b[1;32m    468\u001b[0m     \u001b[38;5;28;01mif\u001b[39;00m points \u001b[38;5;129;01mis\u001b[39;00m \u001b[38;5;129;01mnot\u001b[39;00m \u001b[38;5;28;01mNone\u001b[39;00m:\n",
      "File \u001b[0;32m/opt/homebrew/anaconda3/lib/python3.11/site-packages/scipy/integrate/_quadpack_py.py:577\u001b[0m, in \u001b[0;36m_quad\u001b[0;34m(func, a, b, args, full_output, epsabs, epsrel, limit, points)\u001b[0m\n\u001b[1;32m    575\u001b[0m \u001b[38;5;28;01mif\u001b[39;00m points \u001b[38;5;129;01mis\u001b[39;00m \u001b[38;5;28;01mNone\u001b[39;00m:\n\u001b[1;32m    576\u001b[0m     \u001b[38;5;28;01mif\u001b[39;00m infbounds \u001b[38;5;241m==\u001b[39m \u001b[38;5;241m0\u001b[39m:\n\u001b[0;32m--> 577\u001b[0m         \u001b[38;5;28;01mreturn\u001b[39;00m _quadpack\u001b[38;5;241m.\u001b[39m_qagse(func,a,b,args,full_output,epsabs,epsrel,limit)\n\u001b[1;32m    578\u001b[0m     \u001b[38;5;28;01melse\u001b[39;00m:\n\u001b[1;32m    579\u001b[0m         \u001b[38;5;28;01mreturn\u001b[39;00m _quadpack\u001b[38;5;241m.\u001b[39m_qagie(func,bound,infbounds,args,full_output,epsabs,epsrel,limit)\n",
      "File \u001b[0;32m~/Desktop/Classes/Research/deep_uncertainty/deep_uncertainty/deep_uncertainty/evaluation/calibration.py:170\u001b[0m, in \u001b[0;36mcompute_mean_calibration.<locals>.f\u001b[0;34m(p)\u001b[0m\n\u001b[1;32m    169\u001b[0m \u001b[38;5;28;01mdef\u001b[39;00m \u001b[38;5;21mf\u001b[39m(p: \u001b[38;5;28mfloat\u001b[39m):\n\u001b[0;32m--> 170\u001b[0m     pct_in_pred_credible_interval \u001b[38;5;241m=\u001b[39m get_pct_of_targets_in_pred_credible_interval(\n\u001b[1;32m    171\u001b[0m         y_true, posterior_predictive_distribution, p\n\u001b[1;32m    172\u001b[0m     )\n\u001b[1;32m    173\u001b[0m     \u001b[38;5;28;01mreturn\u001b[39;00m \u001b[38;5;28mabs\u001b[39m(pct_in_pred_credible_interval \u001b[38;5;241m-\u001b[39m p)\n",
      "File \u001b[0;32m~/Desktop/Classes/Research/deep_uncertainty/deep_uncertainty/deep_uncertainty/evaluation/calibration.py:102\u001b[0m, in \u001b[0;36mget_pct_of_targets_in_pred_credible_interval\u001b[0;34m(y_true, posterior_predictive_distribution, p)\u001b[0m\n\u001b[1;32m     96\u001b[0m credible_interval_min, credible_interval_max \u001b[38;5;241m=\u001b[39m get_bayes_credible_interval(\n\u001b[1;32m     97\u001b[0m     posterior_predictive_distribution, p\n\u001b[1;32m     98\u001b[0m )\n\u001b[1;32m     99\u001b[0m target_is_in_credible_interval \u001b[38;5;241m=\u001b[39m (y_true \u001b[38;5;241m>\u001b[39m\u001b[38;5;241m=\u001b[39m credible_interval_min) \u001b[38;5;241m&\u001b[39m (\n\u001b[1;32m    100\u001b[0m     y_true \u001b[38;5;241m<\u001b[39m\u001b[38;5;241m=\u001b[39m credible_interval_max\n\u001b[1;32m    101\u001b[0m )\n\u001b[0;32m--> 102\u001b[0m pct_of_targets_in_pred_credible_interval \u001b[38;5;241m=\u001b[39m target_is_in_credible_interval\u001b[38;5;241m.\u001b[39mmean()\n\u001b[1;32m    104\u001b[0m \u001b[38;5;28;01mreturn\u001b[39;00m pct_of_targets_in_pred_credible_interval\n",
      "File \u001b[0;32m/opt/homebrew/anaconda3/lib/python3.11/site-packages/numpy/core/_methods.py:101\u001b[0m, in \u001b[0;36m_mean\u001b[0;34m(a, axis, dtype, out, keepdims, where)\u001b[0m\n\u001b[1;32m     98\u001b[0m     \u001b[38;5;28;01melse\u001b[39;00m:\n\u001b[1;32m     99\u001b[0m         \u001b[38;5;28;01mreturn\u001b[39;00m um\u001b[38;5;241m.\u001b[39mclip(a, \u001b[38;5;28mmin\u001b[39m, \u001b[38;5;28mmax\u001b[39m, out\u001b[38;5;241m=\u001b[39mout, \u001b[38;5;241m*\u001b[39m\u001b[38;5;241m*\u001b[39mkwargs)\n\u001b[0;32m--> 101\u001b[0m \u001b[38;5;28;01mdef\u001b[39;00m \u001b[38;5;21m_mean\u001b[39m(a, axis\u001b[38;5;241m=\u001b[39m\u001b[38;5;28;01mNone\u001b[39;00m, dtype\u001b[38;5;241m=\u001b[39m\u001b[38;5;28;01mNone\u001b[39;00m, out\u001b[38;5;241m=\u001b[39m\u001b[38;5;28;01mNone\u001b[39;00m, keepdims\u001b[38;5;241m=\u001b[39m\u001b[38;5;28;01mFalse\u001b[39;00m, \u001b[38;5;241m*\u001b[39m, where\u001b[38;5;241m=\u001b[39m\u001b[38;5;28;01mTrue\u001b[39;00m):\n\u001b[1;32m    102\u001b[0m     arr \u001b[38;5;241m=\u001b[39m asanyarray(a)\n\u001b[1;32m    104\u001b[0m     is_float16_result \u001b[38;5;241m=\u001b[39m \u001b[38;5;28;01mFalse\u001b[39;00m\n",
      "\u001b[0;31mKeyboardInterrupt\u001b[0m: "
     ]
    }
   ],
   "source": [
    "# Poisson calibration\n",
    "compute_mean_calibration(np.array(y_test), posterior_predictive)"
   ]
  },
  {
   "cell_type": "code",
   "execution_count": 12,
   "metadata": {},
   "outputs": [
    {
     "data": {
      "image/png": "[encoded data removed]",
      "text/plain": [
       "<Figure size 640x480 with 1 Axes>"
      ]
     },
     "metadata": {},
     "output_type": "display_data"
    }
   ],
   "source": [
    "plot_regression_calibration_curve(np.array(y_test), posterior_predictive, num_bins=9)"
   ]
  },
  {
   "cell_type": "markdown",
   "metadata": {},
   "source": [
    "Negative Binomial"
   ]
  },
  {
   "cell_type": "code",
   "execution_count": 79,
   "metadata": {},
   "outputs": [
    {
     "name": "stderr",
     "output_type": "stream",
     "text": [
      "/var/folders/xg/5n69np453nn3pzzpyw20jrp40000gn/T/ipykernel_48925/4066697801.py:1: SettingWithCopyWarning: \n",
      "A value is trying to be set on a copy of a slice from a DataFrame.\n",
      "Try using .loc[row_indexer,col_indexer] = value instead\n",
      "\n",
      "See the caveats in the documentation: https://pandas.pydata.org/pandas-docs/stable/user_guide/indexing.html#returning-a-view-versus-a-copy\n",
      "  df_train[\"BB_LAMBDA\"] = poisson_training_results.mu\n",
      "/var/folders/xg/5n69np453nn3pzzpyw20jrp40000gn/T/ipykernel_48925/4066697801.py:2: SettingWithCopyWarning: \n",
      "A value is trying to be set on a copy of a slice from a DataFrame.\n",
      "Try using .loc[row_indexer,col_indexer] = value instead\n",
      "\n",
      "See the caveats in the documentation: https://pandas.pydata.org/pandas-docs/stable/user_guide/indexing.html#returning-a-view-versus-a-copy\n",
      "  df_train['AUX_OLS_DEP'] = df_train.apply(lambda x: ((x['cnt'] - x['BB_LAMBDA'])**2 - x['BB_LAMBDA']) / x['BB_LAMBDA'], axis=1)\n",
      "/var/folders/xg/5n69np453nn3pzzpyw20jrp40000gn/T/ipykernel_48925/4066697801.py:5: FutureWarning: Series.__getitem__ treating keys as positions is deprecated. In a future version, integer keys will always be treated as labels (consistent with DataFrame behavior). To access a value by position, use `ser.iloc[pos]`\n",
      "  nb2_training_results = sm.GLM(y_train, X_train,family=sm.families.NegativeBinomial(alpha=aux_olsr_results.params[0])).fit()\n",
      "/opt/homebrew/anaconda3/lib/python3.11/site-packages/statsmodels/genmod/generalized_linear_model.py:900: FutureWarning: linear keyword is deprecated, use which=\"linear\"\n",
      "  warnings.warn(msg, FutureWarning)\n"
     ]
    }
   ],
   "source": [
    "df_train[\"BB_LAMBDA\"] = poisson_training_results.mu\n",
    "df_train['AUX_OLS_DEP'] = df_train.apply(lambda x: ((x['cnt'] - x['BB_LAMBDA'])**2 - x['BB_LAMBDA']) / x['BB_LAMBDA'], axis=1)\n",
    "ols_expr = \"\"\"AUX_OLS_DEP ~ BB_LAMBDA - 1\"\"\"\n",
    "aux_olsr_results = smf.ols(ols_expr, df_train).fit()\n",
    "nb2_training_results = sm.GLM(y_train, X_train,family=sm.families.NegativeBinomial(alpha=aux_olsr_results.params[0])).fit()\n",
    "nb2_predictions = nb2_training_results.get_prediction(X_test)\n",
    "successes = nb2_training_results.predict(X_test, linear=True)\n",
    "predictions_summary_frame = nb2_predictions.summary_frame()\n",
    "predicted_counts=predictions_summary_frame['mean']"
   ]
  },
  {
   "cell_type": "code",
   "execution_count": 80,
   "metadata": {},
   "outputs": [
    {
     "data": {
      "text/plain": [
       "Intercept     2.959874\n",
       "season        0.122840\n",
       "yr            0.335876\n",
       "mnth          0.002108\n",
       "hr            0.052598\n",
       "holiday      -0.000544\n",
       "weekday       0.007031\n",
       "workingday    0.562107\n",
       "weathersit   -0.044585\n",
       "temp         -0.449710\n",
       "atemp         0.865668\n",
       "hum          -0.174929\n",
       "windspeed     0.277016\n",
       "casual        0.011579\n",
       "dtype: float64"
      ]
     },
     "execution_count": 80,
     "metadata": {},
     "output_type": "execute_result"
    }
   ],
   "source": [
    "nb2_training_results.params"
   ]
  },
  {
   "cell_type": "code",
   "execution_count": 83,
   "metadata": {},
   "outputs": [
    {
     "data": {
      "text/plain": [
       "array([[  273., 12773.],\n",
       "       [  308., 12383.],\n",
       "       [  444., 11161.],\n",
       "       [  415., 11392.],\n",
       "       [  405., 11473.],\n",
       "       [  250., 13054.],\n",
       "       [  265., 12868.],\n",
       "       [  273., 12769.],\n",
       "       [  302., 12451.],\n",
       "       [  316., 12293.]])"
      ]
     },
     "execution_count": 83,
     "metadata": {},
     "output_type": "execute_result"
    }
   ],
   "source": [
    "y_preds = predicted_counts\n",
    "y_test = y_test['cnt']\n",
    "# n is # of successes\n",
    "n = successes\n",
    "# p is the probability of success\n",
    "p = successes / len(y_test)\n",
    "posterior_predictive = nbinom(p=p, n=n)\n",
    "np.column_stack([posterior_predictive.ppf(0.001), posterior_predictive.ppf(0.999)])[:10]"
   ]
  },
  {
   "cell_type": "code",
   "execution_count": 86,
   "metadata": {},
   "outputs": [
    {
     "data": {
      "text/plain": [
       "82832.74488982839"
      ]
     },
     "execution_count": 86,
     "metadata": {},
     "output_type": "execute_result"
    }
   ],
   "source": [
    "mse = mean_squared_error(y_preds, y_test)\n",
    "mse"
   ]
  },
  {
   "cell_type": "code",
   "execution_count": 87,
   "metadata": {},
   "outputs": [
    {
     "data": {
      "text/plain": [
       "287.8067839537984"
      ]
     },
     "execution_count": 87,
     "metadata": {},
     "output_type": "execute_result"
    }
   ],
   "source": [
    "np.sqrt(mse)"
   ]
  },
  {
   "cell_type": "code",
   "execution_count": 88,
   "metadata": {},
   "outputs": [
    {
     "data": {
      "text/plain": [
       "array([  1.,   8., 110.,  67.,  37.,  17.,   6.,   3.,   8.,  20.])"
      ]
     },
     "execution_count": 88,
     "metadata": {},
     "output_type": "execute_result"
    }
   ],
   "source": [
    "y_test[:10].values"
   ]
  },
  {
   "cell_type": "code",
   "execution_count": 89,
   "metadata": {},
   "outputs": [
    {
     "ename": "KeyboardInterrupt",
     "evalue": "",
     "output_type": "error",
     "traceback": [
      "\u001b[0;31m---------------------------------------------------------------------------\u001b[0m",
      "\u001b[0;31mKeyboardInterrupt\u001b[0m                         Traceback (most recent call last)",
      "Cell \u001b[0;32mIn[89], line 2\u001b[0m\n\u001b[1;32m      1\u001b[0m \u001b[38;5;66;03m# Negative Binomial calibration\u001b[39;00m\n\u001b[0;32m----> 2\u001b[0m compute_mean_calibration(np\u001b[38;5;241m.\u001b[39marray(y_test), posterior_predictive)\n",
      "File \u001b[0;32m~/Desktop/Classes/Research/deep_uncertainty/deep_uncertainty/deep_uncertainty/evaluation/calibration.py:177\u001b[0m, in \u001b[0;36mcompute_mean_calibration\u001b[0;34m(y_true, posterior_predictive_distribution)\u001b[0m\n\u001b[1;32m    175\u001b[0m \u001b[38;5;28;01mwith\u001b[39;00m warnings\u001b[38;5;241m.\u001b[39mcatch_warnings():  \u001b[38;5;66;03m# Scipy passes back an annoying integration warning that doesn't affect the output.\u001b[39;00m\n\u001b[1;32m    176\u001b[0m     warnings\u001b[38;5;241m.\u001b[39msimplefilter(\u001b[38;5;124m\"\u001b[39m\u001b[38;5;124mignore\u001b[39m\u001b[38;5;124m\"\u001b[39m)\n\u001b[0;32m--> 177\u001b[0m     area_between_model_and_perfect_calibration_curve \u001b[38;5;241m=\u001b[39m quad(f, \u001b[38;5;241m0\u001b[39m, \u001b[38;5;241m1\u001b[39m)[\u001b[38;5;241m0\u001b[39m]\n\u001b[1;32m    179\u001b[0m calibration_score \u001b[38;5;241m=\u001b[39m \u001b[38;5;241m1\u001b[39m \u001b[38;5;241m-\u001b[39m ((\u001b[38;5;241m4\u001b[39m \u001b[38;5;241m/\u001b[39m \u001b[38;5;241m3\u001b[39m) \u001b[38;5;241m*\u001b[39m area_between_model_and_perfect_calibration_curve)\n\u001b[1;32m    180\u001b[0m \u001b[38;5;28;01mreturn\u001b[39;00m calibration_score\n",
      "File \u001b[0;32m/opt/homebrew/anaconda3/lib/python3.11/site-packages/scipy/integrate/_quadpack_py.py:465\u001b[0m, in \u001b[0;36mquad\u001b[0;34m(func, a, b, args, full_output, epsabs, epsrel, limit, points, weight, wvar, wopts, maxp1, limlst, complex_func)\u001b[0m\n\u001b[1;32m    462\u001b[0m     \u001b[38;5;28;01mreturn\u001b[39;00m retval\n\u001b[1;32m    464\u001b[0m \u001b[38;5;28;01mif\u001b[39;00m weight \u001b[38;5;129;01mis\u001b[39;00m \u001b[38;5;28;01mNone\u001b[39;00m:\n\u001b[0;32m--> 465\u001b[0m     retval \u001b[38;5;241m=\u001b[39m _quad(func, a, b, args, full_output, epsabs, epsrel, limit,\n\u001b[1;32m    466\u001b[0m                    points)\n\u001b[1;32m    467\u001b[0m \u001b[38;5;28;01melse\u001b[39;00m:\n\u001b[1;32m    468\u001b[0m     \u001b[38;5;28;01mif\u001b[39;00m points \u001b[38;5;129;01mis\u001b[39;00m \u001b[38;5;129;01mnot\u001b[39;00m \u001b[38;5;28;01mNone\u001b[39;00m:\n",
      "File \u001b[0;32m/opt/homebrew/anaconda3/lib/python3.11/site-packages/scipy/integrate/_quadpack_py.py:577\u001b[0m, in \u001b[0;36m_quad\u001b[0;34m(func, a, b, args, full_output, epsabs, epsrel, limit, points)\u001b[0m\n\u001b[1;32m    575\u001b[0m \u001b[38;5;28;01mif\u001b[39;00m points \u001b[38;5;129;01mis\u001b[39;00m \u001b[38;5;28;01mNone\u001b[39;00m:\n\u001b[1;32m    576\u001b[0m     \u001b[38;5;28;01mif\u001b[39;00m infbounds \u001b[38;5;241m==\u001b[39m \u001b[38;5;241m0\u001b[39m:\n\u001b[0;32m--> 577\u001b[0m         \u001b[38;5;28;01mreturn\u001b[39;00m _quadpack\u001b[38;5;241m.\u001b[39m_qagse(func,a,b,args,full_output,epsabs,epsrel,limit)\n\u001b[1;32m    578\u001b[0m     \u001b[38;5;28;01melse\u001b[39;00m:\n\u001b[1;32m    579\u001b[0m         \u001b[38;5;28;01mreturn\u001b[39;00m _quadpack\u001b[38;5;241m.\u001b[39m_qagie(func,bound,infbounds,args,full_output,epsabs,epsrel,limit)\n",
      "File \u001b[0;32m~/Desktop/Classes/Research/deep_uncertainty/deep_uncertainty/deep_uncertainty/evaluation/calibration.py:170\u001b[0m, in \u001b[0;36mcompute_mean_calibration.<locals>.f\u001b[0;34m(p)\u001b[0m\n\u001b[1;32m    169\u001b[0m \u001b[38;5;28;01mdef\u001b[39;00m \u001b[38;5;21mf\u001b[39m(p: \u001b[38;5;28mfloat\u001b[39m):\n\u001b[0;32m--> 170\u001b[0m     pct_in_pred_credible_interval \u001b[38;5;241m=\u001b[39m get_pct_of_targets_in_pred_credible_interval(\n\u001b[1;32m    171\u001b[0m         y_true, posterior_predictive_distribution, p\n\u001b[1;32m    172\u001b[0m     )\n\u001b[1;32m    173\u001b[0m     \u001b[38;5;28;01mreturn\u001b[39;00m \u001b[38;5;28mabs\u001b[39m(pct_in_pred_credible_interval \u001b[38;5;241m-\u001b[39m p)\n",
      "File \u001b[0;32m~/Desktop/Classes/Research/deep_uncertainty/deep_uncertainty/deep_uncertainty/evaluation/calibration.py:96\u001b[0m, in \u001b[0;36mget_pct_of_targets_in_pred_credible_interval\u001b[0;34m(y_true, posterior_predictive_distribution, p)\u001b[0m\n\u001b[1;32m     84\u001b[0m \u001b[38;5;28;01mdef\u001b[39;00m \u001b[38;5;21mget_pct_of_targets_in_pred_credible_interval\u001b[39m(\n\u001b[1;32m     85\u001b[0m     y_true: np\u001b[38;5;241m.\u001b[39mndarray, posterior_predictive_distribution, p: \u001b[38;5;28mfloat\u001b[39m \u001b[38;5;241m=\u001b[39m \u001b[38;5;241m0.95\u001b[39m\n\u001b[1;32m     86\u001b[0m ) \u001b[38;5;241m-\u001b[39m\u001b[38;5;241m>\u001b[39m \u001b[38;5;28mfloat\u001b[39m:\n\u001b[1;32m     87\u001b[0m \u001b[38;5;250m    \u001b[39m\u001b[38;5;124;03m\"\"\"Return the percentage of ground truth targets that are within the p% credible interval of a probabilistic regression model.\u001b[39;00m\n\u001b[1;32m     88\u001b[0m \n\u001b[1;32m     89\u001b[0m \u001b[38;5;124;03m    Args:\u001b[39;00m\n\u001b[0;32m   (...)\u001b[0m\n\u001b[1;32m     94\u001b[0m \u001b[38;5;124;03m        pct_of_targets_in_pred_credible_interval (float): The percentage of ground truth targets that are within the specified confidence interval of the model.\u001b[39;00m\n\u001b[1;32m     95\u001b[0m \u001b[38;5;124;03m    \"\"\"\u001b[39;00m\n\u001b[0;32m---> 96\u001b[0m     credible_interval_min, credible_interval_max \u001b[38;5;241m=\u001b[39m get_bayes_credible_interval(\n\u001b[1;32m     97\u001b[0m         posterior_predictive_distribution, p\n\u001b[1;32m     98\u001b[0m     )\n\u001b[1;32m     99\u001b[0m     target_is_in_credible_interval \u001b[38;5;241m=\u001b[39m (y_true \u001b[38;5;241m>\u001b[39m\u001b[38;5;241m=\u001b[39m credible_interval_min) \u001b[38;5;241m&\u001b[39m (\n\u001b[1;32m    100\u001b[0m         y_true \u001b[38;5;241m<\u001b[39m\u001b[38;5;241m=\u001b[39m credible_interval_max\n\u001b[1;32m    101\u001b[0m     )\n\u001b[1;32m    102\u001b[0m     pct_of_targets_in_pred_credible_interval \u001b[38;5;241m=\u001b[39m target_is_in_credible_interval\u001b[38;5;241m.\u001b[39mmean()\n",
      "File \u001b[0;32m~/Desktop/Classes/Research/deep_uncertainty/deep_uncertainty/deep_uncertainty/evaluation/calibration.py:26\u001b[0m, in \u001b[0;36mget_bayes_credible_interval\u001b[0;34m(rv, p)\u001b[0m\n\u001b[1;32m     24\u001b[0m p_low \u001b[38;5;241m=\u001b[39m (\u001b[38;5;241m1\u001b[39m \u001b[38;5;241m-\u001b[39m p) \u001b[38;5;241m/\u001b[39m \u001b[38;5;241m2\u001b[39m\n\u001b[1;32m     25\u001b[0m p_high \u001b[38;5;241m=\u001b[39m p_low \u001b[38;5;241m+\u001b[39m p\n\u001b[0;32m---> 26\u001b[0m credible_interval_min, credible_interval_max \u001b[38;5;241m=\u001b[39m rv\u001b[38;5;241m.\u001b[39mppf(p_low), rv\u001b[38;5;241m.\u001b[39mppf(p_high)\n\u001b[1;32m     28\u001b[0m \u001b[38;5;28;01mreturn\u001b[39;00m credible_interval_min, credible_interval_max\n",
      "File \u001b[0;32m/opt/homebrew/anaconda3/lib/python3.11/site-packages/scipy/stats/_distn_infrastructure.py:483\u001b[0m, in \u001b[0;36mrv_frozen.ppf\u001b[0;34m(self, q)\u001b[0m\n\u001b[1;32m    482\u001b[0m \u001b[38;5;28;01mdef\u001b[39;00m \u001b[38;5;21mppf\u001b[39m(\u001b[38;5;28mself\u001b[39m, q):\n\u001b[0;32m--> 483\u001b[0m     \u001b[38;5;28;01mreturn\u001b[39;00m \u001b[38;5;28mself\u001b[39m\u001b[38;5;241m.\u001b[39mdist\u001b[38;5;241m.\u001b[39mppf(q, \u001b[38;5;241m*\u001b[39m\u001b[38;5;28mself\u001b[39m\u001b[38;5;241m.\u001b[39margs, \u001b[38;5;241m*\u001b[39m\u001b[38;5;241m*\u001b[39m\u001b[38;5;28mself\u001b[39m\u001b[38;5;241m.\u001b[39mkwds)\n",
      "File \u001b[0;32m/opt/homebrew/anaconda3/lib/python3.11/site-packages/scipy/stats/_distn_infrastructure.py:3618\u001b[0m, in \u001b[0;36mrv_discrete.ppf\u001b[0;34m(self, q, *args, **kwds)\u001b[0m\n\u001b[1;32m   3616\u001b[0m     goodargs \u001b[38;5;241m=\u001b[39m argsreduce(cond, \u001b[38;5;241m*\u001b[39m((q,)\u001b[38;5;241m+\u001b[39margs\u001b[38;5;241m+\u001b[39m(loc,)))\n\u001b[1;32m   3617\u001b[0m     loc, goodargs \u001b[38;5;241m=\u001b[39m goodargs[\u001b[38;5;241m-\u001b[39m\u001b[38;5;241m1\u001b[39m], goodargs[:\u001b[38;5;241m-\u001b[39m\u001b[38;5;241m1\u001b[39m]\n\u001b[0;32m-> 3618\u001b[0m     place(output, cond, \u001b[38;5;28mself\u001b[39m\u001b[38;5;241m.\u001b[39m_ppf(\u001b[38;5;241m*\u001b[39mgoodargs) \u001b[38;5;241m+\u001b[39m loc)\n\u001b[1;32m   3620\u001b[0m \u001b[38;5;28;01mif\u001b[39;00m output\u001b[38;5;241m.\u001b[39mndim \u001b[38;5;241m==\u001b[39m \u001b[38;5;241m0\u001b[39m:\n\u001b[1;32m   3621\u001b[0m     \u001b[38;5;28;01mreturn\u001b[39;00m output[()]\n",
      "File \u001b[0;32m/opt/homebrew/anaconda3/lib/python3.11/site-packages/scipy/stats/_discrete_distns.py:362\u001b[0m, in \u001b[0;36mnbinom_gen._ppf\u001b[0;34m(self, q, n, p)\u001b[0m\n\u001b[1;32m    360\u001b[0m \u001b[38;5;28;01mdef\u001b[39;00m \u001b[38;5;21m_ppf\u001b[39m(\u001b[38;5;28mself\u001b[39m, q, n, p):\n\u001b[1;32m    361\u001b[0m     \u001b[38;5;28;01mwith\u001b[39;00m np\u001b[38;5;241m.\u001b[39merrstate(over\u001b[38;5;241m=\u001b[39m\u001b[38;5;124m'\u001b[39m\u001b[38;5;124mignore\u001b[39m\u001b[38;5;124m'\u001b[39m):  \u001b[38;5;66;03m# see gh-17432\u001b[39;00m\n\u001b[0;32m--> 362\u001b[0m         \u001b[38;5;28;01mreturn\u001b[39;00m _boost\u001b[38;5;241m.\u001b[39m_nbinom_ppf(q, n, p)\n",
      "\u001b[0;31mKeyboardInterrupt\u001b[0m: "
     ]
    }
   ],
   "source": [
    "# Negative Binomial calibration\n",
    "compute_mean_calibration(np.array(y_test), posterior_predictive)"
   ]
  },
  {
   "cell_type": "code",
   "execution_count": 18,
   "metadata": {},
   "outputs": [
    {
     "data": {
      "image/png": "[encoded data removed]",
      "text/plain": [
       "<Figure size 640x480 with 1 Axes>"
      ]
     },
     "metadata": {},
     "output_type": "display_data"
    }
   ],
   "source": [
    "plot_regression_calibration_curve(np.array(y_test), posterior_predictive, num_bins=9)"
   ]
  },
  {
   "cell_type": "markdown",
   "metadata": {},
   "source": [
    "# Sales Data"
   ]
  },
  {
   "cell_type": "markdown",
   "metadata": {},
   "source": [
    "Poisson"
   ]
  },
  {
   "cell_type": "code",
   "execution_count": 4,
   "metadata": {},
   "outputs": [],
   "source": [
    "sales = pd.read_csv('deep_uncertainty/data/dominicks/cleaned_bath_counts.csv', low_memory=False)"
   ]
  },
  {
   "cell_type": "code",
   "execution_count": 5,
   "metadata": {},
   "outputs": [
    {
     "data": {
      "text/html": [
       "<div>\n",
       "<style scoped>\n",
       "    .dataframe tbody tr th:only-of-type {\n",
       "        vertical-align: middle;\n",
       "    }\n",
       "\n",
       "    .dataframe tbody tr th {\n",
       "        vertical-align: top;\n",
       "    }\n",
       "\n",
       "    .dataframe thead th {\n",
       "        text-align: right;\n",
       "    }\n",
       "</style>\n",
       "<table border=\"1\" class=\"dataframe\">\n",
       "  <thead>\n",
       "    <tr style=\"text-align: right;\">\n",
       "      <th></th>\n",
       "      <th>UPC</th>\n",
       "      <th>STORE</th>\n",
       "      <th>WEEK</th>\n",
       "      <th>QTY</th>\n",
       "      <th>PRICE</th>\n",
       "      <th>PROFIT</th>\n",
       "      <th>OK</th>\n",
       "      <th>NAME</th>\n",
       "      <th>CITY</th>\n",
       "      <th>ZIP</th>\n",
       "      <th>...</th>\n",
       "      <th>GROUP4</th>\n",
       "      <th>GROUP5</th>\n",
       "      <th>GROUP6</th>\n",
       "      <th>GROUP7</th>\n",
       "      <th>GROUP8</th>\n",
       "      <th>GROUP9</th>\n",
       "      <th>GROUP10</th>\n",
       "      <th>GROUP11</th>\n",
       "      <th>GROUP12</th>\n",
       "      <th>MOVE</th>\n",
       "    </tr>\n",
       "  </thead>\n",
       "  <tbody>\n",
       "    <tr>\n",
       "      <th>0</th>\n",
       "      <td>5690310</td>\n",
       "      <td>70</td>\n",
       "      <td>348</td>\n",
       "      <td>1</td>\n",
       "      <td>0.0</td>\n",
       "      <td>0.00</td>\n",
       "      <td>1</td>\n",
       "      <td>b'DOMINICKS   70'</td>\n",
       "      <td>b'JOLIET'</td>\n",
       "      <td>60435.0</td>\n",
       "      <td>...</td>\n",
       "      <td>0.108954</td>\n",
       "      <td>0.170252</td>\n",
       "      <td>0.220969</td>\n",
       "      <td>0.048531</td>\n",
       "      <td>0.052903</td>\n",
       "      <td>0.134225</td>\n",
       "      <td>0.165530</td>\n",
       "      <td>0.027807</td>\n",
       "      <td>0.022211</td>\n",
       "      <td>0</td>\n",
       "    </tr>\n",
       "    <tr>\n",
       "      <th>1</th>\n",
       "      <td>5690310</td>\n",
       "      <td>70</td>\n",
       "      <td>349</td>\n",
       "      <td>1</td>\n",
       "      <td>0.0</td>\n",
       "      <td>0.00</td>\n",
       "      <td>1</td>\n",
       "      <td>b'DOMINICKS   70'</td>\n",
       "      <td>b'JOLIET'</td>\n",
       "      <td>60435.0</td>\n",
       "      <td>...</td>\n",
       "      <td>0.108954</td>\n",
       "      <td>0.170252</td>\n",
       "      <td>0.220969</td>\n",
       "      <td>0.048531</td>\n",
       "      <td>0.052903</td>\n",
       "      <td>0.134225</td>\n",
       "      <td>0.165530</td>\n",
       "      <td>0.027807</td>\n",
       "      <td>0.022211</td>\n",
       "      <td>0</td>\n",
       "    </tr>\n",
       "    <tr>\n",
       "      <th>2</th>\n",
       "      <td>5690310</td>\n",
       "      <td>70</td>\n",
       "      <td>350</td>\n",
       "      <td>1</td>\n",
       "      <td>0.0</td>\n",
       "      <td>0.00</td>\n",
       "      <td>1</td>\n",
       "      <td>b'DOMINICKS   70'</td>\n",
       "      <td>b'JOLIET'</td>\n",
       "      <td>60435.0</td>\n",
       "      <td>...</td>\n",
       "      <td>0.108954</td>\n",
       "      <td>0.170252</td>\n",
       "      <td>0.220969</td>\n",
       "      <td>0.048531</td>\n",
       "      <td>0.052903</td>\n",
       "      <td>0.134225</td>\n",
       "      <td>0.165530</td>\n",
       "      <td>0.027807</td>\n",
       "      <td>0.022211</td>\n",
       "      <td>0</td>\n",
       "    </tr>\n",
       "    <tr>\n",
       "      <th>3</th>\n",
       "      <td>5690310</td>\n",
       "      <td>70</td>\n",
       "      <td>351</td>\n",
       "      <td>1</td>\n",
       "      <td>2.5</td>\n",
       "      <td>14.48</td>\n",
       "      <td>1</td>\n",
       "      <td>b'DOMINICKS   70'</td>\n",
       "      <td>b'JOLIET'</td>\n",
       "      <td>60435.0</td>\n",
       "      <td>...</td>\n",
       "      <td>0.108954</td>\n",
       "      <td>0.170252</td>\n",
       "      <td>0.220969</td>\n",
       "      <td>0.048531</td>\n",
       "      <td>0.052903</td>\n",
       "      <td>0.134225</td>\n",
       "      <td>0.165530</td>\n",
       "      <td>0.027807</td>\n",
       "      <td>0.022211</td>\n",
       "      <td>1</td>\n",
       "    </tr>\n",
       "    <tr>\n",
       "      <th>4</th>\n",
       "      <td>5690310</td>\n",
       "      <td>70</td>\n",
       "      <td>352</td>\n",
       "      <td>1</td>\n",
       "      <td>0.0</td>\n",
       "      <td>0.00</td>\n",
       "      <td>1</td>\n",
       "      <td>b'DOMINICKS   70'</td>\n",
       "      <td>b'JOLIET'</td>\n",
       "      <td>60435.0</td>\n",
       "      <td>...</td>\n",
       "      <td>0.108954</td>\n",
       "      <td>0.170252</td>\n",
       "      <td>0.220969</td>\n",
       "      <td>0.048531</td>\n",
       "      <td>0.052903</td>\n",
       "      <td>0.134225</td>\n",
       "      <td>0.165530</td>\n",
       "      <td>0.027807</td>\n",
       "      <td>0.022211</td>\n",
       "      <td>0</td>\n",
       "    </tr>\n",
       "    <tr>\n",
       "      <th>...</th>\n",
       "      <td>...</td>\n",
       "      <td>...</td>\n",
       "      <td>...</td>\n",
       "      <td>...</td>\n",
       "      <td>...</td>\n",
       "      <td>...</td>\n",
       "      <td>...</td>\n",
       "      <td>...</td>\n",
       "      <td>...</td>\n",
       "      <td>...</td>\n",
       "      <td>...</td>\n",
       "      <td>...</td>\n",
       "      <td>...</td>\n",
       "      <td>...</td>\n",
       "      <td>...</td>\n",
       "      <td>...</td>\n",
       "      <td>...</td>\n",
       "      <td>...</td>\n",
       "      <td>...</td>\n",
       "      <td>...</td>\n",
       "      <td>...</td>\n",
       "    </tr>\n",
       "    <tr>\n",
       "      <th>14993364</th>\n",
       "      <td>78936105002</td>\n",
       "      <td>134</td>\n",
       "      <td>395</td>\n",
       "      <td>1</td>\n",
       "      <td>0.0</td>\n",
       "      <td>0.00</td>\n",
       "      <td>1</td>\n",
       "      <td>b'DOMINICKS  134'</td>\n",
       "      <td>b'WEST CHICAGO'</td>\n",
       "      <td>60185.0</td>\n",
       "      <td>...</td>\n",
       "      <td>0.068119</td>\n",
       "      <td>0.155437</td>\n",
       "      <td>0.397083</td>\n",
       "      <td>0.027137</td>\n",
       "      <td>0.038213</td>\n",
       "      <td>0.181097</td>\n",
       "      <td>0.051874</td>\n",
       "      <td>0.013845</td>\n",
       "      <td>0.020491</td>\n",
       "      <td>0</td>\n",
       "    </tr>\n",
       "    <tr>\n",
       "      <th>14993365</th>\n",
       "      <td>78936105002</td>\n",
       "      <td>134</td>\n",
       "      <td>396</td>\n",
       "      <td>1</td>\n",
       "      <td>0.0</td>\n",
       "      <td>0.00</td>\n",
       "      <td>1</td>\n",
       "      <td>b'DOMINICKS  134'</td>\n",
       "      <td>b'WEST CHICAGO'</td>\n",
       "      <td>60185.0</td>\n",
       "      <td>...</td>\n",
       "      <td>0.068119</td>\n",
       "      <td>0.155437</td>\n",
       "      <td>0.397083</td>\n",
       "      <td>0.027137</td>\n",
       "      <td>0.038213</td>\n",
       "      <td>0.181097</td>\n",
       "      <td>0.051874</td>\n",
       "      <td>0.013845</td>\n",
       "      <td>0.020491</td>\n",
       "      <td>0</td>\n",
       "    </tr>\n",
       "    <tr>\n",
       "      <th>14993366</th>\n",
       "      <td>78936105002</td>\n",
       "      <td>134</td>\n",
       "      <td>397</td>\n",
       "      <td>1</td>\n",
       "      <td>0.0</td>\n",
       "      <td>0.00</td>\n",
       "      <td>1</td>\n",
       "      <td>b'DOMINICKS  134'</td>\n",
       "      <td>b'WEST CHICAGO'</td>\n",
       "      <td>60185.0</td>\n",
       "      <td>...</td>\n",
       "      <td>0.068119</td>\n",
       "      <td>0.155437</td>\n",
       "      <td>0.397083</td>\n",
       "      <td>0.027137</td>\n",
       "      <td>0.038213</td>\n",
       "      <td>0.181097</td>\n",
       "      <td>0.051874</td>\n",
       "      <td>0.013845</td>\n",
       "      <td>0.020491</td>\n",
       "      <td>0</td>\n",
       "    </tr>\n",
       "    <tr>\n",
       "      <th>14993367</th>\n",
       "      <td>78936105002</td>\n",
       "      <td>134</td>\n",
       "      <td>398</td>\n",
       "      <td>1</td>\n",
       "      <td>0.0</td>\n",
       "      <td>0.00</td>\n",
       "      <td>1</td>\n",
       "      <td>b'DOMINICKS  134'</td>\n",
       "      <td>b'WEST CHICAGO'</td>\n",
       "      <td>60185.0</td>\n",
       "      <td>...</td>\n",
       "      <td>0.068119</td>\n",
       "      <td>0.155437</td>\n",
       "      <td>0.397083</td>\n",
       "      <td>0.027137</td>\n",
       "      <td>0.038213</td>\n",
       "      <td>0.181097</td>\n",
       "      <td>0.051874</td>\n",
       "      <td>0.013845</td>\n",
       "      <td>0.020491</td>\n",
       "      <td>0</td>\n",
       "    </tr>\n",
       "    <tr>\n",
       "      <th>14993368</th>\n",
       "      <td>78936105002</td>\n",
       "      <td>134</td>\n",
       "      <td>399</td>\n",
       "      <td>1</td>\n",
       "      <td>0.0</td>\n",
       "      <td>0.00</td>\n",
       "      <td>1</td>\n",
       "      <td>b'DOMINICKS  134'</td>\n",
       "      <td>b'WEST CHICAGO'</td>\n",
       "      <td>60185.0</td>\n",
       "      <td>...</td>\n",
       "      <td>0.068119</td>\n",
       "      <td>0.155437</td>\n",
       "      <td>0.397083</td>\n",
       "      <td>0.027137</td>\n",
       "      <td>0.038213</td>\n",
       "      <td>0.181097</td>\n",
       "      <td>0.051874</td>\n",
       "      <td>0.013845</td>\n",
       "      <td>0.020491</td>\n",
       "      <td>0</td>\n",
       "    </tr>\n",
       "  </tbody>\n",
       "</table>\n",
       "<p>14993369 rows × 32 columns</p>\n",
       "</div>"
      ],
      "text/plain": [
       "                  UPC  STORE  WEEK  QTY  PRICE  PROFIT  OK               NAME  \\\n",
       "0             5690310     70   348    1    0.0    0.00   1  b'DOMINICKS   70'   \n",
       "1             5690310     70   349    1    0.0    0.00   1  b'DOMINICKS   70'   \n",
       "2             5690310     70   350    1    0.0    0.00   1  b'DOMINICKS   70'   \n",
       "3             5690310     70   351    1    2.5   14.48   1  b'DOMINICKS   70'   \n",
       "4             5690310     70   352    1    0.0    0.00   1  b'DOMINICKS   70'   \n",
       "...               ...    ...   ...  ...    ...     ...  ..                ...   \n",
       "14993364  78936105002    134   395    1    0.0    0.00   1  b'DOMINICKS  134'   \n",
       "14993365  78936105002    134   396    1    0.0    0.00   1  b'DOMINICKS  134'   \n",
       "14993366  78936105002    134   397    1    0.0    0.00   1  b'DOMINICKS  134'   \n",
       "14993367  78936105002    134   398    1    0.0    0.00   1  b'DOMINICKS  134'   \n",
       "14993368  78936105002    134   399    1    0.0    0.00   1  b'DOMINICKS  134'   \n",
       "\n",
       "                     CITY      ZIP  ...    GROUP4    GROUP5    GROUP6  \\\n",
       "0               b'JOLIET'  60435.0  ...  0.108954  0.170252  0.220969   \n",
       "1               b'JOLIET'  60435.0  ...  0.108954  0.170252  0.220969   \n",
       "2               b'JOLIET'  60435.0  ...  0.108954  0.170252  0.220969   \n",
       "3               b'JOLIET'  60435.0  ...  0.108954  0.170252  0.220969   \n",
       "4               b'JOLIET'  60435.0  ...  0.108954  0.170252  0.220969   \n",
       "...                   ...      ...  ...       ...       ...       ...   \n",
       "14993364  b'WEST CHICAGO'  60185.0  ...  0.068119  0.155437  0.397083   \n",
       "14993365  b'WEST CHICAGO'  60185.0  ...  0.068119  0.155437  0.397083   \n",
       "14993366  b'WEST CHICAGO'  60185.0  ...  0.068119  0.155437  0.397083   \n",
       "14993367  b'WEST CHICAGO'  60185.0  ...  0.068119  0.155437  0.397083   \n",
       "14993368  b'WEST CHICAGO'  60185.0  ...  0.068119  0.155437  0.397083   \n",
       "\n",
       "            GROUP7    GROUP8    GROUP9   GROUP10   GROUP11   GROUP12  MOVE  \n",
       "0         0.048531  0.052903  0.134225  0.165530  0.027807  0.022211     0  \n",
       "1         0.048531  0.052903  0.134225  0.165530  0.027807  0.022211     0  \n",
       "2         0.048531  0.052903  0.134225  0.165530  0.027807  0.022211     0  \n",
       "3         0.048531  0.052903  0.134225  0.165530  0.027807  0.022211     1  \n",
       "4         0.048531  0.052903  0.134225  0.165530  0.027807  0.022211     0  \n",
       "...            ...       ...       ...       ...       ...       ...   ...  \n",
       "14993364  0.027137  0.038213  0.181097  0.051874  0.013845  0.020491     0  \n",
       "14993365  0.027137  0.038213  0.181097  0.051874  0.013845  0.020491     0  \n",
       "14993366  0.027137  0.038213  0.181097  0.051874  0.013845  0.020491     0  \n",
       "14993367  0.027137  0.038213  0.181097  0.051874  0.013845  0.020491     0  \n",
       "14993368  0.027137  0.038213  0.181097  0.051874  0.013845  0.020491     0  \n",
       "\n",
       "[14993369 rows x 32 columns]"
      ]
     },
     "execution_count": 5,
     "metadata": {},
     "output_type": "execute_result"
    }
   ],
   "source": [
    "sales = sales.drop(columns=['SALE', 'PRICE_HEX', 'PROFIT_HEX'], axis=1)\n",
    "big_sales = sales.copy()\n",
    "big_sales"
   ]
  },
  {
   "cell_type": "code",
   "execution_count": 6,
   "metadata": {},
   "outputs": [],
   "source": [
    "med_sales = big_sales[:5000000]"
   ]
  },
  {
   "cell_type": "code",
   "execution_count": 7,
   "metadata": {},
   "outputs": [],
   "source": [
    "sales = sales[:10000]"
   ]
  },
  {
   "cell_type": "code",
   "execution_count": 8,
   "metadata": {},
   "outputs": [
    {
     "data": {
      "text/html": [
       "<div>\n",
       "<style scoped>\n",
       "    .dataframe tbody tr th:only-of-type {\n",
       "        vertical-align: middle;\n",
       "    }\n",
       "\n",
       "    .dataframe tbody tr th {\n",
       "        vertical-align: top;\n",
       "    }\n",
       "\n",
       "    .dataframe thead th {\n",
       "        text-align: right;\n",
       "    }\n",
       "</style>\n",
       "<table border=\"1\" class=\"dataframe\">\n",
       "  <thead>\n",
       "    <tr style=\"text-align: right;\">\n",
       "      <th></th>\n",
       "      <th>UPC</th>\n",
       "      <th>STORE</th>\n",
       "      <th>WEEK</th>\n",
       "      <th>QTY</th>\n",
       "      <th>PRICE</th>\n",
       "      <th>PROFIT</th>\n",
       "      <th>OK</th>\n",
       "      <th>NAME</th>\n",
       "      <th>CITY</th>\n",
       "      <th>ZIP</th>\n",
       "      <th>...</th>\n",
       "      <th>GROUP4</th>\n",
       "      <th>GROUP5</th>\n",
       "      <th>GROUP6</th>\n",
       "      <th>GROUP7</th>\n",
       "      <th>GROUP8</th>\n",
       "      <th>GROUP9</th>\n",
       "      <th>GROUP10</th>\n",
       "      <th>GROUP11</th>\n",
       "      <th>GROUP12</th>\n",
       "      <th>MOVE</th>\n",
       "    </tr>\n",
       "  </thead>\n",
       "  <tbody>\n",
       "    <tr>\n",
       "      <th>0</th>\n",
       "      <td>0</td>\n",
       "      <td>0</td>\n",
       "      <td>164</td>\n",
       "      <td>0</td>\n",
       "      <td>0</td>\n",
       "      <td>5</td>\n",
       "      <td>1</td>\n",
       "      <td>0</td>\n",
       "      <td>0</td>\n",
       "      <td>0</td>\n",
       "      <td>...</td>\n",
       "      <td>0</td>\n",
       "      <td>0</td>\n",
       "      <td>0</td>\n",
       "      <td>0</td>\n",
       "      <td>0</td>\n",
       "      <td>0</td>\n",
       "      <td>0</td>\n",
       "      <td>0</td>\n",
       "      <td>0</td>\n",
       "      <td>0</td>\n",
       "    </tr>\n",
       "    <tr>\n",
       "      <th>1</th>\n",
       "      <td>0</td>\n",
       "      <td>0</td>\n",
       "      <td>165</td>\n",
       "      <td>0</td>\n",
       "      <td>0</td>\n",
       "      <td>5</td>\n",
       "      <td>1</td>\n",
       "      <td>0</td>\n",
       "      <td>0</td>\n",
       "      <td>0</td>\n",
       "      <td>...</td>\n",
       "      <td>0</td>\n",
       "      <td>0</td>\n",
       "      <td>0</td>\n",
       "      <td>0</td>\n",
       "      <td>0</td>\n",
       "      <td>0</td>\n",
       "      <td>0</td>\n",
       "      <td>0</td>\n",
       "      <td>0</td>\n",
       "      <td>0</td>\n",
       "    </tr>\n",
       "    <tr>\n",
       "      <th>2</th>\n",
       "      <td>0</td>\n",
       "      <td>0</td>\n",
       "      <td>166</td>\n",
       "      <td>0</td>\n",
       "      <td>0</td>\n",
       "      <td>5</td>\n",
       "      <td>1</td>\n",
       "      <td>0</td>\n",
       "      <td>0</td>\n",
       "      <td>0</td>\n",
       "      <td>...</td>\n",
       "      <td>0</td>\n",
       "      <td>0</td>\n",
       "      <td>0</td>\n",
       "      <td>0</td>\n",
       "      <td>0</td>\n",
       "      <td>0</td>\n",
       "      <td>0</td>\n",
       "      <td>0</td>\n",
       "      <td>0</td>\n",
       "      <td>0</td>\n",
       "    </tr>\n",
       "    <tr>\n",
       "      <th>3</th>\n",
       "      <td>0</td>\n",
       "      <td>0</td>\n",
       "      <td>167</td>\n",
       "      <td>0</td>\n",
       "      <td>34</td>\n",
       "      <td>33</td>\n",
       "      <td>1</td>\n",
       "      <td>0</td>\n",
       "      <td>0</td>\n",
       "      <td>0</td>\n",
       "      <td>...</td>\n",
       "      <td>0</td>\n",
       "      <td>0</td>\n",
       "      <td>0</td>\n",
       "      <td>0</td>\n",
       "      <td>0</td>\n",
       "      <td>0</td>\n",
       "      <td>0</td>\n",
       "      <td>0</td>\n",
       "      <td>0</td>\n",
       "      <td>1</td>\n",
       "    </tr>\n",
       "    <tr>\n",
       "      <th>4</th>\n",
       "      <td>0</td>\n",
       "      <td>0</td>\n",
       "      <td>168</td>\n",
       "      <td>0</td>\n",
       "      <td>0</td>\n",
       "      <td>5</td>\n",
       "      <td>1</td>\n",
       "      <td>0</td>\n",
       "      <td>0</td>\n",
       "      <td>0</td>\n",
       "      <td>...</td>\n",
       "      <td>0</td>\n",
       "      <td>0</td>\n",
       "      <td>0</td>\n",
       "      <td>0</td>\n",
       "      <td>0</td>\n",
       "      <td>0</td>\n",
       "      <td>0</td>\n",
       "      <td>0</td>\n",
       "      <td>0</td>\n",
       "      <td>0</td>\n",
       "    </tr>\n",
       "    <tr>\n",
       "      <th>...</th>\n",
       "      <td>...</td>\n",
       "      <td>...</td>\n",
       "      <td>...</td>\n",
       "      <td>...</td>\n",
       "      <td>...</td>\n",
       "      <td>...</td>\n",
       "      <td>...</td>\n",
       "      <td>...</td>\n",
       "      <td>...</td>\n",
       "      <td>...</td>\n",
       "      <td>...</td>\n",
       "      <td>...</td>\n",
       "      <td>...</td>\n",
       "      <td>...</td>\n",
       "      <td>...</td>\n",
       "      <td>...</td>\n",
       "      <td>...</td>\n",
       "      <td>...</td>\n",
       "      <td>...</td>\n",
       "      <td>...</td>\n",
       "      <td>...</td>\n",
       "    </tr>\n",
       "    <tr>\n",
       "      <th>9995</th>\n",
       "      <td>107</td>\n",
       "      <td>0</td>\n",
       "      <td>119</td>\n",
       "      <td>0</td>\n",
       "      <td>18</td>\n",
       "      <td>602</td>\n",
       "      <td>1</td>\n",
       "      <td>0</td>\n",
       "      <td>0</td>\n",
       "      <td>0</td>\n",
       "      <td>...</td>\n",
       "      <td>0</td>\n",
       "      <td>0</td>\n",
       "      <td>0</td>\n",
       "      <td>0</td>\n",
       "      <td>0</td>\n",
       "      <td>0</td>\n",
       "      <td>0</td>\n",
       "      <td>0</td>\n",
       "      <td>0</td>\n",
       "      <td>1</td>\n",
       "    </tr>\n",
       "    <tr>\n",
       "      <th>9996</th>\n",
       "      <td>107</td>\n",
       "      <td>0</td>\n",
       "      <td>120</td>\n",
       "      <td>0</td>\n",
       "      <td>0</td>\n",
       "      <td>5</td>\n",
       "      <td>1</td>\n",
       "      <td>0</td>\n",
       "      <td>0</td>\n",
       "      <td>0</td>\n",
       "      <td>...</td>\n",
       "      <td>0</td>\n",
       "      <td>0</td>\n",
       "      <td>0</td>\n",
       "      <td>0</td>\n",
       "      <td>0</td>\n",
       "      <td>0</td>\n",
       "      <td>0</td>\n",
       "      <td>0</td>\n",
       "      <td>0</td>\n",
       "      <td>0</td>\n",
       "    </tr>\n",
       "    <tr>\n",
       "      <th>9997</th>\n",
       "      <td>107</td>\n",
       "      <td>0</td>\n",
       "      <td>121</td>\n",
       "      <td>0</td>\n",
       "      <td>0</td>\n",
       "      <td>5</td>\n",
       "      <td>1</td>\n",
       "      <td>0</td>\n",
       "      <td>0</td>\n",
       "      <td>0</td>\n",
       "      <td>...</td>\n",
       "      <td>0</td>\n",
       "      <td>0</td>\n",
       "      <td>0</td>\n",
       "      <td>0</td>\n",
       "      <td>0</td>\n",
       "      <td>0</td>\n",
       "      <td>0</td>\n",
       "      <td>0</td>\n",
       "      <td>0</td>\n",
       "      <td>0</td>\n",
       "    </tr>\n",
       "    <tr>\n",
       "      <th>9998</th>\n",
       "      <td>107</td>\n",
       "      <td>0</td>\n",
       "      <td>122</td>\n",
       "      <td>0</td>\n",
       "      <td>0</td>\n",
       "      <td>5</td>\n",
       "      <td>1</td>\n",
       "      <td>0</td>\n",
       "      <td>0</td>\n",
       "      <td>0</td>\n",
       "      <td>...</td>\n",
       "      <td>0</td>\n",
       "      <td>0</td>\n",
       "      <td>0</td>\n",
       "      <td>0</td>\n",
       "      <td>0</td>\n",
       "      <td>0</td>\n",
       "      <td>0</td>\n",
       "      <td>0</td>\n",
       "      <td>0</td>\n",
       "      <td>0</td>\n",
       "    </tr>\n",
       "    <tr>\n",
       "      <th>9999</th>\n",
       "      <td>107</td>\n",
       "      <td>0</td>\n",
       "      <td>123</td>\n",
       "      <td>0</td>\n",
       "      <td>0</td>\n",
       "      <td>5</td>\n",
       "      <td>1</td>\n",
       "      <td>0</td>\n",
       "      <td>0</td>\n",
       "      <td>0</td>\n",
       "      <td>...</td>\n",
       "      <td>0</td>\n",
       "      <td>0</td>\n",
       "      <td>0</td>\n",
       "      <td>0</td>\n",
       "      <td>0</td>\n",
       "      <td>0</td>\n",
       "      <td>0</td>\n",
       "      <td>0</td>\n",
       "      <td>0</td>\n",
       "      <td>0</td>\n",
       "    </tr>\n",
       "  </tbody>\n",
       "</table>\n",
       "<p>10000 rows × 32 columns</p>\n",
       "</div>"
      ],
      "text/plain": [
       "      UPC  STORE  WEEK  QTY  PRICE  PROFIT  OK  NAME  CITY  ZIP  ...  GROUP4  \\\n",
       "0       0      0   164    0      0       5   1     0     0    0  ...       0   \n",
       "1       0      0   165    0      0       5   1     0     0    0  ...       0   \n",
       "2       0      0   166    0      0       5   1     0     0    0  ...       0   \n",
       "3       0      0   167    0     34      33   1     0     0    0  ...       0   \n",
       "4       0      0   168    0      0       5   1     0     0    0  ...       0   \n",
       "...   ...    ...   ...  ...    ...     ...  ..   ...   ...  ...  ...     ...   \n",
       "9995  107      0   119    0     18     602   1     0     0    0  ...       0   \n",
       "9996  107      0   120    0      0       5   1     0     0    0  ...       0   \n",
       "9997  107      0   121    0      0       5   1     0     0    0  ...       0   \n",
       "9998  107      0   122    0      0       5   1     0     0    0  ...       0   \n",
       "9999  107      0   123    0      0       5   1     0     0    0  ...       0   \n",
       "\n",
       "      GROUP5  GROUP6  GROUP7  GROUP8  GROUP9  GROUP10  GROUP11  GROUP12  MOVE  \n",
       "0          0       0       0       0       0        0        0        0     0  \n",
       "1          0       0       0       0       0        0        0        0     0  \n",
       "2          0       0       0       0       0        0        0        0     0  \n",
       "3          0       0       0       0       0        0        0        0     1  \n",
       "4          0       0       0       0       0        0        0        0     0  \n",
       "...      ...     ...     ...     ...     ...      ...      ...      ...   ...  \n",
       "9995       0       0       0       0       0        0        0        0     1  \n",
       "9996       0       0       0       0       0        0        0        0     0  \n",
       "9997       0       0       0       0       0        0        0        0     0  \n",
       "9998       0       0       0       0       0        0        0        0     0  \n",
       "9999       0       0       0       0       0        0        0        0     0  \n",
       "\n",
       "[10000 rows x 32 columns]"
      ]
     },
     "execution_count": 8,
     "metadata": {},
     "output_type": "execute_result"
    }
   ],
   "source": [
    "from sklearn.preprocessing import LabelEncoder\n",
    "\n",
    "big_sales = big_sales.apply(LabelEncoder().fit_transform)\n",
    "med_sales = med_sales.apply(LabelEncoder().fit_transform)\n",
    "\n",
    "sales = sales.apply(LabelEncoder().fit_transform)\n",
    "sales"
   ]
  },
  {
   "cell_type": "code",
   "execution_count": 9,
   "metadata": {},
   "outputs": [],
   "source": [
    "X = sales.iloc[:,:-1]\n",
    "mask = np.random.rand(len(sales)) < 0.8\n",
    "df_train = sales[mask]\n",
    "df_test = sales[~mask]\n",
    "\n",
    "expr = \"MOVE ~ \" + \" + \".join(sales.columns[:-1])\n",
    "expr\n",
    "\n",
    "y_train, X_train = dmatrices(expr, df_train, return_type='dataframe')\n",
    "y_test, X_test = dmatrices(expr, df_test, return_type='dataframe')\n",
    "\n",
    "poisson_training_results = sm.GLM(y_train, X_train, family=sm.families.Poisson()).fit()\n",
    "poisson_testing_results = sm.GLM(y_test, X_test, family=sm.families.Poisson()).fit()"
   ]
  },
  {
   "cell_type": "code",
   "execution_count": 10,
   "metadata": {},
   "outputs": [
    {
     "data": {
      "text/plain": [
       "array([[0., 2.],\n",
       "       [0., 2.],\n",
       "       [0., 2.],\n",
       "       [0., 2.],\n",
       "       [0., 2.],\n",
       "       [0., 6.],\n",
       "       [0., 2.],\n",
       "       [0., 5.],\n",
       "       [0., 5.],\n",
       "       [0., 2.]])"
      ]
     },
     "execution_count": 10,
     "metadata": {},
     "output_type": "execute_result"
    }
   ],
   "source": [
    "y_preds = poisson_testing_results.mu\n",
    "posterior_predictive = poisson(mu=y_preds)\n",
    "posterior_predictive\n",
    "np.column_stack([posterior_predictive.ppf(0.001), posterior_predictive.ppf(0.999)])[:10]"
   ]
  },
  {
   "cell_type": "code",
   "execution_count": 13,
   "metadata": {},
   "outputs": [
    {
     "data": {
      "text/plain": [
       "Intercept   -2.367238e+01\n",
       "UPC          9.075435e-03\n",
       "STORE       -2.787797e-14\n",
       "WEEK        -3.850094e-03\n",
       "QTY          1.661634e-13\n",
       "PRICE        1.910070e-02\n",
       "PROFIT       3.068545e-03\n",
       "OK           2.170788e+01\n",
       "NAME         0.000000e+00\n",
       "CITY         0.000000e+00\n",
       "ZIP          0.000000e+00\n",
       "LAT          0.000000e+00\n",
       "LONG         0.000000e+00\n",
       "SCLUSTER     0.000000e+00\n",
       "ZONE         0.000000e+00\n",
       "AGE9         0.000000e+00\n",
       "AGE60        0.000000e+00\n",
       "PRICLOW      0.000000e+00\n",
       "PRICMED      0.000000e+00\n",
       "PRICHIGH     0.000000e+00\n",
       "GROUP1       0.000000e+00\n",
       "GROUP2       0.000000e+00\n",
       "GROUP3       0.000000e+00\n",
       "GROUP4       0.000000e+00\n",
       "GROUP5       0.000000e+00\n",
       "GROUP6       0.000000e+00\n",
       "GROUP7       0.000000e+00\n",
       "GROUP8       0.000000e+00\n",
       "GROUP9       0.000000e+00\n",
       "GROUP10      0.000000e+00\n",
       "GROUP11      0.000000e+00\n",
       "GROUP12      0.000000e+00\n",
       "dtype: float64"
      ]
     },
     "execution_count": 13,
     "metadata": {},
     "output_type": "execute_result"
    }
   ],
   "source": [
    "poisson_training_results.params"
   ]
  },
  {
   "cell_type": "code",
   "execution_count": 14,
   "metadata": {},
   "outputs": [
    {
     "data": {
      "text/plain": [
       "array([[0.],\n",
       "       [0.],\n",
       "       [0.],\n",
       "       [0.],\n",
       "       [0.],\n",
       "       [1.],\n",
       "       [0.],\n",
       "       [1.],\n",
       "       [1.],\n",
       "       [0.]])"
      ]
     },
     "execution_count": 14,
     "metadata": {},
     "output_type": "execute_result"
    }
   ],
   "source": [
    "y_test[:10].values"
   ]
  },
  {
   "cell_type": "code",
   "execution_count": 15,
   "metadata": {},
   "outputs": [
    {
     "name": "stdout",
     "output_type": "stream",
     "text": [
      "[0.07226149 0.06377704 0.06349319 ... 0.23046423 0.26511366 0.21554851]\n"
     ]
    },
    {
     "data": {
      "text/plain": [
       "2001"
      ]
     },
     "execution_count": 15,
     "metadata": {},
     "output_type": "execute_result"
    }
   ],
   "source": [
    "print(y_preds)\n",
    "len(y_preds)"
   ]
  },
  {
   "cell_type": "code",
   "execution_count": 16,
   "metadata": {},
   "outputs": [
    {
     "data": {
      "text/plain": [
       "0.8794251733136844"
      ]
     },
     "execution_count": 16,
     "metadata": {},
     "output_type": "execute_result"
    }
   ],
   "source": [
    "mse = mean_squared_error(y_preds, y_test)\n",
    "mse"
   ]
  },
  {
   "cell_type": "code",
   "execution_count": 17,
   "metadata": {},
   "outputs": [
    {
     "data": {
      "text/plain": [
       "0.9377767182617003"
      ]
     },
     "execution_count": 17,
     "metadata": {},
     "output_type": "execute_result"
    }
   ],
   "source": [
    "np.sqrt(mse)"
   ]
  },
  {
   "cell_type": "code",
   "execution_count": 18,
   "metadata": {},
   "outputs": [
    {
     "data": {
      "text/plain": [
       "0.4286"
      ]
     },
     "execution_count": 18,
     "metadata": {},
     "output_type": "execute_result"
    }
   ],
   "source": [
    "sales['MOVE'].mean()"
   ]
  },
  {
   "cell_type": "code",
   "execution_count": 19,
   "metadata": {},
   "outputs": [
    {
     "data": {
      "text/plain": [
       "1.0372124280792185"
      ]
     },
     "execution_count": 19,
     "metadata": {},
     "output_type": "execute_result"
    }
   ],
   "source": [
    "sales['MOVE'].std()"
   ]
  },
  {
   "cell_type": "code",
   "execution_count": 32,
   "metadata": {},
   "outputs": [
    {
     "data": {
      "text/plain": [
       "0.634896472791657"
      ]
     },
     "execution_count": 32,
     "metadata": {},
     "output_type": "execute_result"
    }
   ],
   "source": [
    "# Poisson calibration\n",
    "compute_mean_calibration(np.array(y_test), posterior_predictive)"
   ]
  },
  {
   "cell_type": "code",
   "execution_count": 33,
   "metadata": {},
   "outputs": [
    {
     "data": {
      "image/png": "[encoded data removed]",
      "text/plain": [
       "<Figure size 640x480 with 1 Axes>"
      ]
     },
     "metadata": {},
     "output_type": "display_data"
    }
   ],
   "source": [
    "plot_regression_calibration_curve(np.array(y_test), posterior_predictive, num_bins=9)"
   ]
  },
  {
   "cell_type": "markdown",
   "metadata": {},
   "source": [
    "Negative Binomial"
   ]
  },
  {
   "cell_type": "code",
   "execution_count": 20,
   "metadata": {},
   "outputs": [
    {
     "name": "stderr",
     "output_type": "stream",
     "text": [
      "/var/folders/xg/5n69np453nn3pzzpyw20jrp40000gn/T/ipykernel_1705/3737455413.py:1: SettingWithCopyWarning: \n",
      "A value is trying to be set on a copy of a slice from a DataFrame.\n",
      "Try using .loc[row_indexer,col_indexer] = value instead\n",
      "\n",
      "See the caveats in the documentation: https://pandas.pydata.org/pandas-docs/stable/user_guide/indexing.html#returning-a-view-versus-a-copy\n",
      "  df_train[\"BB_LAMBDA\"] = poisson_training_results.mu\n",
      "/var/folders/xg/5n69np453nn3pzzpyw20jrp40000gn/T/ipykernel_1705/3737455413.py:2: SettingWithCopyWarning: \n",
      "A value is trying to be set on a copy of a slice from a DataFrame.\n",
      "Try using .loc[row_indexer,col_indexer] = value instead\n",
      "\n",
      "See the caveats in the documentation: https://pandas.pydata.org/pandas-docs/stable/user_guide/indexing.html#returning-a-view-versus-a-copy\n",
      "  df_train['AUX_OLS_DEP'] = df_train.apply(lambda x: ((x['MOVE'] - x['BB_LAMBDA'])**2 - x['BB_LAMBDA']) / x['BB_LAMBDA'], axis=1)\n",
      "/var/folders/xg/5n69np453nn3pzzpyw20jrp40000gn/T/ipykernel_1705/3737455413.py:5: FutureWarning: Series.__getitem__ treating keys as positions is deprecated. In a future version, integer keys will always be treated as labels (consistent with DataFrame behavior). To access a value by position, use `ser.iloc[pos]`\n",
      "  nb2_training_results = sm.GLM(y_train, X_train,family=sm.families.NegativeBinomial(alpha=aux_olsr_results.params[0])).fit()\n",
      "/opt/homebrew/anaconda3/lib/python3.11/site-packages/statsmodels/genmod/generalized_linear_model.py:900: FutureWarning: linear keyword is deprecated, use which=\"linear\"\n",
      "  warnings.warn(msg, FutureWarning)\n",
      "/opt/homebrew/anaconda3/lib/python3.11/site-packages/statsmodels/genmod/families/links.py:527: RuntimeWarning: overflow encountered in exp\n",
      "  return np.exp(z)\n"
     ]
    }
   ],
   "source": [
    "df_train[\"BB_LAMBDA\"] = poisson_training_results.mu\n",
    "df_train['AUX_OLS_DEP'] = df_train.apply(lambda x: ((x['MOVE'] - x['BB_LAMBDA'])**2 - x['BB_LAMBDA']) / x['BB_LAMBDA'], axis=1)\n",
    "ols_expr = \"\"\"AUX_OLS_DEP ~ BB_LAMBDA - 1\"\"\"\n",
    "aux_olsr_results = smf.ols(ols_expr, df_train).fit()\n",
    "nb2_training_results = sm.GLM(y_train, X_train,family=sm.families.NegativeBinomial(alpha=aux_olsr_results.params[0])).fit()\n",
    "nb2_predictions = nb2_training_results.get_prediction(X_test)\n",
    "successes = nb2_training_results.predict(X_test, linear=True)\n",
    "predictions_summary_frame = nb2_predictions.summary_frame()\n",
    "predicted_counts=predictions_summary_frame['mean']\n",
    "\n",
    "\n",
    "# Count number of successful predictions\n",
    "# success_threshold = 1\n",
    "# test_predictions = np.array(successes)\n",
    "# y_test_values = y_test.values.flatten()\n",
    "# absolute_differences = np.abs(test_predictions - y_test_values)\n",
    "# successful_predictions_count = np.sum(absolute_differences <= success_threshold)\n",
    "# print(\"Number of successful predictions:\", successful_predictions_count)"
   ]
  },
  {
   "cell_type": "code",
   "execution_count": 21,
   "metadata": {},
   "outputs": [
    {
     "data": {
      "text/plain": [
       "array([[   nan,    nan],\n",
       "       [   nan,    nan],\n",
       "       [   nan,    nan],\n",
       "       [   nan,    nan],\n",
       "       [   nan,    nan],\n",
       "       [    0., 18320.],\n",
       "       [   nan,    nan],\n",
       "       [    0., 28685.],\n",
       "       [    0., 31195.],\n",
       "       [   nan,    nan]])"
      ]
     },
     "execution_count": 21,
     "metadata": {},
     "output_type": "execute_result"
    }
   ],
   "source": [
    "y_preds = predicted_counts\n",
    "y_test = y_test['MOVE']\n",
    "# n is # of successes\n",
    "n = successes\n",
    "# p is the probability of success\n",
    "p = n / len(y_test)\n",
    "posterior_predictive = nbinom(p=p, n=n)\n",
    "np.column_stack([posterior_predictive.ppf(0.001), posterior_predictive.ppf(0.999)])[:10]"
   ]
  },
  {
   "cell_type": "code",
   "execution_count": 22,
   "metadata": {},
   "outputs": [
    {
     "data": {
      "text/plain": [
       "Intercept   -2.372427e+01\n",
       "UPC          1.183440e-02\n",
       "STORE        4.174360e-13\n",
       "WEEK        -5.131228e-03\n",
       "QTY         -6.698848e-14\n",
       "PRICE        2.423082e-02\n",
       "PROFIT       3.438211e-03\n",
       "OK           2.153718e+01\n",
       "NAME         0.000000e+00\n",
       "CITY         0.000000e+00\n",
       "ZIP          0.000000e+00\n",
       "LAT          0.000000e+00\n",
       "LONG         0.000000e+00\n",
       "SCLUSTER     0.000000e+00\n",
       "ZONE         0.000000e+00\n",
       "AGE9         0.000000e+00\n",
       "AGE60        0.000000e+00\n",
       "PRICLOW      0.000000e+00\n",
       "PRICMED      0.000000e+00\n",
       "PRICHIGH     0.000000e+00\n",
       "GROUP1       0.000000e+00\n",
       "GROUP2       0.000000e+00\n",
       "GROUP3       0.000000e+00\n",
       "GROUP4       0.000000e+00\n",
       "GROUP5       0.000000e+00\n",
       "GROUP6       0.000000e+00\n",
       "GROUP7       0.000000e+00\n",
       "GROUP8       0.000000e+00\n",
       "GROUP9       0.000000e+00\n",
       "GROUP10      0.000000e+00\n",
       "GROUP11      0.000000e+00\n",
       "GROUP12      0.000000e+00\n",
       "dtype: float64"
      ]
     },
     "execution_count": 22,
     "metadata": {},
     "output_type": "execute_result"
    }
   ],
   "source": [
    "nb2_training_results.params"
   ]
  },
  {
   "cell_type": "code",
   "execution_count": 23,
   "metadata": {},
   "outputs": [
    {
     "data": {
      "text/plain": [
       "array([0., 0., 0., 0., 0., 1., 0., 1., 1., 0.])"
      ]
     },
     "execution_count": 23,
     "metadata": {},
     "output_type": "execute_result"
    }
   ],
   "source": [
    "y_test[:10].values"
   ]
  },
  {
   "cell_type": "code",
   "execution_count": 24,
   "metadata": {},
   "outputs": [
    {
     "data": {
      "text/plain": [
       "1.1492970885566827"
      ]
     },
     "execution_count": 24,
     "metadata": {},
     "output_type": "execute_result"
    }
   ],
   "source": [
    "mse = mean_squared_error(y_preds, y_test)\n",
    "mse"
   ]
  },
  {
   "cell_type": "code",
   "execution_count": 26,
   "metadata": {},
   "outputs": [
    {
     "data": {
      "text/plain": [
       "1.0720527452307012"
      ]
     },
     "execution_count": 26,
     "metadata": {},
     "output_type": "execute_result"
    }
   ],
   "source": [
    "np.sqrt(mse)"
   ]
  },
  {
   "cell_type": "code",
   "execution_count": 39,
   "metadata": {},
   "outputs": [
    {
     "data": {
      "text/plain": [
       "0.36007413184848847"
      ]
     },
     "execution_count": 39,
     "metadata": {},
     "output_type": "execute_result"
    }
   ],
   "source": [
    "# Negative Binomial calibration\n",
    "compute_mean_calibration(np.array(y_test), posterior_predictive)"
   ]
  },
  {
   "cell_type": "code",
   "execution_count": 40,
   "metadata": {},
   "outputs": [
    {
     "data": {
      "image/png": "[encoded data removed]",
      "text/plain": [
       "<Figure size 640x480 with 1 Axes>"
      ]
     },
     "metadata": {},
     "output_type": "display_data"
    }
   ],
   "source": [
    "plot_regression_calibration_curve(np.array(y_test), posterior_predictive, num_bins=9)"
   ]
  },
  {
   "cell_type": "code",
   "execution_count": 41,
   "metadata": {},
   "outputs": [
    {
     "data": {
      "text/plain": [
       "2      -3.037893\n",
       "7      -3.061223\n",
       "8      -3.065889\n",
       "11     -3.098552\n",
       "21     -3.145213\n",
       "          ...   \n",
       "9983   -1.537587\n",
       "9989   -1.378634\n",
       "9991    1.030155\n",
       "9994    1.001610\n",
       "9995    0.996944\n",
       "Length: 2029, dtype: float64"
      ]
     },
     "execution_count": 41,
     "metadata": {},
     "output_type": "execute_result"
    }
   ],
   "source": [
    "n"
   ]
  },
  {
   "cell_type": "code",
   "execution_count": 42,
   "metadata": {},
   "outputs": [
    {
     "data": {
      "text/plain": [
       "2      -0.001497\n",
       "7      -0.001509\n",
       "8      -0.001511\n",
       "11     -0.001527\n",
       "21     -0.001550\n",
       "          ...   \n",
       "9983   -0.000758\n",
       "9989   -0.000679\n",
       "9991    0.000508\n",
       "9994    0.000494\n",
       "9995    0.000491\n",
       "Length: 2029, dtype: float64"
      ]
     },
     "execution_count": 42,
     "metadata": {},
     "output_type": "execute_result"
    }
   ],
   "source": [
    "p"
   ]
  },
  {
   "cell_type": "code",
   "execution_count": null,
   "metadata": {},
   "outputs": [],
   "source": []
  },
  {
   "cell_type": "markdown",
   "metadata": {},
   "source": [
    "# COINS dataset"
   ]
  },
  {
   "cell_type": "markdown",
   "metadata": {},
   "source": []
  }
 ],
 "metadata": {
  "kernelspec": {
   "display_name": "deep-uncertainty",
   "language": "python",
   "name": "python3"
  },
  "language_info": {
   "codemirror_mode": {
    "name": "ipython",
    "version": 3
   },
   "file_extension": ".py",
   "mimetype": "text/x-python",
   "name": "python",
   "nbconvert_exporter": "python",
   "pygments_lexer": "ipython3",
   "version": "3.11.7"
  }
 },
 "nbformat": 4,
 "nbformat_minor": 2
}
