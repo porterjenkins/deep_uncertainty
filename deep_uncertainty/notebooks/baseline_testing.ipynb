{
 "cells": [
  {
   "cell_type": "code",
   "execution_count": 2,
   "metadata": {},
   "outputs": [],
   "source": [
    "import os\n",
    "from sklearn.linear_model import PoissonRegressor\n",
    "import pandas as pd\n",
    "from sklearn.model_selection import train_test_split\n",
    "from sklearn import preprocessing\n",
    "from sklearn.metrics import mean_squared_error\n",
    "from sklearn.metrics import mean_absolute_error\n",
    "import numpy as np\n",
    "import statsmodels.formula.api as smf\n",
    "import statsmodels.api as sm\n",
    "from scipy.stats import poisson\n",
    "from scipy.stats import nbinom\n",
    "from patsy import dmatrices\n",
    "os.chdir(os.path.expanduser(\"~/Desktop/Classes/Research/deep_uncertainty/deep_uncertainty\"))"
   ]
  },
  {
   "cell_type": "markdown",
   "metadata": {},
   "source": [
    "# Bikes Data"
   ]
  },
  {
   "cell_type": "markdown",
   "metadata": {},
   "source": [
    "Poisson"
   ]
  },
  {
   "cell_type": "code",
   "execution_count": 3,
   "metadata": {},
   "outputs": [
    {
     "ename": "FileNotFoundError",
     "evalue": "[Errno 2] No such file or directory: 'deep_uncertainty/data/bikes/hour.csv'",
     "output_type": "error",
     "traceback": [
      "\u001b[0;31m---------------------------------------------------------------------------\u001b[0m",
      "\u001b[0;31mFileNotFoundError\u001b[0m                         Traceback (most recent call last)",
      "Cell \u001b[0;32mIn[3], line 1\u001b[0m\n\u001b[0;32m----> 1\u001b[0m bikes \u001b[38;5;241m=\u001b[39m \u001b[43mpd\u001b[49m\u001b[38;5;241;43m.\u001b[39;49m\u001b[43mread_csv\u001b[49m\u001b[43m(\u001b[49m\u001b[38;5;124;43m'\u001b[39;49m\u001b[38;5;124;43mdeep_uncertainty/data/bikes/hour.csv\u001b[39;49m\u001b[38;5;124;43m'\u001b[39;49m\u001b[43m)\u001b[49m\n",
      "File \u001b[0;32m~/opt/anaconda3/envs/deep-uncertainty/lib/python3.10/site-packages/pandas/io/parsers/readers.py:948\u001b[0m, in \u001b[0;36mread_csv\u001b[0;34m(filepath_or_buffer, sep, delimiter, header, names, index_col, usecols, dtype, engine, converters, true_values, false_values, skipinitialspace, skiprows, skipfooter, nrows, na_values, keep_default_na, na_filter, verbose, skip_blank_lines, parse_dates, infer_datetime_format, keep_date_col, date_parser, date_format, dayfirst, cache_dates, iterator, chunksize, compression, thousands, decimal, lineterminator, quotechar, quoting, doublequote, escapechar, comment, encoding, encoding_errors, dialect, on_bad_lines, delim_whitespace, low_memory, memory_map, float_precision, storage_options, dtype_backend)\u001b[0m\n\u001b[1;32m    935\u001b[0m kwds_defaults \u001b[38;5;241m=\u001b[39m _refine_defaults_read(\n\u001b[1;32m    936\u001b[0m     dialect,\n\u001b[1;32m    937\u001b[0m     delimiter,\n\u001b[0;32m   (...)\u001b[0m\n\u001b[1;32m    944\u001b[0m     dtype_backend\u001b[38;5;241m=\u001b[39mdtype_backend,\n\u001b[1;32m    945\u001b[0m )\n\u001b[1;32m    946\u001b[0m kwds\u001b[38;5;241m.\u001b[39mupdate(kwds_defaults)\n\u001b[0;32m--> 948\u001b[0m \u001b[38;5;28;01mreturn\u001b[39;00m \u001b[43m_read\u001b[49m\u001b[43m(\u001b[49m\u001b[43mfilepath_or_buffer\u001b[49m\u001b[43m,\u001b[49m\u001b[43m \u001b[49m\u001b[43mkwds\u001b[49m\u001b[43m)\u001b[49m\n",
      "File \u001b[0;32m~/opt/anaconda3/envs/deep-uncertainty/lib/python3.10/site-packages/pandas/io/parsers/readers.py:611\u001b[0m, in \u001b[0;36m_read\u001b[0;34m(filepath_or_buffer, kwds)\u001b[0m\n\u001b[1;32m    608\u001b[0m _validate_names(kwds\u001b[38;5;241m.\u001b[39mget(\u001b[38;5;124m\"\u001b[39m\u001b[38;5;124mnames\u001b[39m\u001b[38;5;124m\"\u001b[39m, \u001b[38;5;28;01mNone\u001b[39;00m))\n\u001b[1;32m    610\u001b[0m \u001b[38;5;66;03m# Create the parser.\u001b[39;00m\n\u001b[0;32m--> 611\u001b[0m parser \u001b[38;5;241m=\u001b[39m \u001b[43mTextFileReader\u001b[49m\u001b[43m(\u001b[49m\u001b[43mfilepath_or_buffer\u001b[49m\u001b[43m,\u001b[49m\u001b[43m \u001b[49m\u001b[38;5;241;43m*\u001b[39;49m\u001b[38;5;241;43m*\u001b[39;49m\u001b[43mkwds\u001b[49m\u001b[43m)\u001b[49m\n\u001b[1;32m    613\u001b[0m \u001b[38;5;28;01mif\u001b[39;00m chunksize \u001b[38;5;129;01mor\u001b[39;00m iterator:\n\u001b[1;32m    614\u001b[0m     \u001b[38;5;28;01mreturn\u001b[39;00m parser\n",
      "File \u001b[0;32m~/opt/anaconda3/envs/deep-uncertainty/lib/python3.10/site-packages/pandas/io/parsers/readers.py:1448\u001b[0m, in \u001b[0;36mTextFileReader.__init__\u001b[0;34m(self, f, engine, **kwds)\u001b[0m\n\u001b[1;32m   1445\u001b[0m     \u001b[38;5;28mself\u001b[39m\u001b[38;5;241m.\u001b[39moptions[\u001b[38;5;124m\"\u001b[39m\u001b[38;5;124mhas_index_names\u001b[39m\u001b[38;5;124m\"\u001b[39m] \u001b[38;5;241m=\u001b[39m kwds[\u001b[38;5;124m\"\u001b[39m\u001b[38;5;124mhas_index_names\u001b[39m\u001b[38;5;124m\"\u001b[39m]\n\u001b[1;32m   1447\u001b[0m \u001b[38;5;28mself\u001b[39m\u001b[38;5;241m.\u001b[39mhandles: IOHandles \u001b[38;5;241m|\u001b[39m \u001b[38;5;28;01mNone\u001b[39;00m \u001b[38;5;241m=\u001b[39m \u001b[38;5;28;01mNone\u001b[39;00m\n\u001b[0;32m-> 1448\u001b[0m \u001b[38;5;28mself\u001b[39m\u001b[38;5;241m.\u001b[39m_engine \u001b[38;5;241m=\u001b[39m \u001b[38;5;28;43mself\u001b[39;49m\u001b[38;5;241;43m.\u001b[39;49m\u001b[43m_make_engine\u001b[49m\u001b[43m(\u001b[49m\u001b[43mf\u001b[49m\u001b[43m,\u001b[49m\u001b[43m \u001b[49m\u001b[38;5;28;43mself\u001b[39;49m\u001b[38;5;241;43m.\u001b[39;49m\u001b[43mengine\u001b[49m\u001b[43m)\u001b[49m\n",
      "File \u001b[0;32m~/opt/anaconda3/envs/deep-uncertainty/lib/python3.10/site-packages/pandas/io/parsers/readers.py:1705\u001b[0m, in \u001b[0;36mTextFileReader._make_engine\u001b[0;34m(self, f, engine)\u001b[0m\n\u001b[1;32m   1703\u001b[0m     \u001b[38;5;28;01mif\u001b[39;00m \u001b[38;5;124m\"\u001b[39m\u001b[38;5;124mb\u001b[39m\u001b[38;5;124m\"\u001b[39m \u001b[38;5;129;01mnot\u001b[39;00m \u001b[38;5;129;01min\u001b[39;00m mode:\n\u001b[1;32m   1704\u001b[0m         mode \u001b[38;5;241m+\u001b[39m\u001b[38;5;241m=\u001b[39m \u001b[38;5;124m\"\u001b[39m\u001b[38;5;124mb\u001b[39m\u001b[38;5;124m\"\u001b[39m\n\u001b[0;32m-> 1705\u001b[0m \u001b[38;5;28mself\u001b[39m\u001b[38;5;241m.\u001b[39mhandles \u001b[38;5;241m=\u001b[39m \u001b[43mget_handle\u001b[49m\u001b[43m(\u001b[49m\n\u001b[1;32m   1706\u001b[0m \u001b[43m    \u001b[49m\u001b[43mf\u001b[49m\u001b[43m,\u001b[49m\n\u001b[1;32m   1707\u001b[0m \u001b[43m    \u001b[49m\u001b[43mmode\u001b[49m\u001b[43m,\u001b[49m\n\u001b[1;32m   1708\u001b[0m \u001b[43m    \u001b[49m\u001b[43mencoding\u001b[49m\u001b[38;5;241;43m=\u001b[39;49m\u001b[38;5;28;43mself\u001b[39;49m\u001b[38;5;241;43m.\u001b[39;49m\u001b[43moptions\u001b[49m\u001b[38;5;241;43m.\u001b[39;49m\u001b[43mget\u001b[49m\u001b[43m(\u001b[49m\u001b[38;5;124;43m\"\u001b[39;49m\u001b[38;5;124;43mencoding\u001b[39;49m\u001b[38;5;124;43m\"\u001b[39;49m\u001b[43m,\u001b[49m\u001b[43m \u001b[49m\u001b[38;5;28;43;01mNone\u001b[39;49;00m\u001b[43m)\u001b[49m\u001b[43m,\u001b[49m\n\u001b[1;32m   1709\u001b[0m \u001b[43m    \u001b[49m\u001b[43mcompression\u001b[49m\u001b[38;5;241;43m=\u001b[39;49m\u001b[38;5;28;43mself\u001b[39;49m\u001b[38;5;241;43m.\u001b[39;49m\u001b[43moptions\u001b[49m\u001b[38;5;241;43m.\u001b[39;49m\u001b[43mget\u001b[49m\u001b[43m(\u001b[49m\u001b[38;5;124;43m\"\u001b[39;49m\u001b[38;5;124;43mcompression\u001b[39;49m\u001b[38;5;124;43m\"\u001b[39;49m\u001b[43m,\u001b[49m\u001b[43m \u001b[49m\u001b[38;5;28;43;01mNone\u001b[39;49;00m\u001b[43m)\u001b[49m\u001b[43m,\u001b[49m\n\u001b[1;32m   1710\u001b[0m \u001b[43m    \u001b[49m\u001b[43mmemory_map\u001b[49m\u001b[38;5;241;43m=\u001b[39;49m\u001b[38;5;28;43mself\u001b[39;49m\u001b[38;5;241;43m.\u001b[39;49m\u001b[43moptions\u001b[49m\u001b[38;5;241;43m.\u001b[39;49m\u001b[43mget\u001b[49m\u001b[43m(\u001b[49m\u001b[38;5;124;43m\"\u001b[39;49m\u001b[38;5;124;43mmemory_map\u001b[39;49m\u001b[38;5;124;43m\"\u001b[39;49m\u001b[43m,\u001b[49m\u001b[43m \u001b[49m\u001b[38;5;28;43;01mFalse\u001b[39;49;00m\u001b[43m)\u001b[49m\u001b[43m,\u001b[49m\n\u001b[1;32m   1711\u001b[0m \u001b[43m    \u001b[49m\u001b[43mis_text\u001b[49m\u001b[38;5;241;43m=\u001b[39;49m\u001b[43mis_text\u001b[49m\u001b[43m,\u001b[49m\n\u001b[1;32m   1712\u001b[0m \u001b[43m    \u001b[49m\u001b[43merrors\u001b[49m\u001b[38;5;241;43m=\u001b[39;49m\u001b[38;5;28;43mself\u001b[39;49m\u001b[38;5;241;43m.\u001b[39;49m\u001b[43moptions\u001b[49m\u001b[38;5;241;43m.\u001b[39;49m\u001b[43mget\u001b[49m\u001b[43m(\u001b[49m\u001b[38;5;124;43m\"\u001b[39;49m\u001b[38;5;124;43mencoding_errors\u001b[39;49m\u001b[38;5;124;43m\"\u001b[39;49m\u001b[43m,\u001b[49m\u001b[43m \u001b[49m\u001b[38;5;124;43m\"\u001b[39;49m\u001b[38;5;124;43mstrict\u001b[39;49m\u001b[38;5;124;43m\"\u001b[39;49m\u001b[43m)\u001b[49m\u001b[43m,\u001b[49m\n\u001b[1;32m   1713\u001b[0m \u001b[43m    \u001b[49m\u001b[43mstorage_options\u001b[49m\u001b[38;5;241;43m=\u001b[39;49m\u001b[38;5;28;43mself\u001b[39;49m\u001b[38;5;241;43m.\u001b[39;49m\u001b[43moptions\u001b[49m\u001b[38;5;241;43m.\u001b[39;49m\u001b[43mget\u001b[49m\u001b[43m(\u001b[49m\u001b[38;5;124;43m\"\u001b[39;49m\u001b[38;5;124;43mstorage_options\u001b[39;49m\u001b[38;5;124;43m\"\u001b[39;49m\u001b[43m,\u001b[49m\u001b[43m \u001b[49m\u001b[38;5;28;43;01mNone\u001b[39;49;00m\u001b[43m)\u001b[49m\u001b[43m,\u001b[49m\n\u001b[1;32m   1714\u001b[0m \u001b[43m\u001b[49m\u001b[43m)\u001b[49m\n\u001b[1;32m   1715\u001b[0m \u001b[38;5;28;01massert\u001b[39;00m \u001b[38;5;28mself\u001b[39m\u001b[38;5;241m.\u001b[39mhandles \u001b[38;5;129;01mis\u001b[39;00m \u001b[38;5;129;01mnot\u001b[39;00m \u001b[38;5;28;01mNone\u001b[39;00m\n\u001b[1;32m   1716\u001b[0m f \u001b[38;5;241m=\u001b[39m \u001b[38;5;28mself\u001b[39m\u001b[38;5;241m.\u001b[39mhandles\u001b[38;5;241m.\u001b[39mhandle\n",
      "File \u001b[0;32m~/opt/anaconda3/envs/deep-uncertainty/lib/python3.10/site-packages/pandas/io/common.py:863\u001b[0m, in \u001b[0;36mget_handle\u001b[0;34m(path_or_buf, mode, encoding, compression, memory_map, is_text, errors, storage_options)\u001b[0m\n\u001b[1;32m    858\u001b[0m \u001b[38;5;28;01melif\u001b[39;00m \u001b[38;5;28misinstance\u001b[39m(handle, \u001b[38;5;28mstr\u001b[39m):\n\u001b[1;32m    859\u001b[0m     \u001b[38;5;66;03m# Check whether the filename is to be opened in binary mode.\u001b[39;00m\n\u001b[1;32m    860\u001b[0m     \u001b[38;5;66;03m# Binary mode does not support 'encoding' and 'newline'.\u001b[39;00m\n\u001b[1;32m    861\u001b[0m     \u001b[38;5;28;01mif\u001b[39;00m ioargs\u001b[38;5;241m.\u001b[39mencoding \u001b[38;5;129;01mand\u001b[39;00m \u001b[38;5;124m\"\u001b[39m\u001b[38;5;124mb\u001b[39m\u001b[38;5;124m\"\u001b[39m \u001b[38;5;129;01mnot\u001b[39;00m \u001b[38;5;129;01min\u001b[39;00m ioargs\u001b[38;5;241m.\u001b[39mmode:\n\u001b[1;32m    862\u001b[0m         \u001b[38;5;66;03m# Encoding\u001b[39;00m\n\u001b[0;32m--> 863\u001b[0m         handle \u001b[38;5;241m=\u001b[39m \u001b[38;5;28;43mopen\u001b[39;49m\u001b[43m(\u001b[49m\n\u001b[1;32m    864\u001b[0m \u001b[43m            \u001b[49m\u001b[43mhandle\u001b[49m\u001b[43m,\u001b[49m\n\u001b[1;32m    865\u001b[0m \u001b[43m            \u001b[49m\u001b[43mioargs\u001b[49m\u001b[38;5;241;43m.\u001b[39;49m\u001b[43mmode\u001b[49m\u001b[43m,\u001b[49m\n\u001b[1;32m    866\u001b[0m \u001b[43m            \u001b[49m\u001b[43mencoding\u001b[49m\u001b[38;5;241;43m=\u001b[39;49m\u001b[43mioargs\u001b[49m\u001b[38;5;241;43m.\u001b[39;49m\u001b[43mencoding\u001b[49m\u001b[43m,\u001b[49m\n\u001b[1;32m    867\u001b[0m \u001b[43m            \u001b[49m\u001b[43merrors\u001b[49m\u001b[38;5;241;43m=\u001b[39;49m\u001b[43merrors\u001b[49m\u001b[43m,\u001b[49m\n\u001b[1;32m    868\u001b[0m \u001b[43m            \u001b[49m\u001b[43mnewline\u001b[49m\u001b[38;5;241;43m=\u001b[39;49m\u001b[38;5;124;43m\"\u001b[39;49m\u001b[38;5;124;43m\"\u001b[39;49m\u001b[43m,\u001b[49m\n\u001b[1;32m    869\u001b[0m \u001b[43m        \u001b[49m\u001b[43m)\u001b[49m\n\u001b[1;32m    870\u001b[0m     \u001b[38;5;28;01melse\u001b[39;00m:\n\u001b[1;32m    871\u001b[0m         \u001b[38;5;66;03m# Binary mode\u001b[39;00m\n\u001b[1;32m    872\u001b[0m         handle \u001b[38;5;241m=\u001b[39m \u001b[38;5;28mopen\u001b[39m(handle, ioargs\u001b[38;5;241m.\u001b[39mmode)\n",
      "\u001b[0;31mFileNotFoundError\u001b[0m: [Errno 2] No such file or directory: 'deep_uncertainty/data/bikes/hour.csv'"
     ]
    }
   ],
   "source": [
    "bikes = pd.read_csv('deep_uncertainty/data/bikes/hour.csv')"
   ]
  },
  {
   "cell_type": "code",
   "execution_count": null,
   "metadata": {},
   "outputs": [],
   "source": [
    "bikes = bikes.drop(['dteday', 'instant', 'registered'], axis=1)\n",
    "X = bikes.iloc[:,:-1]\n",
    "X = preprocessing.StandardScaler().fit_transform(X)\n",
    "mask = np.random.rand(len(bikes)) < 0.8\n",
    "df_train = bikes[mask]\n",
    "df_test = bikes[~mask]\n",
    "\n",
    "expr = \"cnt ~ \" + \" + \".join(bikes.columns[:-1])\n",
    "expr\n",
    "\n",
    "y_train, X_train = dmatrices(expr, df_train, return_type='dataframe')\n",
    "y_test, X_test = dmatrices(expr, df_test, return_type='dataframe')\n",
    "\n",
    "poisson_training_results = sm.GLM(y_train, X_train, family=sm.families.Poisson()).fit()\n",
    "poisson_testing_results = sm.GLM(y_test, X_test, family=sm.families.Poisson()).fit()\n",
    "# print(poisson_training_results.summary())"
   ]
  },
  {
   "cell_type": "code",
   "execution_count": null,
   "metadata": {},
   "outputs": [
    {
     "data": {
      "text/plain": [
       "array([[ 19.,  56.],\n",
       "       [ 24.,  64.],\n",
       "       [ 53., 108.],\n",
       "       [ 46.,  98.],\n",
       "       [ 41.,  91.],\n",
       "       [ 19.,  55.],\n",
       "       [ 21.,  59.],\n",
       "       [ 22.,  61.],\n",
       "       [ 27.,  68.],\n",
       "       [ 30.,  74.]])"
      ]
     },
     "execution_count": 71,
     "metadata": {},
     "output_type": "execute_result"
    }
   ],
   "source": [
    "y_preds = poisson_testing_results.mu\n",
    "posterior_predictive = poisson(mu=y_preds)\n",
    "np.column_stack([posterior_predictive.ppf(0.001), posterior_predictive.ppf(0.999)])[:10]"
   ]
  },
  {
   "cell_type": "code",
   "execution_count": null,
   "metadata": {},
   "outputs": [
    {
     "data": {
      "text/plain": [
       "Intercept     3.404410\n",
       "season        0.098715\n",
       "yr            0.289982\n",
       "mnth          0.006788\n",
       "hr            0.040598\n",
       "holiday       0.007363\n",
       "weekday      -0.005990\n",
       "workingday    0.506906\n",
       "weathersit   -0.032532\n",
       "temp         -0.110429\n",
       "atemp         0.776292\n",
       "hum          -0.321590\n",
       "windspeed     0.232221\n",
       "casual        0.007304\n",
       "dtype: float64"
      ]
     },
     "execution_count": 72,
     "metadata": {},
     "output_type": "execute_result"
    }
   ],
   "source": [
    "poisson_training_results.params"
   ]
  },
  {
   "cell_type": "code",
   "execution_count": null,
   "metadata": {},
   "outputs": [
    {
     "data": {
      "text/plain": [
       "array([[  1.],\n",
       "       [  8.],\n",
       "       [110.],\n",
       "       [ 67.],\n",
       "       [ 37.],\n",
       "       [ 17.],\n",
       "       [  6.],\n",
       "       [  3.],\n",
       "       [  8.],\n",
       "       [ 20.]])"
      ]
     },
     "execution_count": 73,
     "metadata": {},
     "output_type": "execute_result"
    }
   ],
   "source": [
    "y_test[:10].values"
   ]
  },
  {
   "cell_type": "code",
   "execution_count": null,
   "metadata": {},
   "outputs": [
    {
     "data": {
      "text/plain": [
       "16788.52866980368"
      ]
     },
     "execution_count": 74,
     "metadata": {},
     "output_type": "execute_result"
    }
   ],
   "source": [
    "mse = mean_squared_error(y_preds, y_test)\n",
    "mse"
   ]
  },
  {
   "cell_type": "code",
   "execution_count": null,
   "metadata": {},
   "outputs": [
    {
     "data": {
      "text/plain": [
       "129.57055479468968"
      ]
     },
     "execution_count": 75,
     "metadata": {},
     "output_type": "execute_result"
    }
   ],
   "source": [
    "np.sqrt(mse)"
   ]
  },
  {
   "cell_type": "code",
   "execution_count": null,
   "metadata": {},
   "outputs": [
    {
     "data": {
      "text/plain": [
       "189.46308763450142"
      ]
     },
     "execution_count": 76,
     "metadata": {},
     "output_type": "execute_result"
    }
   ],
   "source": [
    "bikes['cnt'].mean()"
   ]
  },
  {
   "cell_type": "code",
   "execution_count": null,
   "metadata": {},
   "outputs": [
    {
     "data": {
      "text/plain": [
       "181.38759909186527"
      ]
     },
     "execution_count": 77,
     "metadata": {},
     "output_type": "execute_result"
    }
   ],
   "source": [
    "bikes['cnt'].std()"
   ]
  },
  {
   "cell_type": "markdown",
   "metadata": {},
   "source": [
    "Negative Binomial"
   ]
  },
  {
   "cell_type": "code",
   "execution_count": null,
   "metadata": {},
   "outputs": [
    {
     "name": "stderr",
     "output_type": "stream",
     "text": [
      "/var/folders/xg/5n69np453nn3pzzpyw20jrp40000gn/T/ipykernel_48925/4066697801.py:1: SettingWithCopyWarning: \n",
      "A value is trying to be set on a copy of a slice from a DataFrame.\n",
      "Try using .loc[row_indexer,col_indexer] = value instead\n",
      "\n",
      "See the caveats in the documentation: https://pandas.pydata.org/pandas-docs/stable/user_guide/indexing.html#returning-a-view-versus-a-copy\n",
      "  df_train[\"BB_LAMBDA\"] = poisson_training_results.mu\n",
      "/var/folders/xg/5n69np453nn3pzzpyw20jrp40000gn/T/ipykernel_48925/4066697801.py:2: SettingWithCopyWarning: \n",
      "A value is trying to be set on a copy of a slice from a DataFrame.\n",
      "Try using .loc[row_indexer,col_indexer] = value instead\n",
      "\n",
      "See the caveats in the documentation: https://pandas.pydata.org/pandas-docs/stable/user_guide/indexing.html#returning-a-view-versus-a-copy\n",
      "  df_train['AUX_OLS_DEP'] = df_train.apply(lambda x: ((x['cnt'] - x['BB_LAMBDA'])**2 - x['BB_LAMBDA']) / x['BB_LAMBDA'], axis=1)\n",
      "/var/folders/xg/5n69np453nn3pzzpyw20jrp40000gn/T/ipykernel_48925/4066697801.py:5: FutureWarning: Series.__getitem__ treating keys as positions is deprecated. In a future version, integer keys will always be treated as labels (consistent with DataFrame behavior). To access a value by position, use `ser.iloc[pos]`\n",
      "  nb2_training_results = sm.GLM(y_train, X_train,family=sm.families.NegativeBinomial(alpha=aux_olsr_results.params[0])).fit()\n",
      "/opt/homebrew/anaconda3/lib/python3.11/site-packages/statsmodels/genmod/generalized_linear_model.py:900: FutureWarning: linear keyword is deprecated, use which=\"linear\"\n",
      "  warnings.warn(msg, FutureWarning)\n"
     ]
    }
   ],
   "source": [
    "df_train[\"BB_LAMBDA\"] = poisson_training_results.mu\n",
    "df_train['AUX_OLS_DEP'] = df_train.apply(lambda x: ((x['cnt'] - x['BB_LAMBDA'])**2 - x['BB_LAMBDA']) / x['BB_LAMBDA'], axis=1)\n",
    "ols_expr = \"\"\"AUX_OLS_DEP ~ BB_LAMBDA - 1\"\"\"\n",
    "aux_olsr_results = smf.ols(ols_expr, df_train).fit()\n",
    "nb2_training_results = sm.GLM(y_train, X_train,family=sm.families.NegativeBinomial(alpha=aux_olsr_results.params[0])).fit()\n",
    "nb2_predictions = nb2_training_results.get_prediction(X_test)\n",
    "successes = nb2_training_results.predict(X_test, linear=True)\n",
    "predictions_summary_frame = nb2_predictions.summary_frame()\n",
    "predicted_counts=predictions_summary_frame['mean']"
   ]
  },
  {
   "cell_type": "code",
   "execution_count": null,
   "metadata": {},
   "outputs": [
    {
     "data": {
      "text/plain": [
       "Intercept     2.959874\n",
       "season        0.122840\n",
       "yr            0.335876\n",
       "mnth          0.002108\n",
       "hr            0.052598\n",
       "holiday      -0.000544\n",
       "weekday       0.007031\n",
       "workingday    0.562107\n",
       "weathersit   -0.044585\n",
       "temp         -0.449710\n",
       "atemp         0.865668\n",
       "hum          -0.174929\n",
       "windspeed     0.277016\n",
       "casual        0.011579\n",
       "dtype: float64"
      ]
     },
     "execution_count": 80,
     "metadata": {},
     "output_type": "execute_result"
    }
   ],
   "source": [
    "nb2_training_results.params"
   ]
  },
  {
   "cell_type": "code",
   "execution_count": null,
   "metadata": {},
   "outputs": [
    {
     "data": {
      "text/plain": [
       "array([[  273., 12773.],\n",
       "       [  308., 12383.],\n",
       "       [  444., 11161.],\n",
       "       [  415., 11392.],\n",
       "       [  405., 11473.],\n",
       "       [  250., 13054.],\n",
       "       [  265., 12868.],\n",
       "       [  273., 12769.],\n",
       "       [  302., 12451.],\n",
       "       [  316., 12293.]])"
      ]
     },
     "execution_count": 83,
     "metadata": {},
     "output_type": "execute_result"
    }
   ],
   "source": [
    "y_preds = predicted_counts\n",
    "y_test = y_test['cnt']\n",
    "# n is # of successes\n",
    "n = successes\n",
    "# p is the probability of success\n",
    "p = successes / len(y_test)\n",
    "posterior_predictive = nbinom(p=p, n=n)\n",
    "np.column_stack([posterior_predictive.ppf(0.001), posterior_predictive.ppf(0.999)])[:10]"
   ]
  },
  {
   "cell_type": "code",
   "execution_count": null,
   "metadata": {},
   "outputs": [
    {
     "data": {
      "text/plain": [
       "82832.74488982839"
      ]
     },
     "execution_count": 86,
     "metadata": {},
     "output_type": "execute_result"
    }
   ],
   "source": [
    "mse = mean_squared_error(y_preds, y_test)\n",
    "mse"
   ]
  },
  {
   "cell_type": "code",
   "execution_count": null,
   "metadata": {},
   "outputs": [
    {
     "data": {
      "text/plain": [
       "287.8067839537984"
      ]
     },
     "execution_count": 87,
     "metadata": {},
     "output_type": "execute_result"
    }
   ],
   "source": [
    "np.sqrt(mse)"
   ]
  },
  {
   "cell_type": "code",
   "execution_count": null,
   "metadata": {},
   "outputs": [
    {
     "data": {
      "text/plain": [
       "array([  1.,   8., 110.,  67.,  37.,  17.,   6.,   3.,   8.,  20.])"
      ]
     },
     "execution_count": 88,
     "metadata": {},
     "output_type": "execute_result"
    }
   ],
   "source": [
    "y_test[:10].values"
   ]
  },
  {
   "cell_type": "markdown",
   "metadata": {},
   "source": [
    "# Sales Data"
   ]
  },
  {
   "cell_type": "markdown",
   "metadata": {},
   "source": [
    "Poisson"
   ]
  },
  {
   "cell_type": "code",
   "execution_count": 4,
   "metadata": {},
   "outputs": [
    {
     "name": "stdout",
     "output_type": "stream",
     "text": [
      "(76421, 1)\n",
      "(76421, 42)\n"
     ]
    }
   ],
   "source": [
    "import pandas as pd\n",
    "\n",
    "npz = np.load('/Users/braydenchristensen/Desktop/Classes/Research/code/tab-data/sales.npz')\n",
    "npz.files\n",
    "dataframes = {}\n",
    "for key in npz.files:\n",
    "    dataframes[key] = pd.DataFrame(npz[key])\n",
    "\n",
    "X_train = dataframes['X_train']\n",
    "X_val = dataframes['X_val']\n",
    "X_test = dataframes['X_test']\n",
    "y_train = dataframes['y_train']\n",
    "y_val = dataframes['y_val']\n",
    "y_test = dataframes['y_test']\n",
    "\n",
    "print(y_train.shape)\n",
    "print(X_train.shape)"
   ]
  },
  {
   "cell_type": "code",
   "execution_count": 5,
   "metadata": {},
   "outputs": [],
   "source": [
    "# X = pd.concat([X_train, X_train, X_val])\n",
    "# y = pd.concat([y_train, y_train, y_val])"
   ]
  },
  {
   "cell_type": "code",
   "execution_count": 12,
   "metadata": {},
   "outputs": [],
   "source": [
    "poisson_model = sm.GLM(y_train, X_train, family=sm.families.Poisson()).fit()\n",
    "y_train_pred = poisson_model.predict(X_train)\n",
    "y_val_pred = poisson_model.predict(X_val)\n",
    "y_test_preds = poisson_model.predict(X_test)\n",
    "\n",
    "# print(poisson_model.mu)\n",
    "# print(y_train_pred)"
   ]
  },
  {
   "cell_type": "code",
   "execution_count": 13,
   "metadata": {},
   "outputs": [
    {
     "data": {
      "text/plain": [
       "array([[ 0., 13.],\n",
       "       [ 0., 12.],\n",
       "       [ 0., 13.],\n",
       "       [ 1., 17.],\n",
       "       [ 1., 16.],\n",
       "       [ 0.,  9.],\n",
       "       [ 0., 14.],\n",
       "       [ 0., 12.],\n",
       "       [ 0., 13.],\n",
       "       [ 2., 22.]])"
      ]
     },
     "execution_count": 13,
     "metadata": {},
     "output_type": "execute_result"
    }
   ],
   "source": [
    "posterior_predictive = poisson(mu=y_test_preds)\n",
    "posterior_predictive\n",
    "np.column_stack([posterior_predictive.ppf(0.001), posterior_predictive.ppf(0.999)])[:10]"
   ]
  },
  {
   "cell_type": "code",
   "execution_count": 14,
   "metadata": {},
   "outputs": [
    {
     "data": {
      "text/plain": [
       "array([[7.],\n",
       "       [5.],\n",
       "       [2.],\n",
       "       [3.],\n",
       "       [5.],\n",
       "       [2.],\n",
       "       [9.],\n",
       "       [1.],\n",
       "       [6.],\n",
       "       [4.]])"
      ]
     },
     "execution_count": 14,
     "metadata": {},
     "output_type": "execute_result"
    }
   ],
   "source": [
    "y_test[:10].values"
   ]
  },
  {
   "cell_type": "code",
   "execution_count": 15,
   "metadata": {},
   "outputs": [
    {
     "name": "stdout",
     "output_type": "stream",
     "text": [
      "0       4.801078\n",
      "1       4.484918\n",
      "2       5.137232\n",
      "3       7.226167\n",
      "4       7.009805\n",
      "          ...   \n",
      "9548    8.416938\n",
      "9549    6.311879\n",
      "9550    4.751579\n",
      "9551    4.190171\n",
      "9552    4.615769\n",
      "Length: 9553, dtype: float64\n"
     ]
    },
    {
     "data": {
      "text/plain": [
       "9553"
      ]
     },
     "execution_count": 15,
     "metadata": {},
     "output_type": "execute_result"
    }
   ],
   "source": [
    "print(y_test_preds)\n",
    "len(y_test_preds)"
   ]
  },
  {
   "cell_type": "code",
   "execution_count": 16,
   "metadata": {},
   "outputs": [
    {
     "data": {
      "text/html": [
       "<table class=\"simpletable\">\n",
       "<caption>Generalized Linear Model Regression Results</caption>\n",
       "<tr>\n",
       "  <th>Dep. Variable:</th>           <td>0</td>        <th>  No. Observations:  </th>   <td> 76421</td>   \n",
       "</tr>\n",
       "<tr>\n",
       "  <th>Model:</th>                  <td>GLM</td>       <th>  Df Residuals:      </th>   <td> 76381</td>   \n",
       "</tr>\n",
       "<tr>\n",
       "  <th>Model Family:</th>         <td>Poisson</td>     <th>  Df Model:          </th>   <td>    39</td>   \n",
       "</tr>\n",
       "<tr>\n",
       "  <th>Link Function:</th>          <td>Log</td>       <th>  Scale:             </th>  <td>  1.0000</td>  \n",
       "</tr>\n",
       "<tr>\n",
       "  <th>Method:</th>                <td>IRLS</td>       <th>  Log-Likelihood:    </th> <td>-3.3898e+05</td>\n",
       "</tr>\n",
       "<tr>\n",
       "  <th>Date:</th>            <td>Tue, 02 Apr 2024</td> <th>  Deviance:          </th> <td>4.4394e+05</td> \n",
       "</tr>\n",
       "<tr>\n",
       "  <th>Time:</th>                <td>11:20:15</td>     <th>  Pearson chi2:      </th>  <td>4.84e+05</td>  \n",
       "</tr>\n",
       "<tr>\n",
       "  <th>No. Iterations:</th>         <td>94</td>        <th>  Pseudo R-squ. (CS):</th>   <td>0.8479</td>   \n",
       "</tr>\n",
       "<tr>\n",
       "  <th>Covariance Type:</th>     <td>nonrobust</td>    <th>                     </th>      <td> </td>     \n",
       "</tr>\n",
       "</table>\n",
       "<table class=\"simpletable\">\n",
       "<tr>\n",
       "   <td></td>     <th>coef</th>     <th>std err</th>      <th>z</th>      <th>P>|z|</th>  <th>[0.025</th>    <th>0.975]</th>  \n",
       "</tr>\n",
       "<tr>\n",
       "  <th>0</th>  <td>    0.1410</td> <td>    0.009</td> <td>   15.178</td> <td> 0.000</td> <td>    0.123</td> <td>    0.159</td>\n",
       "</tr>\n",
       "<tr>\n",
       "  <th>1</th>  <td>    0.7022</td> <td>    0.016</td> <td>   43.221</td> <td> 0.000</td> <td>    0.670</td> <td>    0.734</td>\n",
       "</tr>\n",
       "<tr>\n",
       "  <th>2</th>  <td>    0.4583</td> <td>    0.013</td> <td>   36.332</td> <td> 0.000</td> <td>    0.434</td> <td>    0.483</td>\n",
       "</tr>\n",
       "<tr>\n",
       "  <th>3</th>  <td>    0.1360</td> <td>    0.007</td> <td>   19.280</td> <td> 0.000</td> <td>    0.122</td> <td>    0.150</td>\n",
       "</tr>\n",
       "<tr>\n",
       "  <th>4</th>  <td> 1.419e+05</td> <td> 1.11e+04</td> <td>   12.815</td> <td> 0.000</td> <td>  1.2e+05</td> <td> 1.64e+05</td>\n",
       "</tr>\n",
       "<tr>\n",
       "  <th>5</th>  <td>    0.0340</td> <td>    0.014</td> <td>    2.487</td> <td> 0.013</td> <td>    0.007</td> <td>    0.061</td>\n",
       "</tr>\n",
       "<tr>\n",
       "  <th>6</th>  <td>   -0.1698</td> <td>    0.008</td> <td>  -20.441</td> <td> 0.000</td> <td>   -0.186</td> <td>   -0.154</td>\n",
       "</tr>\n",
       "<tr>\n",
       "  <th>7</th>  <td>   -0.7382</td> <td>    0.117</td> <td>   -6.308</td> <td> 0.000</td> <td>   -0.968</td> <td>   -0.509</td>\n",
       "</tr>\n",
       "<tr>\n",
       "  <th>8</th>  <td>-2.133e+05</td> <td> 6073.834</td> <td>  -35.117</td> <td> 0.000</td> <td>-2.25e+05</td> <td>-2.01e+05</td>\n",
       "</tr>\n",
       "<tr>\n",
       "  <th>9</th>  <td> -1.63e+05</td> <td> 4640.790</td> <td>  -35.117</td> <td> 0.000</td> <td>-1.72e+05</td> <td>-1.54e+05</td>\n",
       "</tr>\n",
       "<tr>\n",
       "  <th>10</th> <td>-8.079e+04</td> <td> 8757.424</td> <td>   -9.225</td> <td> 0.000</td> <td> -9.8e+04</td> <td>-6.36e+04</td>\n",
       "</tr>\n",
       "<tr>\n",
       "  <th>11</th> <td> -2.12e+04</td> <td> 2298.051</td> <td>   -9.225</td> <td> 0.000</td> <td>-2.57e+04</td> <td>-1.67e+04</td>\n",
       "</tr>\n",
       "<tr>\n",
       "  <th>12</th> <td>-3.165e+05</td> <td> 1.08e+04</td> <td>  -29.222</td> <td> 0.000</td> <td>-3.38e+05</td> <td>-2.95e+05</td>\n",
       "</tr>\n",
       "<tr>\n",
       "  <th>13</th> <td>    0.1917</td> <td>    0.042</td> <td>    4.563</td> <td> 0.000</td> <td>    0.109</td> <td>    0.274</td>\n",
       "</tr>\n",
       "<tr>\n",
       "  <th>14</th> <td>-2.133e+05</td> <td> 6073.834</td> <td>  -35.117</td> <td> 0.000</td> <td>-2.25e+05</td> <td>-2.01e+05</td>\n",
       "</tr>\n",
       "<tr>\n",
       "  <th>15</th> <td> -2.12e+04</td> <td> 2298.051</td> <td>   -9.225</td> <td> 0.000</td> <td>-2.57e+04</td> <td>-1.67e+04</td>\n",
       "</tr>\n",
       "<tr>\n",
       "  <th>16</th> <td>    0.3055</td> <td>    0.020</td> <td>   15.416</td> <td> 0.000</td> <td>    0.267</td> <td>    0.344</td>\n",
       "</tr>\n",
       "<tr>\n",
       "  <th>17</th> <td>-1.555e+05</td> <td> 1.21e+04</td> <td>  -12.815</td> <td> 0.000</td> <td>-1.79e+05</td> <td>-1.32e+05</td>\n",
       "</tr>\n",
       "<tr>\n",
       "  <th>18</th> <td>   -0.1819</td> <td>    0.004</td> <td>  -51.385</td> <td> 0.000</td> <td>   -0.189</td> <td>   -0.175</td>\n",
       "</tr>\n",
       "<tr>\n",
       "  <th>19</th> <td>    0.2517</td> <td>    0.015</td> <td>   17.352</td> <td> 0.000</td> <td>    0.223</td> <td>    0.280</td>\n",
       "</tr>\n",
       "<tr>\n",
       "  <th>20</th> <td>    0.1680</td> <td>    0.011</td> <td>   15.136</td> <td> 0.000</td> <td>    0.146</td> <td>    0.190</td>\n",
       "</tr>\n",
       "<tr>\n",
       "  <th>21</th> <td>   -0.2816</td> <td>    0.020</td> <td>  -14.002</td> <td> 0.000</td> <td>   -0.321</td> <td>   -0.242</td>\n",
       "</tr>\n",
       "<tr>\n",
       "  <th>22</th> <td>    0.2358</td> <td>    0.013</td> <td>   18.570</td> <td> 0.000</td> <td>    0.211</td> <td>    0.261</td>\n",
       "</tr>\n",
       "<tr>\n",
       "  <th>23</th> <td>    0.2700</td> <td>    0.019</td> <td>   14.427</td> <td> 0.000</td> <td>    0.233</td> <td>    0.307</td>\n",
       "</tr>\n",
       "<tr>\n",
       "  <th>24</th> <td>    0.3085</td> <td>    0.014</td> <td>   21.533</td> <td> 0.000</td> <td>    0.280</td> <td>    0.337</td>\n",
       "</tr>\n",
       "<tr>\n",
       "  <th>25</th> <td> 2.919e+05</td> <td> 6213.097</td> <td>   46.989</td> <td> 0.000</td> <td>  2.8e+05</td> <td> 3.04e+05</td>\n",
       "</tr>\n",
       "<tr>\n",
       "  <th>26</th> <td> 4.149e+05</td> <td> 8829.998</td> <td>   46.990</td> <td> 0.000</td> <td> 3.98e+05</td> <td> 4.32e+05</td>\n",
       "</tr>\n",
       "<tr>\n",
       "  <th>27</th> <td> 2.967e+05</td> <td> 1.21e+04</td> <td>   24.606</td> <td> 0.000</td> <td> 2.73e+05</td> <td>  3.2e+05</td>\n",
       "</tr>\n",
       "<tr>\n",
       "  <th>28</th> <td> 2.213e+05</td> <td> 8995.419</td> <td>   24.606</td> <td> 0.000</td> <td> 2.04e+05</td> <td> 2.39e+05</td>\n",
       "</tr>\n",
       "<tr>\n",
       "  <th>29</th> <td>-6.279e+05</td> <td> 1.34e+04</td> <td>  -46.990</td> <td> 0.000</td> <td>-6.54e+05</td> <td>-6.02e+05</td>\n",
       "</tr>\n",
       "<tr>\n",
       "  <th>30</th> <td>-4.556e+05</td> <td> 1.85e+04</td> <td>  -24.606</td> <td> 0.000</td> <td>-4.92e+05</td> <td>-4.19e+05</td>\n",
       "</tr>\n",
       "<tr>\n",
       "  <th>31</th> <td>   10.2582</td> <td>    0.480</td> <td>   21.363</td> <td> 0.000</td> <td>    9.317</td> <td>   11.199</td>\n",
       "</tr>\n",
       "<tr>\n",
       "  <th>32</th> <td>    0.2856</td> <td>    0.026</td> <td>   10.991</td> <td> 0.000</td> <td>    0.235</td> <td>    0.336</td>\n",
       "</tr>\n",
       "<tr>\n",
       "  <th>33</th> <td>    0.2315</td> <td>    0.006</td> <td>   36.894</td> <td> 0.000</td> <td>    0.219</td> <td>    0.244</td>\n",
       "</tr>\n",
       "<tr>\n",
       "  <th>34</th> <td>   -0.0084</td> <td>    0.005</td> <td>   -1.535</td> <td> 0.125</td> <td>   -0.019</td> <td>    0.002</td>\n",
       "</tr>\n",
       "<tr>\n",
       "  <th>35</th> <td>   -0.3714</td> <td>    0.012</td> <td>  -30.262</td> <td> 0.000</td> <td>   -0.395</td> <td>   -0.347</td>\n",
       "</tr>\n",
       "<tr>\n",
       "  <th>36</th> <td>    0.2140</td> <td>    0.015</td> <td>   14.735</td> <td> 0.000</td> <td>    0.186</td> <td>    0.243</td>\n",
       "</tr>\n",
       "<tr>\n",
       "  <th>37</th> <td> 2.835e+05</td> <td> 2.21e+04</td> <td>   12.815</td> <td> 0.000</td> <td>  2.4e+05</td> <td> 3.27e+05</td>\n",
       "</tr>\n",
       "<tr>\n",
       "  <th>38</th> <td>   -0.2096</td> <td>    0.001</td> <td> -151.443</td> <td> 0.000</td> <td>   -0.212</td> <td>   -0.207</td>\n",
       "</tr>\n",
       "<tr>\n",
       "  <th>39</th> <td>    2.0056</td> <td>    0.005</td> <td>  418.103</td> <td> 0.000</td> <td>    1.996</td> <td>    2.015</td>\n",
       "</tr>\n",
       "<tr>\n",
       "  <th>40</th> <td>    2.1296</td> <td>    0.005</td> <td>  450.847</td> <td> 0.000</td> <td>    2.120</td> <td>    2.139</td>\n",
       "</tr>\n",
       "<tr>\n",
       "  <th>41</th> <td>    1.7673</td> <td>    0.005</td> <td>  357.117</td> <td> 0.000</td> <td>    1.758</td> <td>    1.777</td>\n",
       "</tr>\n",
       "</table>"
      ],
      "text/latex": [
       "\\begin{center}\n",
       "\\begin{tabular}{lclc}\n",
       "\\toprule\n",
       "\\textbf{Dep. Variable:}   &        0         & \\textbf{  No. Observations:  } &     76421    \\\\\n",
       "\\textbf{Model:}           &       GLM        & \\textbf{  Df Residuals:      } &     76381    \\\\\n",
       "\\textbf{Model Family:}    &     Poisson      & \\textbf{  Df Model:          } &        39    \\\\\n",
       "\\textbf{Link Function:}   &       Log        & \\textbf{  Scale:             } &     1.0000   \\\\\n",
       "\\textbf{Method:}          &       IRLS       & \\textbf{  Log-Likelihood:    } & -3.3898e+05  \\\\\n",
       "\\textbf{Date:}            & Tue, 02 Apr 2024 & \\textbf{  Deviance:          } &  4.4394e+05  \\\\\n",
       "\\textbf{Time:}            &     11:20:15     & \\textbf{  Pearson chi2:      } &   4.84e+05   \\\\\n",
       "\\textbf{No. Iterations:}  &        94        & \\textbf{  Pseudo R-squ. (CS):} &    0.8479    \\\\\n",
       "\\textbf{Covariance Type:} &    nonrobust     & \\textbf{                     } &              \\\\\n",
       "\\bottomrule\n",
       "\\end{tabular}\n",
       "\\begin{tabular}{lcccccc}\n",
       "            & \\textbf{coef} & \\textbf{std err} & \\textbf{z} & \\textbf{P$> |$z$|$} & \\textbf{[0.025} & \\textbf{0.975]}  \\\\\n",
       "\\midrule\n",
       "\\textbf{0}  &       0.1410  &        0.009     &    15.178  &         0.000        &        0.123    &        0.159     \\\\\n",
       "\\textbf{1}  &       0.7022  &        0.016     &    43.221  &         0.000        &        0.670    &        0.734     \\\\\n",
       "\\textbf{2}  &       0.4583  &        0.013     &    36.332  &         0.000        &        0.434    &        0.483     \\\\\n",
       "\\textbf{3}  &       0.1360  &        0.007     &    19.280  &         0.000        &        0.122    &        0.150     \\\\\n",
       "\\textbf{4}  &    1.419e+05  &     1.11e+04     &    12.815  &         0.000        &      1.2e+05    &     1.64e+05     \\\\\n",
       "\\textbf{5}  &       0.0340  &        0.014     &     2.487  &         0.013        &        0.007    &        0.061     \\\\\n",
       "\\textbf{6}  &      -0.1698  &        0.008     &   -20.441  &         0.000        &       -0.186    &       -0.154     \\\\\n",
       "\\textbf{7}  &      -0.7382  &        0.117     &    -6.308  &         0.000        &       -0.968    &       -0.509     \\\\\n",
       "\\textbf{8}  &   -2.133e+05  &     6073.834     &   -35.117  &         0.000        &    -2.25e+05    &    -2.01e+05     \\\\\n",
       "\\textbf{9}  &    -1.63e+05  &     4640.790     &   -35.117  &         0.000        &    -1.72e+05    &    -1.54e+05     \\\\\n",
       "\\textbf{10} &   -8.079e+04  &     8757.424     &    -9.225  &         0.000        &     -9.8e+04    &    -6.36e+04     \\\\\n",
       "\\textbf{11} &    -2.12e+04  &     2298.051     &    -9.225  &         0.000        &    -2.57e+04    &    -1.67e+04     \\\\\n",
       "\\textbf{12} &   -3.165e+05  &     1.08e+04     &   -29.222  &         0.000        &    -3.38e+05    &    -2.95e+05     \\\\\n",
       "\\textbf{13} &       0.1917  &        0.042     &     4.563  &         0.000        &        0.109    &        0.274     \\\\\n",
       "\\textbf{14} &   -2.133e+05  &     6073.834     &   -35.117  &         0.000        &    -2.25e+05    &    -2.01e+05     \\\\\n",
       "\\textbf{15} &    -2.12e+04  &     2298.051     &    -9.225  &         0.000        &    -2.57e+04    &    -1.67e+04     \\\\\n",
       "\\textbf{16} &       0.3055  &        0.020     &    15.416  &         0.000        &        0.267    &        0.344     \\\\\n",
       "\\textbf{17} &   -1.555e+05  &     1.21e+04     &   -12.815  &         0.000        &    -1.79e+05    &    -1.32e+05     \\\\\n",
       "\\textbf{18} &      -0.1819  &        0.004     &   -51.385  &         0.000        &       -0.189    &       -0.175     \\\\\n",
       "\\textbf{19} &       0.2517  &        0.015     &    17.352  &         0.000        &        0.223    &        0.280     \\\\\n",
       "\\textbf{20} &       0.1680  &        0.011     &    15.136  &         0.000        &        0.146    &        0.190     \\\\\n",
       "\\textbf{21} &      -0.2816  &        0.020     &   -14.002  &         0.000        &       -0.321    &       -0.242     \\\\\n",
       "\\textbf{22} &       0.2358  &        0.013     &    18.570  &         0.000        &        0.211    &        0.261     \\\\\n",
       "\\textbf{23} &       0.2700  &        0.019     &    14.427  &         0.000        &        0.233    &        0.307     \\\\\n",
       "\\textbf{24} &       0.3085  &        0.014     &    21.533  &         0.000        &        0.280    &        0.337     \\\\\n",
       "\\textbf{25} &    2.919e+05  &     6213.097     &    46.989  &         0.000        &      2.8e+05    &     3.04e+05     \\\\\n",
       "\\textbf{26} &    4.149e+05  &     8829.998     &    46.990  &         0.000        &     3.98e+05    &     4.32e+05     \\\\\n",
       "\\textbf{27} &    2.967e+05  &     1.21e+04     &    24.606  &         0.000        &     2.73e+05    &      3.2e+05     \\\\\n",
       "\\textbf{28} &    2.213e+05  &     8995.419     &    24.606  &         0.000        &     2.04e+05    &     2.39e+05     \\\\\n",
       "\\textbf{29} &   -6.279e+05  &     1.34e+04     &   -46.990  &         0.000        &    -6.54e+05    &    -6.02e+05     \\\\\n",
       "\\textbf{30} &   -4.556e+05  &     1.85e+04     &   -24.606  &         0.000        &    -4.92e+05    &    -4.19e+05     \\\\\n",
       "\\textbf{31} &      10.2582  &        0.480     &    21.363  &         0.000        &        9.317    &       11.199     \\\\\n",
       "\\textbf{32} &       0.2856  &        0.026     &    10.991  &         0.000        &        0.235    &        0.336     \\\\\n",
       "\\textbf{33} &       0.2315  &        0.006     &    36.894  &         0.000        &        0.219    &        0.244     \\\\\n",
       "\\textbf{34} &      -0.0084  &        0.005     &    -1.535  &         0.125        &       -0.019    &        0.002     \\\\\n",
       "\\textbf{35} &      -0.3714  &        0.012     &   -30.262  &         0.000        &       -0.395    &       -0.347     \\\\\n",
       "\\textbf{36} &       0.2140  &        0.015     &    14.735  &         0.000        &        0.186    &        0.243     \\\\\n",
       "\\textbf{37} &    2.835e+05  &     2.21e+04     &    12.815  &         0.000        &      2.4e+05    &     3.27e+05     \\\\\n",
       "\\textbf{38} &      -0.2096  &        0.001     &  -151.443  &         0.000        &       -0.212    &       -0.207     \\\\\n",
       "\\textbf{39} &       2.0056  &        0.005     &   418.103  &         0.000        &        1.996    &        2.015     \\\\\n",
       "\\textbf{40} &       2.1296  &        0.005     &   450.847  &         0.000        &        2.120    &        2.139     \\\\\n",
       "\\textbf{41} &       1.7673  &        0.005     &   357.117  &         0.000        &        1.758    &        1.777     \\\\\n",
       "\\bottomrule\n",
       "\\end{tabular}\n",
       "%\\caption{Generalized Linear Model Regression Results}\n",
       "\\end{center}"
      ],
      "text/plain": [
       "<class 'statsmodels.iolib.summary.Summary'>\n",
       "\"\"\"\n",
       "                 Generalized Linear Model Regression Results                  \n",
       "==============================================================================\n",
       "Dep. Variable:                      0   No. Observations:                76421\n",
       "Model:                            GLM   Df Residuals:                    76381\n",
       "Model Family:                 Poisson   Df Model:                           39\n",
       "Link Function:                    Log   Scale:                          1.0000\n",
       "Method:                          IRLS   Log-Likelihood:            -3.3898e+05\n",
       "Date:                Tue, 02 Apr 2024   Deviance:                   4.4394e+05\n",
       "Time:                        11:20:15   Pearson chi2:                 4.84e+05\n",
       "No. Iterations:                    94   Pseudo R-squ. (CS):             0.8479\n",
       "Covariance Type:            nonrobust                                         \n",
       "==============================================================================\n",
       "                 coef    std err          z      P>|z|      [0.025      0.975]\n",
       "------------------------------------------------------------------------------\n",
       "0              0.1410      0.009     15.178      0.000       0.123       0.159\n",
       "1              0.7022      0.016     43.221      0.000       0.670       0.734\n",
       "2              0.4583      0.013     36.332      0.000       0.434       0.483\n",
       "3              0.1360      0.007     19.280      0.000       0.122       0.150\n",
       "4           1.419e+05   1.11e+04     12.815      0.000     1.2e+05    1.64e+05\n",
       "5              0.0340      0.014      2.487      0.013       0.007       0.061\n",
       "6             -0.1698      0.008    -20.441      0.000      -0.186      -0.154\n",
       "7             -0.7382      0.117     -6.308      0.000      -0.968      -0.509\n",
       "8          -2.133e+05   6073.834    -35.117      0.000   -2.25e+05   -2.01e+05\n",
       "9           -1.63e+05   4640.790    -35.117      0.000   -1.72e+05   -1.54e+05\n",
       "10         -8.079e+04   8757.424     -9.225      0.000    -9.8e+04   -6.36e+04\n",
       "11          -2.12e+04   2298.051     -9.225      0.000   -2.57e+04   -1.67e+04\n",
       "12         -3.165e+05   1.08e+04    -29.222      0.000   -3.38e+05   -2.95e+05\n",
       "13             0.1917      0.042      4.563      0.000       0.109       0.274\n",
       "14         -2.133e+05   6073.834    -35.117      0.000   -2.25e+05   -2.01e+05\n",
       "15          -2.12e+04   2298.051     -9.225      0.000   -2.57e+04   -1.67e+04\n",
       "16             0.3055      0.020     15.416      0.000       0.267       0.344\n",
       "17         -1.555e+05   1.21e+04    -12.815      0.000   -1.79e+05   -1.32e+05\n",
       "18            -0.1819      0.004    -51.385      0.000      -0.189      -0.175\n",
       "19             0.2517      0.015     17.352      0.000       0.223       0.280\n",
       "20             0.1680      0.011     15.136      0.000       0.146       0.190\n",
       "21            -0.2816      0.020    -14.002      0.000      -0.321      -0.242\n",
       "22             0.2358      0.013     18.570      0.000       0.211       0.261\n",
       "23             0.2700      0.019     14.427      0.000       0.233       0.307\n",
       "24             0.3085      0.014     21.533      0.000       0.280       0.337\n",
       "25          2.919e+05   6213.097     46.989      0.000     2.8e+05    3.04e+05\n",
       "26          4.149e+05   8829.998     46.990      0.000    3.98e+05    4.32e+05\n",
       "27          2.967e+05   1.21e+04     24.606      0.000    2.73e+05     3.2e+05\n",
       "28          2.213e+05   8995.419     24.606      0.000    2.04e+05    2.39e+05\n",
       "29         -6.279e+05   1.34e+04    -46.990      0.000   -6.54e+05   -6.02e+05\n",
       "30         -4.556e+05   1.85e+04    -24.606      0.000   -4.92e+05   -4.19e+05\n",
       "31            10.2582      0.480     21.363      0.000       9.317      11.199\n",
       "32             0.2856      0.026     10.991      0.000       0.235       0.336\n",
       "33             0.2315      0.006     36.894      0.000       0.219       0.244\n",
       "34            -0.0084      0.005     -1.535      0.125      -0.019       0.002\n",
       "35            -0.3714      0.012    -30.262      0.000      -0.395      -0.347\n",
       "36             0.2140      0.015     14.735      0.000       0.186       0.243\n",
       "37          2.835e+05   2.21e+04     12.815      0.000     2.4e+05    3.27e+05\n",
       "38            -0.2096      0.001   -151.443      0.000      -0.212      -0.207\n",
       "39             2.0056      0.005    418.103      0.000       1.996       2.015\n",
       "40             2.1296      0.005    450.847      0.000       2.120       2.139\n",
       "41             1.7673      0.005    357.117      0.000       1.758       1.777\n",
       "==============================================================================\n",
       "\"\"\""
      ]
     },
     "execution_count": 16,
     "metadata": {},
     "output_type": "execute_result"
    }
   ],
   "source": [
    "dir(poisson_model)\n",
    "poisson_model.summary()"
   ]
  },
  {
   "cell_type": "markdown",
   "metadata": {},
   "source": [
    "### Metrics"
   ]
  },
  {
   "cell_type": "code",
   "execution_count": 32,
   "metadata": {},
   "outputs": [
    {
     "name": "stdout",
     "output_type": "stream",
     "text": [
      "Train RMSE: 8.868650403373618\n",
      "Val RMSE: 8.847541013905643\n",
      "\n",
      "Test RMSE: 8.262728212550202\n",
      "Test MAE: 4.656295301652769\n",
      "Double Poisson NNL: 41.06367011057098\n",
      "Median Precision: 0.16582068741898365\n"
     ]
    }
   ],
   "source": [
    "train_rmse = np.sqrt(mean_squared_error(y_train_pred, y_train))\n",
    "val_rmse = np.sqrt(mean_squared_error(y_val_pred, y_val))\n",
    "rmse = np.sqrt(mean_squared_error(y_test_preds, y_test))\n",
    "mae = mean_absolute_error(y_test_preds, y_test)\n",
    "\n",
    "\n",
    "\n",
    "print(f\"Train RMSE: {train_rmse}\")\n",
    "print(f\"Val RMSE: {val_rmse}\\n\")\n",
    "print(f\"Test RMSE: {rmse}\")\n",
    "print(f\"Test MAE: {mae}\")\n",
    "\n",
    "from deep_uncertainty.evaluation.calibration import compute_double_poisson_nll\n",
    "\n",
    "y_true = np.array(y_test)\n",
    "mu = np.array(y_test_preds)\n",
    "phi = mu\n",
    "nnl = compute_double_poisson_nll(y_true, mu, phi)\n",
    "print(f\"Double Poisson NNL: {nnl}\")\n",
    "\n",
    "\n",
    "precisions = 1 / y_test_preds\n",
    "mp = np.median(precisions)\n",
    "print(f\"Median Precision: {mp}\")\n",
    "\n",
    "# TODO ECE"
   ]
  },
  {
   "cell_type": "markdown",
   "metadata": {},
   "source": [
    "Negative Binomial"
   ]
  },
  {
   "cell_type": "code",
   "execution_count": 21,
   "metadata": {},
   "outputs": [],
   "source": [
    "y_train = y_train.rename(columns={0: 'TARGET'})\n",
    "y_test = y_test.rename(columns={0: 'TARGET'})"
   ]
  },
  {
   "cell_type": "code",
   "execution_count": 25,
   "metadata": {},
   "outputs": [
    {
     "name": "stderr",
     "output_type": "stream",
     "text": [
      "/var/folders/xg/5n69np453nn3pzzpyw20jrp40000gn/T/ipykernel_64863/2655061376.py:7: FutureWarning: Series.__getitem__ treating keys as positions is deprecated. In a future version, integer keys will always be treated as labels (consistent with DataFrame behavior). To access a value by position, use `ser.iloc[pos]`\n",
      "  nb2_training_results = sm.GLM(y_train, X_train,family=sm.families.NegativeBinomial(alpha=aux_olsr_results.params[0])).fit()\n",
      "/Users/braydenchristensen/opt/anaconda3/envs/deep-uncertainty/lib/python3.10/site-packages/statsmodels/genmod/generalized_linear_model.py:985: FutureWarning: linear keyword is deprecated, use which=\"linear\"\n",
      "  warnings.warn(msg, FutureWarning)\n"
     ]
    }
   ],
   "source": [
    "df_train = pd.concat([X_train, y_train], axis=1)\n",
    "\n",
    "df_train[\"BB_LAMBDA\"] = poisson_model.mu\n",
    "df_train['AUX_OLS_DEP'] = df_train.apply(lambda x: ((x['TARGET'] - x['BB_LAMBDA'])**2 - x['BB_LAMBDA']) / x['BB_LAMBDA'], axis=1)\n",
    "ols_expr = \"\"\"AUX_OLS_DEP ~ BB_LAMBDA - 1\"\"\"\n",
    "aux_olsr_results = smf.ols(ols_expr, df_train).fit()\n",
    "nb2_training_results = sm.GLM(y_train, X_train,family=sm.families.NegativeBinomial(alpha=aux_olsr_results.params[0])).fit()\n",
    "\n",
    "y_test_preds = nb2_training_results.predict(X_test)\n",
    "y_val_preds = nb2_training_results.predict(X_val)\n",
    "y_train_preds = nb2_training_results.predict(X_train)\n",
    "\n",
    "successes = nb2_training_results.predict(X_test, linear=True)\n",
    "# predictions_summary_frame = nb2_predictions.summary_frame()\n",
    "# predicted_counts=predictions_summary_frame['mean']\n",
    "\n",
    "\n",
    "# Count number of successful predictions\n",
    "# success_threshold = 1\n",
    "# test_predictions = np.array(successes)\n",
    "# y_test_values = y_test.values.flatten()\n",
    "# absolute_differences = np.abs(test_predictions - y_test_values)\n",
    "# successful_predictions_count = np.sum(absolute_differences <= success_threshold)\n",
    "# print(\"Number of successful predictions:\", successful_predictions_count)"
   ]
  },
  {
   "cell_type": "code",
   "execution_count": 26,
   "metadata": {},
   "outputs": [
    {
     "data": {
      "text/plain": [
       "array([[1.0800e+02, 4.9288e+04],\n",
       "       [8.7000e+01, 5.0866e+04],\n",
       "       [5.9000e+01, 5.3641e+04],\n",
       "       [2.4100e+02, 4.3233e+04],\n",
       "       [2.3600e+02, 4.3405e+04],\n",
       "       [9.0000e+00, 6.6184e+04],\n",
       "       [1.3000e+02, 4.7918e+04],\n",
       "       [5.7000e+01, 5.3903e+04],\n",
       "       [6.3000e+01, 5.3140e+04],\n",
       "       [4.2600e+02, 3.8674e+04]])"
      ]
     },
     "execution_count": 26,
     "metadata": {},
     "output_type": "execute_result"
    }
   ],
   "source": [
    "# y_test_preds = predicted_counts\n",
    "# y_test = y_test['TARGET']\n",
    "# n is # of successes\n",
    "n = successes\n",
    "# p is the probability of success\n",
    "p = n / len(y_test)\n",
    "posterior_predictive = nbinom(p=p, n=n)\n",
    "np.column_stack([posterior_predictive.ppf(0.001), posterior_predictive.ppf(0.999)])[:10]"
   ]
  },
  {
   "cell_type": "code",
   "execution_count": 27,
   "metadata": {},
   "outputs": [
    {
     "data": {
      "text/plain": [
       "array([[7.],\n",
       "       [5.],\n",
       "       [2.],\n",
       "       [3.],\n",
       "       [5.],\n",
       "       [2.],\n",
       "       [9.],\n",
       "       [1.],\n",
       "       [6.],\n",
       "       [4.]])"
      ]
     },
     "execution_count": 27,
     "metadata": {},
     "output_type": "execute_result"
    }
   ],
   "source": [
    "y_test[:10].values"
   ]
  },
  {
   "cell_type": "code",
   "execution_count": 30,
   "metadata": {},
   "outputs": [
    {
     "data": {
      "text/plain": [
       "0          0.078318\n",
       "1          0.616434\n",
       "2          0.459342\n",
       "3          0.128866\n",
       "4      53997.684049\n",
       "5          0.047767\n",
       "6         -0.177319\n",
       "7         -0.697903\n",
       "8    -216182.647687\n",
       "9    -165176.831276\n",
       "10    -62231.581565\n",
       "11    -16330.239162\n",
       "12   -348216.074057\n",
       "13         0.168933\n",
       "14   -216182.647591\n",
       "15    -16330.239033\n",
       "16         0.474108\n",
       "17    -59198.954392\n",
       "18        -0.178234\n",
       "19         0.250431\n",
       "20         0.144278\n",
       "21        -0.240525\n",
       "22         0.274878\n",
       "23         0.386232\n",
       "24         0.292840\n",
       "25    302048.335586\n",
       "26    429273.348018\n",
       "27    246825.717668\n",
       "28    184130.736024\n",
       "29   -649620.294737\n",
       "30   -379007.482015\n",
       "31         6.875494\n",
       "32         0.137665\n",
       "33         0.253306\n",
       "34        -0.003591\n",
       "35        -0.342610\n",
       "36         0.199030\n",
       "37    107890.394259\n",
       "38        -0.240082\n",
       "39         1.802128\n",
       "40         2.197556\n",
       "41         1.847084\n",
       "dtype: float64"
      ]
     },
     "execution_count": 30,
     "metadata": {},
     "output_type": "execute_result"
    }
   ],
   "source": [
    "nb2_training_results.params"
   ]
  },
  {
   "cell_type": "markdown",
   "metadata": {},
   "source": [
    "### Metrics"
   ]
  },
  {
   "cell_type": "code",
   "execution_count": 33,
   "metadata": {},
   "outputs": [
    {
     "name": "stdout",
     "output_type": "stream",
     "text": [
      "Train RMSE: 9.255150763968368\n",
      "Val RMSE: 9.283101716314107\n",
      "\n",
      "Test RMSE: 8.262728212550202\n",
      "Test MAE: 4.656295301652769\n"
     ]
    },
    {
     "name": "stderr",
     "output_type": "stream",
     "text": [
      "/var/folders/xg/5n69np453nn3pzzpyw20jrp40000gn/T/ipykernel_64863/3081358188.py:14: FutureWarning: Series.__getitem__ treating keys as positions is deprecated. In a future version, integer keys will always be treated as labels (consistent with DataFrame behavior). To access a value by position, use `ser.iloc[pos]`\n",
      "  variance = mean + mu**2 * aux_olsr_results.params[0]\n"
     ]
    },
    {
     "name": "stdout",
     "output_type": "stream",
     "text": [
      "Double Poisson NNL: 3.160682216653232\n",
      "Median Precision: 0.022347857659916797\n"
     ]
    },
    {
     "name": "stderr",
     "output_type": "stream",
     "text": [
      "/var/folders/xg/5n69np453nn3pzzpyw20jrp40000gn/T/ipykernel_64863/3081358188.py:20: FutureWarning: Series.__getitem__ treating keys as positions is deprecated. In a future version, integer keys will always be treated as labels (consistent with DataFrame behavior). To access a value by position, use `ser.iloc[pos]`\n",
      "  variances = mu + mu**2*aux_olsr_results.params[0]\n"
     ]
    }
   ],
   "source": [
    "train_rmse = np.sqrt(mean_squared_error(y_train_preds, y_train))\n",
    "val_rmse = np.sqrt(mean_squared_error(y_val_preds, y_val))\n",
    "rmse = np.sqrt(mean_squared_error(y_test_preds, y_test))\n",
    "mae = mean_absolute_error(y_test_preds, y_test)\n",
    "\n",
    "print(f\"Train RMSE: {train_rmse}\")\n",
    "print(f\"Val RMSE: {val_rmse}\\n\")\n",
    "print(f\"Test RMSE: {rmse}\")\n",
    "print(f\"Test MAE: {mae}\")\n",
    "\n",
    "y_true = np.array(y_test)\n",
    "mu = np.array(y_test_preds)\n",
    "mean = mu\n",
    "variance = mean + mu**2 * aux_olsr_results.params[0]\n",
    "phi = mean / variance\n",
    "nnl = compute_double_poisson_nll(y_true, mu, phi)\n",
    "print(f\"Double Poisson NNL: {nnl}\")\n",
    "\n",
    "\n",
    "variances = mu + mu**2*aux_olsr_results.params[0]\n",
    "precisions = 1 / variances\n",
    "mp = np.median(precisions)\n",
    "print(f\"Median Precision: {mp}\")\n",
    "\n",
    "# TODO ECE\n"
   ]
  },
  {
   "cell_type": "code",
   "execution_count": null,
   "metadata": {},
   "outputs": [
    {
     "data": {
      "text/plain": [
       "68.27267751447307"
      ]
     },
     "execution_count": 99,
     "metadata": {},
     "output_type": "execute_result"
    }
   ],
   "source": [
    "mse = mean_squared_error(y_preds, y_test)\n",
    "mse"
   ]
  },
  {
   "cell_type": "code",
   "execution_count": null,
   "metadata": {},
   "outputs": [
    {
     "data": {
      "text/plain": [
       "8.262728212550202"
      ]
     },
     "execution_count": 100,
     "metadata": {},
     "output_type": "execute_result"
    }
   ],
   "source": [
    "np.sqrt(mse)"
   ]
  },
  {
   "cell_type": "code",
   "execution_count": null,
   "metadata": {},
   "outputs": [
    {
     "data": {
      "image/png": "[encoded data removed]",
      "text/plain": [
       "<Figure size 2000x800 with 1 Axes>"
      ]
     },
     "metadata": {},
     "output_type": "display_data"
    }
   ],
   "source": [
    "import matplotlib.pyplot as plt\n",
    "predicted_counts=predictions_summary_frame['mean']\n",
    "actual_counts = y_test\n",
    "fig = plt.figure(figsize=(20, 8))\n",
    "fig.suptitle('Predicted versus actual counts using the NB')\n",
    "predicted_counts1 = predicted_counts[::25]\n",
    "actual1 = actual_counts[::50]\n",
    "predicted, = plt.plot(predicted_counts1, 'go-', label='Predicted counts')\n",
    "actual,  = plt.plot(actual1, 'ro-', label='Actual counts')\n",
    "plt.legend(handles=[predicted, actual])\n",
    "plt.show()"
   ]
  },
  {
   "cell_type": "markdown",
   "metadata": {},
   "source": [
    "# COINS dataset"
   ]
  },
  {
   "cell_type": "markdown",
   "metadata": {},
   "source": []
  }
 ],
 "metadata": {
  "kernelspec": {
   "display_name": "deep-uncertainty",
   "language": "python",
   "name": "python3"
  },
  "language_info": {
   "codemirror_mode": {
    "name": "ipython",
    "version": 3
   },
   "file_extension": ".py",
   "mimetype": "text/x-python",
   "name": "python",
   "nbconvert_exporter": "python",
   "pygments_lexer": "ipython3",
   "version": "3.10.13"
  }
 },
 "nbformat": 4,
 "nbformat_minor": 2
}
