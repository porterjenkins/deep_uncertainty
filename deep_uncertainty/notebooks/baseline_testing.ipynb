{
 "cells": [
  {
   "cell_type": "code",
   "execution_count": 12,
   "metadata": {},
   "outputs": [],
   "source": [
    "import os\n",
    "from sklearn.linear_model import PoissonRegressor\n",
    "import pandas as pd\n",
    "from sklearn.model_selection import train_test_split\n",
    "from sklearn import preprocessing\n",
    "from sklearn.metrics import mean_squared_error\n",
    "from sklearn.metrics import mean_absolute_error\n",
    "import numpy as np\n",
    "import statsmodels.formula.api as smf\n",
    "import statsmodels.api as sm\n",
    "from scipy.stats import poisson\n",
    "from scipy.stats import nbinom\n",
    "from patsy import dmatrices\n",
    "os.chdir(os.path.expanduser(\"~/Desktop/Classes/Research/deep_uncertainty/deep_uncertainty\"))"
   ]
  },
  {
   "cell_type": "markdown",
   "metadata": {},
   "source": [
    "# Bikes Data"
   ]
  },
  {
   "cell_type": "markdown",
   "metadata": {},
   "source": [
    "Poisson"
   ]
  },
  {
   "cell_type": "code",
   "execution_count": 13,
   "metadata": {},
   "outputs": [
    {
     "name": "stdout",
     "output_type": "stream",
     "text": [
      "(13903, 1)\n",
      "(13903, 15)\n"
     ]
    }
   ],
   "source": [
    "import pandas as pd\n",
    "\n",
    "npz = np.load('/Users/braydenchristensen/Desktop/Classes/Research/code/tab-data/bikes.npz')\n",
    "npz.files\n",
    "dataframes = {}\n",
    "for key in npz.files:\n",
    "    dataframes[key] = pd.DataFrame(npz[key])\n",
    "\n",
    "X_train = dataframes['X_train']\n",
    "X_val = dataframes['X_val']\n",
    "X_test = dataframes['X_test']\n",
    "y_train = dataframes['y_train']\n",
    "y_val = dataframes['y_val']\n",
    "y_test = dataframes['y_test']\n",
    "\n",
    "print(y_train.shape)\n",
    "print(X_train.shape)"
   ]
  },
  {
   "cell_type": "code",
   "execution_count": 14,
   "metadata": {},
   "outputs": [
    {
     "name": "stdout",
     "output_type": "stream",
     "text": [
      "[1.05191303e+01 2.32699384e+01 1.12838393e+01 ... 4.95606350e+00\n",
      " 5.28149288e+02 4.46529704e-01]\n",
      "0         10.519130\n",
      "1         23.269938\n",
      "2         11.283839\n",
      "3         70.004822\n",
      "4        159.985689\n",
      "            ...    \n",
      "13898    371.566605\n",
      "13899    816.860507\n",
      "13900      4.956064\n",
      "13901    528.149288\n",
      "13902      0.446530\n",
      "Length: 13903, dtype: float64\n"
     ]
    }
   ],
   "source": [
    "poisson_model = sm.GLM(y_train, X_train, family=sm.families.Poisson()).fit()\n",
    "y_train_pred = poisson_model.predict(X_train)\n",
    "y_val_pred = poisson_model.predict(X_val)\n",
    "y_test_preds = poisson_model.predict(X_test)\n",
    "\n",
    "print(poisson_model.mu)\n",
    "print(y_train_pred)"
   ]
  },
  {
   "cell_type": "code",
   "execution_count": 15,
   "metadata": {},
   "outputs": [
    {
     "data": {
      "text/plain": [
       "array([[571., 728.],\n",
       "       [ 21.,  60.],\n",
       "       [694., 867.],\n",
       "       [160., 247.],\n",
       "       [218., 319.],\n",
       "       [ 52., 106.],\n",
       "       [282., 395.],\n",
       "       [ 11.,  42.],\n",
       "       [  0.,   3.],\n",
       "       [ 49., 103.]])"
      ]
     },
     "execution_count": 15,
     "metadata": {},
     "output_type": "execute_result"
    }
   ],
   "source": [
    "posterior_predictive = poisson(mu=y_test_preds)\n",
    "posterior_predictive\n",
    "np.column_stack([posterior_predictive.ppf(0.001), posterior_predictive.ppf(0.999)])[:10]"
   ]
  },
  {
   "cell_type": "code",
   "execution_count": 16,
   "metadata": {},
   "outputs": [
    {
     "data": {
      "text/plain": [
       "1738"
      ]
     },
     "execution_count": 16,
     "metadata": {},
     "output_type": "execute_result"
    }
   ],
   "source": [
    "len(y_test_preds)"
   ]
  },
  {
   "cell_type": "code",
   "execution_count": 17,
   "metadata": {},
   "outputs": [
    {
     "data": {
      "text/plain": [
       "array([[555],\n",
       "       [ 52],\n",
       "       [194],\n",
       "       [229],\n",
       "       [386],\n",
       "       [  5],\n",
       "       [188],\n",
       "       [126],\n",
       "       [  3],\n",
       "       [246]])"
      ]
     },
     "execution_count": 17,
     "metadata": {},
     "output_type": "execute_result"
    }
   ],
   "source": [
    "y_test[:10].values"
   ]
  },
  {
   "cell_type": "code",
   "execution_count": 18,
   "metadata": {},
   "outputs": [
    {
     "data": {
      "text/plain": [
       "array([[<Axes: title={'center': '0'}>]], dtype=object)"
      ]
     },
     "execution_count": 18,
     "metadata": {},
     "output_type": "execute_result"
    },
    {
     "data": {
      "image/png": "[encoded data removed]",
      "text/plain": [
       "<Figure size 640x480 with 1 Axes>"
      ]
     },
     "metadata": {},
     "output_type": "display_data"
    }
   ],
   "source": [
    "y_train.hist()"
   ]
  },
  {
   "cell_type": "code",
   "execution_count": 19,
   "metadata": {},
   "outputs": [
    {
     "data": {
      "text/plain": [
       "977"
      ]
     },
     "execution_count": 19,
     "metadata": {},
     "output_type": "execute_result"
    }
   ],
   "source": [
    "np.max(y_train)"
   ]
  },
  {
   "cell_type": "code",
   "execution_count": 20,
   "metadata": {},
   "outputs": [
    {
     "data": {
      "text/plain": [
       "901"
      ]
     },
     "execution_count": 20,
     "metadata": {},
     "output_type": "execute_result"
    }
   ],
   "source": [
    "np.max(y_val)"
   ]
  },
  {
   "cell_type": "markdown",
   "metadata": {},
   "source": [
    "### Metrics"
   ]
  },
  {
   "cell_type": "code",
   "execution_count": 21,
   "metadata": {},
   "outputs": [
    {
     "name": "stdout",
     "output_type": "stream",
     "text": [
      "Train RMSE: 231.5761137911035\n",
      "Val RMSE: 229.1017369401325\n",
      "\n",
      "Test RMSE: 235.27604832162817\n",
      "Test MAE: 153.5697514258176\n",
      "\n"
     ]
    }
   ],
   "source": [
    "train_rmse = np.sqrt(mean_squared_error(y_train_pred, y_train))\n",
    "val_rmse = np.sqrt(mean_squared_error(y_val_pred, y_val))\n",
    "rmse = np.sqrt(mean_squared_error(y_test_preds, y_test))\n",
    "mae = mean_absolute_error(y_test_preds, y_test)\n",
    "\n",
    "\n",
    "print(f\"Train RMSE: {train_rmse}\")\n",
    "print(f\"Val RMSE: {val_rmse}\\n\")\n",
    "print(f\"Test RMSE: {rmse}\")\n",
    "print(f\"Test MAE: {mae}\\n\")"
   ]
  },
  {
   "cell_type": "markdown",
   "metadata": {},
   "source": [
    "Double Poisson NNL"
   ]
  },
  {
   "cell_type": "code",
   "execution_count": 22,
   "metadata": {},
   "outputs": [
    {
     "name": "stdout",
     "output_type": "stream",
     "text": [
      "Double Poisson NNL: 42927.80406104178\n"
     ]
    }
   ],
   "source": [
    "from deep_uncertainty.evaluation.calibration import compute_double_poisson_nll, compute_discrete_ece\n",
    "\n",
    "y_true = np.array(y_test)\n",
    "mu = np.array(y_test_preds)\n",
    "phi = mu\n",
    "nnl = compute_double_poisson_nll(y_true, mu, phi)\n",
    "print(f\"Double Poisson NNL: {nnl}\")"
   ]
  },
  {
   "cell_type": "markdown",
   "metadata": {},
   "source": [
    "MP"
   ]
  },
  {
   "cell_type": "code",
   "execution_count": 23,
   "metadata": {},
   "outputs": [
    {
     "name": "stdout",
     "output_type": "stream",
     "text": [
      "Median Precision: 0.022754039681120303\n"
     ]
    }
   ],
   "source": [
    "precisions = 1 / y_test_preds\n",
    "mp = np.median(precisions)\n",
    "print(f\"Median Precision: {mp}\")"
   ]
  },
  {
   "cell_type": "markdown",
   "metadata": {},
   "source": [
    "ECE"
   ]
  },
  {
   "cell_type": "code",
   "execution_count": 24,
   "metadata": {},
   "outputs": [
    {
     "name": "stdout",
     "output_type": "stream",
     "text": [
      "ECE: 0.1676994081709805\n"
     ]
    },
    {
     "name": "stderr",
     "output_type": "stream",
     "text": [
      "/Users/braydenchristensen/opt/anaconda3/envs/deep-uncertainty/lib/python3.10/site-packages/numpy/core/fromnumeric.py:59: RuntimeWarning: overflow encountered in multiply\n",
      "  return bound(*args, **kwds)\n"
     ]
    }
   ],
   "source": [
    "poisson_predictions = poisson_model.get_prediction(X_test)\n",
    "predictions_summary_frame = poisson_predictions.summary_frame()\n",
    "lambdas = np.array(predictions_summary_frame['mean'])\n",
    "from scipy.special import factorial\n",
    "probs = (np.exp(-lambdas) * (lambdas ** y_test_preds)) / factorial(y_test_preds)\n",
    "\n",
    "probs = np.nan_to_num(probs)\n",
    "\n",
    "ece = compute_discrete_ece(np.array(y_test[0]), np.array(y_test_preds), np.array(probs))\n",
    "print(f\"ECE: {ece}\")"
   ]
  },
  {
   "cell_type": "markdown",
   "metadata": {},
   "source": [
    "Negative Binomial"
   ]
  },
  {
   "cell_type": "code",
   "execution_count": 64,
   "metadata": {},
   "outputs": [],
   "source": [
    "import torch\n",
    "import torch.nn as nn\n",
    "import torch.optim as optim\n",
    "from torch.utils.data import DataLoader, TensorDataset\n",
    "from deep_uncertainty.training.losses import neg_binom_nll\n",
    "\n",
    "class NB_model(nn.Module):\n",
    "    def __init__(self, input_dim):\n",
    "        super(NB_model, self).__init__()\n",
    "        self.linear = nn.Linear(input_dim, 2)\n",
    "        self.softplus = nn.Softplus()\n",
    "\n",
    "    def forward(self, x):\n",
    "        out = self.linear(x)\n",
    "        return self.softplus(out)"
   ]
  },
  {
   "cell_type": "code",
   "execution_count": 116,
   "metadata": {},
   "outputs": [
    {
     "name": "stdout",
     "output_type": "stream",
     "text": [
      "Train loss:  -710.5016253051758\n"
     ]
    }
   ],
   "source": [
    "X_train_tensor = torch.tensor(X_train.values, dtype=torch.float32)\n",
    "y_train_tensor = torch.tensor(y_train.values, dtype=torch.float32)\n",
    "\n",
    "def train(model, optimizer, objective, dataloader, epochs):\n",
    "    model.train()\n",
    "    losses = []\n",
    "    for epoch in range(epochs):\n",
    "        for x, target in dataloader:\n",
    "            optimizer.zero_grad()\n",
    "            y_pred = model(x)\n",
    "            loss = objective(y_pred, target)\n",
    "            loss.backward()\n",
    "            optimizer.step()\n",
    "            losses.append(loss.item())\n",
    "        \n",
    "    return losses\n",
    "\n",
    "model = NB_model(X_train.shape[1])\n",
    "optimizer = optim.Adam(model.parameters(), lr=1e-5, weight_decay=1e-5)\n",
    "objective = neg_binom_nll\n",
    "epochs = 100\n",
    "dataset = TensorDataset(X_train_tensor, y_train_tensor)\n",
    "batch_size = 128\n",
    "dataloader = DataLoader(dataset, batch_size=batch_size, shuffle=True)\n",
    "losses = train(model, optimizer, objective, dataloader, epochs)\n",
    "print(\"Train loss: \", np.mean(losses[-1000:]))"
   ]
  },
  {
   "cell_type": "code",
   "execution_count": 117,
   "metadata": {},
   "outputs": [
    {
     "data": {
      "image/png": "[encoded data removed]",
      "text/plain": [
       "<Figure size 640x480 with 1 Axes>"
      ]
     },
     "metadata": {},
     "output_type": "display_data"
    }
   ],
   "source": [
    "import matplotlib.pyplot as plt\n",
    "\n",
    "plt.plot(losses)\n",
    "plt.xlabel('Instances')\n",
    "plt.ylabel('Loss')\n",
    "plt.title('Training Loss')\n",
    "plt.show()"
   ]
  },
  {
   "cell_type": "markdown",
   "metadata": {},
   "source": [
    "Testing"
   ]
  },
  {
   "cell_type": "code",
   "execution_count": 118,
   "metadata": {},
   "outputs": [],
   "source": [
    "X_test_tensor = torch.tensor(X_test.values, dtype=torch.float32)\n",
    "y_test_tensor = torch.tensor(y_test.values, dtype=torch.float32)\n",
    "\n",
    "model = NB_model(X_train.shape[1])\n",
    "objective = neg_binom_nll\n",
    "dataset = TensorDataset(X_test_tensor, y_test_tensor)\n",
    "batch_size = 32\n",
    "dataloader = DataLoader(dataset, batch_size=batch_size, shuffle=True)\n",
    "\n",
    "mu, alpha = model(X_test_tensor).detach().numpy().T"
   ]
  },
  {
   "cell_type": "code",
   "execution_count": 119,
   "metadata": {},
   "outputs": [
    {
     "data": {
      "text/plain": [
       "(array([1.0635321, 0.7601874, 1.1459666, ..., 1.0411226, 0.8142492,\n",
       "        1.068324 ], dtype=float32),\n",
       " array([0.6062811 , 0.68877846, 0.37419963, ..., 0.5994191 , 0.47437832,\n",
       "        0.6753814 ], dtype=float32))"
      ]
     },
     "execution_count": 119,
     "metadata": {},
     "output_type": "execute_result"
    }
   ],
   "source": [
    "mu, alpha"
   ]
  },
  {
   "cell_type": "markdown",
   "metadata": {},
   "source": [
    "### Metrics"
   ]
  },
  {
   "cell_type": "code",
   "execution_count": 120,
   "metadata": {},
   "outputs": [
    {
     "name": "stdout",
     "output_type": "stream",
     "text": [
      "Test RMSE: 258.6438490265914\n",
      "Test MAE: 189.1758759550759\n"
     ]
    }
   ],
   "source": [
    "rmse = np.sqrt(mean_squared_error(mu, y_test))\n",
    "mae = mean_absolute_error(mu, y_test)\n",
    "\n",
    "print(f\"Test RMSE: {rmse}\")\n",
    "print(f\"Test MAE: {mae}\")"
   ]
  },
  {
   "cell_type": "markdown",
   "metadata": {},
   "source": [
    "NNL"
   ]
  },
  {
   "cell_type": "code",
   "execution_count": 121,
   "metadata": {},
   "outputs": [
    {
     "name": "stdout",
     "output_type": "stream",
     "text": [
      "Double Poisson NNL: 624.8660477938419\n"
     ]
    }
   ],
   "source": [
    "y_true = np.array(y_test)\n",
    "variance = mu + (mu**2 * alpha)\n",
    "phi = mu / variance\n",
    "nnl = compute_double_poisson_nll(y_true, mu, phi)\n",
    "print(f\"Double Poisson NNL: {nnl}\")"
   ]
  },
  {
   "cell_type": "markdown",
   "metadata": {},
   "source": [
    "MP"
   ]
  },
  {
   "cell_type": "code",
   "execution_count": 122,
   "metadata": {},
   "outputs": [
    {
     "name": "stdout",
     "output_type": "stream",
     "text": [
      "Median Precision: 0.7909056544303894\n"
     ]
    }
   ],
   "source": [
    "precisions = 1 / variance\n",
    "mp = np.median(precisions)\n",
    "print(f\"Median Precision: {mp}\")"
   ]
  },
  {
   "cell_type": "markdown",
   "metadata": {},
   "source": [
    "ECE"
   ]
  },
  {
   "cell_type": "code",
   "execution_count": 123,
   "metadata": {},
   "outputs": [
    {
     "name": "stdout",
     "output_type": "stream",
     "text": [
      "ECE: 0.0010952902519167575\n"
     ]
    }
   ],
   "source": [
    "p = mu / variance\n",
    "n = mu**2 / (variance - mu)\n",
    "k = np.tile(np.arange(0, np.max(y_test)), (len(mu), 1))\n",
    "\n",
    "probs = nbinom.pmf(k.T, p=p, n=n)\n",
    "\n",
    "probs = np.nan_to_num(probs)\n",
    "\n",
    "ece = compute_discrete_ece(np.array(y_test)[:,0], mu, np.array(probs.mean(axis=0)))\n",
    "print(f\"ECE: {ece}\")"
   ]
  },
  {
   "cell_type": "markdown",
   "metadata": {},
   "source": [
    "# Sales Data"
   ]
  },
  {
   "cell_type": "markdown",
   "metadata": {},
   "source": [
    "Poisson"
   ]
  },
  {
   "cell_type": "code",
   "execution_count": null,
   "metadata": {},
   "outputs": [
    {
     "name": "stdout",
     "output_type": "stream",
     "text": [
      "(76421, 1)\n",
      "(76421, 42)\n"
     ]
    }
   ],
   "source": [
    "import pandas as pd\n",
    "\n",
    "npz = np.load('/Users/braydenchristensen/Desktop/Classes/Research/code/tab-data/sales.npz')\n",
    "npz.files\n",
    "dataframes = {}\n",
    "for key in npz.files:\n",
    "    dataframes[key] = pd.DataFrame(npz[key])\n",
    "\n",
    "X_train = dataframes['X_train']\n",
    "X_val = dataframes['X_val']\n",
    "X_test = dataframes['X_test']\n",
    "y_train = dataframes['y_train']\n",
    "y_val = dataframes['y_val']\n",
    "y_test = dataframes['y_test']\n",
    "\n",
    "print(y_train.shape)\n",
    "print(X_train.shape)"
   ]
  },
  {
   "cell_type": "code",
   "execution_count": null,
   "metadata": {},
   "outputs": [],
   "source": [
    "# X = pd.concat([X_train, X_train, X_val])\n",
    "# y = pd.concat([y_train, y_train, y_val])"
   ]
  },
  {
   "cell_type": "code",
   "execution_count": null,
   "metadata": {},
   "outputs": [],
   "source": [
    "poisson_model = sm.GLM(y_train, X_train, family=sm.families.Poisson()).fit()\n",
    "y_train_pred = poisson_model.predict(X_train)\n",
    "y_val_pred = poisson_model.predict(X_val)\n",
    "y_test_preds = poisson_model.predict(X_test)\n",
    "\n",
    "# print(poisson_model.mu)\n",
    "# print(y_train_pred)"
   ]
  },
  {
   "cell_type": "code",
   "execution_count": null,
   "metadata": {},
   "outputs": [
    {
     "data": {
      "text/plain": [
       "array([[ 0., 13.],\n",
       "       [ 0., 12.],\n",
       "       [ 0., 13.],\n",
       "       [ 1., 17.],\n",
       "       [ 1., 16.],\n",
       "       [ 0.,  9.],\n",
       "       [ 0., 14.],\n",
       "       [ 0., 12.],\n",
       "       [ 0., 13.],\n",
       "       [ 2., 22.]])"
      ]
     },
     "execution_count": 5,
     "metadata": {},
     "output_type": "execute_result"
    }
   ],
   "source": [
    "posterior_predictive = poisson(mu=y_test_preds)\n",
    "posterior_predictive\n",
    "np.column_stack([posterior_predictive.ppf(0.001), posterior_predictive.ppf(0.999)])[:10]"
   ]
  },
  {
   "cell_type": "code",
   "execution_count": null,
   "metadata": {},
   "outputs": [
    {
     "data": {
      "text/plain": [
       "array([[7.],\n",
       "       [5.],\n",
       "       [2.],\n",
       "       [3.],\n",
       "       [5.],\n",
       "       [2.],\n",
       "       [9.],\n",
       "       [1.],\n",
       "       [6.],\n",
       "       [4.]])"
      ]
     },
     "execution_count": 6,
     "metadata": {},
     "output_type": "execute_result"
    }
   ],
   "source": [
    "y_test[:10].values"
   ]
  },
  {
   "cell_type": "code",
   "execution_count": null,
   "metadata": {},
   "outputs": [
    {
     "name": "stdout",
     "output_type": "stream",
     "text": [
      "0       4.801078\n",
      "1       4.484918\n",
      "2       5.137232\n",
      "3       7.226167\n",
      "4       7.009805\n",
      "          ...   \n",
      "9548    8.416938\n",
      "9549    6.311879\n",
      "9550    4.751579\n",
      "9551    4.190171\n",
      "9552    4.615769\n",
      "Length: 9553, dtype: float64\n"
     ]
    },
    {
     "data": {
      "text/plain": [
       "9553"
      ]
     },
     "execution_count": 7,
     "metadata": {},
     "output_type": "execute_result"
    }
   ],
   "source": [
    "print(y_test_preds)\n",
    "len(y_test_preds)"
   ]
  },
  {
   "cell_type": "code",
   "execution_count": null,
   "metadata": {},
   "outputs": [
    {
     "data": {
      "text/html": [
       "<table class=\"simpletable\">\n",
       "<caption>Generalized Linear Model Regression Results</caption>\n",
       "<tr>\n",
       "  <th>Dep. Variable:</th>           <td>0</td>        <th>  No. Observations:  </th>   <td> 76421</td>   \n",
       "</tr>\n",
       "<tr>\n",
       "  <th>Model:</th>                  <td>GLM</td>       <th>  Df Residuals:      </th>   <td> 76381</td>   \n",
       "</tr>\n",
       "<tr>\n",
       "  <th>Model Family:</th>         <td>Poisson</td>     <th>  Df Model:          </th>   <td>    39</td>   \n",
       "</tr>\n",
       "<tr>\n",
       "  <th>Link Function:</th>          <td>Log</td>       <th>  Scale:             </th>  <td>  1.0000</td>  \n",
       "</tr>\n",
       "<tr>\n",
       "  <th>Method:</th>                <td>IRLS</td>       <th>  Log-Likelihood:    </th> <td>-3.3898e+05</td>\n",
       "</tr>\n",
       "<tr>\n",
       "  <th>Date:</th>            <td>Thu, 11 Apr 2024</td> <th>  Deviance:          </th> <td>4.4394e+05</td> \n",
       "</tr>\n",
       "<tr>\n",
       "  <th>Time:</th>                <td>10:57:51</td>     <th>  Pearson chi2:      </th>  <td>4.84e+05</td>  \n",
       "</tr>\n",
       "<tr>\n",
       "  <th>No. Iterations:</th>         <td>94</td>        <th>  Pseudo R-squ. (CS):</th>   <td>0.8479</td>   \n",
       "</tr>\n",
       "<tr>\n",
       "  <th>Covariance Type:</th>     <td>nonrobust</td>    <th>                     </th>      <td> </td>     \n",
       "</tr>\n",
       "</table>\n",
       "<table class=\"simpletable\">\n",
       "<tr>\n",
       "   <td></td>     <th>coef</th>     <th>std err</th>      <th>z</th>      <th>P>|z|</th>  <th>[0.025</th>    <th>0.975]</th>  \n",
       "</tr>\n",
       "<tr>\n",
       "  <th>0</th>  <td>    0.1410</td> <td>    0.009</td> <td>   15.178</td> <td> 0.000</td> <td>    0.123</td> <td>    0.159</td>\n",
       "</tr>\n",
       "<tr>\n",
       "  <th>1</th>  <td>    0.7022</td> <td>    0.016</td> <td>   43.221</td> <td> 0.000</td> <td>    0.670</td> <td>    0.734</td>\n",
       "</tr>\n",
       "<tr>\n",
       "  <th>2</th>  <td>    0.4583</td> <td>    0.013</td> <td>   36.332</td> <td> 0.000</td> <td>    0.434</td> <td>    0.483</td>\n",
       "</tr>\n",
       "<tr>\n",
       "  <th>3</th>  <td>    0.1360</td> <td>    0.007</td> <td>   19.280</td> <td> 0.000</td> <td>    0.122</td> <td>    0.150</td>\n",
       "</tr>\n",
       "<tr>\n",
       "  <th>4</th>  <td> 1.419e+05</td> <td> 1.11e+04</td> <td>   12.815</td> <td> 0.000</td> <td>  1.2e+05</td> <td> 1.64e+05</td>\n",
       "</tr>\n",
       "<tr>\n",
       "  <th>5</th>  <td>    0.0340</td> <td>    0.014</td> <td>    2.487</td> <td> 0.013</td> <td>    0.007</td> <td>    0.061</td>\n",
       "</tr>\n",
       "<tr>\n",
       "  <th>6</th>  <td>   -0.1698</td> <td>    0.008</td> <td>  -20.441</td> <td> 0.000</td> <td>   -0.186</td> <td>   -0.154</td>\n",
       "</tr>\n",
       "<tr>\n",
       "  <th>7</th>  <td>   -0.7382</td> <td>    0.117</td> <td>   -6.308</td> <td> 0.000</td> <td>   -0.968</td> <td>   -0.509</td>\n",
       "</tr>\n",
       "<tr>\n",
       "  <th>8</th>  <td>-2.133e+05</td> <td> 6073.834</td> <td>  -35.117</td> <td> 0.000</td> <td>-2.25e+05</td> <td>-2.01e+05</td>\n",
       "</tr>\n",
       "<tr>\n",
       "  <th>9</th>  <td> -1.63e+05</td> <td> 4640.790</td> <td>  -35.117</td> <td> 0.000</td> <td>-1.72e+05</td> <td>-1.54e+05</td>\n",
       "</tr>\n",
       "<tr>\n",
       "  <th>10</th> <td>-8.079e+04</td> <td> 8757.424</td> <td>   -9.225</td> <td> 0.000</td> <td> -9.8e+04</td> <td>-6.36e+04</td>\n",
       "</tr>\n",
       "<tr>\n",
       "  <th>11</th> <td> -2.12e+04</td> <td> 2298.051</td> <td>   -9.225</td> <td> 0.000</td> <td>-2.57e+04</td> <td>-1.67e+04</td>\n",
       "</tr>\n",
       "<tr>\n",
       "  <th>12</th> <td>-3.165e+05</td> <td> 1.08e+04</td> <td>  -29.222</td> <td> 0.000</td> <td>-3.38e+05</td> <td>-2.95e+05</td>\n",
       "</tr>\n",
       "<tr>\n",
       "  <th>13</th> <td>    0.1917</td> <td>    0.042</td> <td>    4.563</td> <td> 0.000</td> <td>    0.109</td> <td>    0.274</td>\n",
       "</tr>\n",
       "<tr>\n",
       "  <th>14</th> <td>-2.133e+05</td> <td> 6073.834</td> <td>  -35.117</td> <td> 0.000</td> <td>-2.25e+05</td> <td>-2.01e+05</td>\n",
       "</tr>\n",
       "<tr>\n",
       "  <th>15</th> <td> -2.12e+04</td> <td> 2298.051</td> <td>   -9.225</td> <td> 0.000</td> <td>-2.57e+04</td> <td>-1.67e+04</td>\n",
       "</tr>\n",
       "<tr>\n",
       "  <th>16</th> <td>    0.3055</td> <td>    0.020</td> <td>   15.416</td> <td> 0.000</td> <td>    0.267</td> <td>    0.344</td>\n",
       "</tr>\n",
       "<tr>\n",
       "  <th>17</th> <td>-1.555e+05</td> <td> 1.21e+04</td> <td>  -12.815</td> <td> 0.000</td> <td>-1.79e+05</td> <td>-1.32e+05</td>\n",
       "</tr>\n",
       "<tr>\n",
       "  <th>18</th> <td>   -0.1819</td> <td>    0.004</td> <td>  -51.385</td> <td> 0.000</td> <td>   -0.189</td> <td>   -0.175</td>\n",
       "</tr>\n",
       "<tr>\n",
       "  <th>19</th> <td>    0.2517</td> <td>    0.015</td> <td>   17.352</td> <td> 0.000</td> <td>    0.223</td> <td>    0.280</td>\n",
       "</tr>\n",
       "<tr>\n",
       "  <th>20</th> <td>    0.1680</td> <td>    0.011</td> <td>   15.136</td> <td> 0.000</td> <td>    0.146</td> <td>    0.190</td>\n",
       "</tr>\n",
       "<tr>\n",
       "  <th>21</th> <td>   -0.2816</td> <td>    0.020</td> <td>  -14.002</td> <td> 0.000</td> <td>   -0.321</td> <td>   -0.242</td>\n",
       "</tr>\n",
       "<tr>\n",
       "  <th>22</th> <td>    0.2358</td> <td>    0.013</td> <td>   18.570</td> <td> 0.000</td> <td>    0.211</td> <td>    0.261</td>\n",
       "</tr>\n",
       "<tr>\n",
       "  <th>23</th> <td>    0.2700</td> <td>    0.019</td> <td>   14.427</td> <td> 0.000</td> <td>    0.233</td> <td>    0.307</td>\n",
       "</tr>\n",
       "<tr>\n",
       "  <th>24</th> <td>    0.3085</td> <td>    0.014</td> <td>   21.533</td> <td> 0.000</td> <td>    0.280</td> <td>    0.337</td>\n",
       "</tr>\n",
       "<tr>\n",
       "  <th>25</th> <td> 2.919e+05</td> <td> 6213.097</td> <td>   46.989</td> <td> 0.000</td> <td>  2.8e+05</td> <td> 3.04e+05</td>\n",
       "</tr>\n",
       "<tr>\n",
       "  <th>26</th> <td> 4.149e+05</td> <td> 8829.998</td> <td>   46.990</td> <td> 0.000</td> <td> 3.98e+05</td> <td> 4.32e+05</td>\n",
       "</tr>\n",
       "<tr>\n",
       "  <th>27</th> <td> 2.967e+05</td> <td> 1.21e+04</td> <td>   24.606</td> <td> 0.000</td> <td> 2.73e+05</td> <td>  3.2e+05</td>\n",
       "</tr>\n",
       "<tr>\n",
       "  <th>28</th> <td> 2.213e+05</td> <td> 8995.419</td> <td>   24.606</td> <td> 0.000</td> <td> 2.04e+05</td> <td> 2.39e+05</td>\n",
       "</tr>\n",
       "<tr>\n",
       "  <th>29</th> <td>-6.279e+05</td> <td> 1.34e+04</td> <td>  -46.990</td> <td> 0.000</td> <td>-6.54e+05</td> <td>-6.02e+05</td>\n",
       "</tr>\n",
       "<tr>\n",
       "  <th>30</th> <td>-4.556e+05</td> <td> 1.85e+04</td> <td>  -24.606</td> <td> 0.000</td> <td>-4.92e+05</td> <td>-4.19e+05</td>\n",
       "</tr>\n",
       "<tr>\n",
       "  <th>31</th> <td>   10.2582</td> <td>    0.480</td> <td>   21.363</td> <td> 0.000</td> <td>    9.317</td> <td>   11.199</td>\n",
       "</tr>\n",
       "<tr>\n",
       "  <th>32</th> <td>    0.2856</td> <td>    0.026</td> <td>   10.991</td> <td> 0.000</td> <td>    0.235</td> <td>    0.336</td>\n",
       "</tr>\n",
       "<tr>\n",
       "  <th>33</th> <td>    0.2315</td> <td>    0.006</td> <td>   36.894</td> <td> 0.000</td> <td>    0.219</td> <td>    0.244</td>\n",
       "</tr>\n",
       "<tr>\n",
       "  <th>34</th> <td>   -0.0084</td> <td>    0.005</td> <td>   -1.535</td> <td> 0.125</td> <td>   -0.019</td> <td>    0.002</td>\n",
       "</tr>\n",
       "<tr>\n",
       "  <th>35</th> <td>   -0.3714</td> <td>    0.012</td> <td>  -30.262</td> <td> 0.000</td> <td>   -0.395</td> <td>   -0.347</td>\n",
       "</tr>\n",
       "<tr>\n",
       "  <th>36</th> <td>    0.2140</td> <td>    0.015</td> <td>   14.735</td> <td> 0.000</td> <td>    0.186</td> <td>    0.243</td>\n",
       "</tr>\n",
       "<tr>\n",
       "  <th>37</th> <td> 2.835e+05</td> <td> 2.21e+04</td> <td>   12.815</td> <td> 0.000</td> <td>  2.4e+05</td> <td> 3.27e+05</td>\n",
       "</tr>\n",
       "<tr>\n",
       "  <th>38</th> <td>   -0.2096</td> <td>    0.001</td> <td> -151.443</td> <td> 0.000</td> <td>   -0.212</td> <td>   -0.207</td>\n",
       "</tr>\n",
       "<tr>\n",
       "  <th>39</th> <td>    2.0056</td> <td>    0.005</td> <td>  418.103</td> <td> 0.000</td> <td>    1.996</td> <td>    2.015</td>\n",
       "</tr>\n",
       "<tr>\n",
       "  <th>40</th> <td>    2.1296</td> <td>    0.005</td> <td>  450.847</td> <td> 0.000</td> <td>    2.120</td> <td>    2.139</td>\n",
       "</tr>\n",
       "<tr>\n",
       "  <th>41</th> <td>    1.7673</td> <td>    0.005</td> <td>  357.117</td> <td> 0.000</td> <td>    1.758</td> <td>    1.777</td>\n",
       "</tr>\n",
       "</table>"
      ],
      "text/latex": [
       "\\begin{center}\n",
       "\\begin{tabular}{lclc}\n",
       "\\toprule\n",
       "\\textbf{Dep. Variable:}   &        0         & \\textbf{  No. Observations:  } &     76421    \\\\\n",
       "\\textbf{Model:}           &       GLM        & \\textbf{  Df Residuals:      } &     76381    \\\\\n",
       "\\textbf{Model Family:}    &     Poisson      & \\textbf{  Df Model:          } &        39    \\\\\n",
       "\\textbf{Link Function:}   &       Log        & \\textbf{  Scale:             } &     1.0000   \\\\\n",
       "\\textbf{Method:}          &       IRLS       & \\textbf{  Log-Likelihood:    } & -3.3898e+05  \\\\\n",
       "\\textbf{Date:}            & Thu, 11 Apr 2024 & \\textbf{  Deviance:          } &  4.4394e+05  \\\\\n",
       "\\textbf{Time:}            &     10:57:51     & \\textbf{  Pearson chi2:      } &   4.84e+05   \\\\\n",
       "\\textbf{No. Iterations:}  &        94        & \\textbf{  Pseudo R-squ. (CS):} &    0.8479    \\\\\n",
       "\\textbf{Covariance Type:} &    nonrobust     & \\textbf{                     } &              \\\\\n",
       "\\bottomrule\n",
       "\\end{tabular}\n",
       "\\begin{tabular}{lcccccc}\n",
       "            & \\textbf{coef} & \\textbf{std err} & \\textbf{z} & \\textbf{P$> |$z$|$} & \\textbf{[0.025} & \\textbf{0.975]}  \\\\\n",
       "\\midrule\n",
       "\\textbf{0}  &       0.1410  &        0.009     &    15.178  &         0.000        &        0.123    &        0.159     \\\\\n",
       "\\textbf{1}  &       0.7022  &        0.016     &    43.221  &         0.000        &        0.670    &        0.734     \\\\\n",
       "\\textbf{2}  &       0.4583  &        0.013     &    36.332  &         0.000        &        0.434    &        0.483     \\\\\n",
       "\\textbf{3}  &       0.1360  &        0.007     &    19.280  &         0.000        &        0.122    &        0.150     \\\\\n",
       "\\textbf{4}  &    1.419e+05  &     1.11e+04     &    12.815  &         0.000        &      1.2e+05    &     1.64e+05     \\\\\n",
       "\\textbf{5}  &       0.0340  &        0.014     &     2.487  &         0.013        &        0.007    &        0.061     \\\\\n",
       "\\textbf{6}  &      -0.1698  &        0.008     &   -20.441  &         0.000        &       -0.186    &       -0.154     \\\\\n",
       "\\textbf{7}  &      -0.7382  &        0.117     &    -6.308  &         0.000        &       -0.968    &       -0.509     \\\\\n",
       "\\textbf{8}  &   -2.133e+05  &     6073.834     &   -35.117  &         0.000        &    -2.25e+05    &    -2.01e+05     \\\\\n",
       "\\textbf{9}  &    -1.63e+05  &     4640.790     &   -35.117  &         0.000        &    -1.72e+05    &    -1.54e+05     \\\\\n",
       "\\textbf{10} &   -8.079e+04  &     8757.424     &    -9.225  &         0.000        &     -9.8e+04    &    -6.36e+04     \\\\\n",
       "\\textbf{11} &    -2.12e+04  &     2298.051     &    -9.225  &         0.000        &    -2.57e+04    &    -1.67e+04     \\\\\n",
       "\\textbf{12} &   -3.165e+05  &     1.08e+04     &   -29.222  &         0.000        &    -3.38e+05    &    -2.95e+05     \\\\\n",
       "\\textbf{13} &       0.1917  &        0.042     &     4.563  &         0.000        &        0.109    &        0.274     \\\\\n",
       "\\textbf{14} &   -2.133e+05  &     6073.834     &   -35.117  &         0.000        &    -2.25e+05    &    -2.01e+05     \\\\\n",
       "\\textbf{15} &    -2.12e+04  &     2298.051     &    -9.225  &         0.000        &    -2.57e+04    &    -1.67e+04     \\\\\n",
       "\\textbf{16} &       0.3055  &        0.020     &    15.416  &         0.000        &        0.267    &        0.344     \\\\\n",
       "\\textbf{17} &   -1.555e+05  &     1.21e+04     &   -12.815  &         0.000        &    -1.79e+05    &    -1.32e+05     \\\\\n",
       "\\textbf{18} &      -0.1819  &        0.004     &   -51.385  &         0.000        &       -0.189    &       -0.175     \\\\\n",
       "\\textbf{19} &       0.2517  &        0.015     &    17.352  &         0.000        &        0.223    &        0.280     \\\\\n",
       "\\textbf{20} &       0.1680  &        0.011     &    15.136  &         0.000        &        0.146    &        0.190     \\\\\n",
       "\\textbf{21} &      -0.2816  &        0.020     &   -14.002  &         0.000        &       -0.321    &       -0.242     \\\\\n",
       "\\textbf{22} &       0.2358  &        0.013     &    18.570  &         0.000        &        0.211    &        0.261     \\\\\n",
       "\\textbf{23} &       0.2700  &        0.019     &    14.427  &         0.000        &        0.233    &        0.307     \\\\\n",
       "\\textbf{24} &       0.3085  &        0.014     &    21.533  &         0.000        &        0.280    &        0.337     \\\\\n",
       "\\textbf{25} &    2.919e+05  &     6213.097     &    46.989  &         0.000        &      2.8e+05    &     3.04e+05     \\\\\n",
       "\\textbf{26} &    4.149e+05  &     8829.998     &    46.990  &         0.000        &     3.98e+05    &     4.32e+05     \\\\\n",
       "\\textbf{27} &    2.967e+05  &     1.21e+04     &    24.606  &         0.000        &     2.73e+05    &      3.2e+05     \\\\\n",
       "\\textbf{28} &    2.213e+05  &     8995.419     &    24.606  &         0.000        &     2.04e+05    &     2.39e+05     \\\\\n",
       "\\textbf{29} &   -6.279e+05  &     1.34e+04     &   -46.990  &         0.000        &    -6.54e+05    &    -6.02e+05     \\\\\n",
       "\\textbf{30} &   -4.556e+05  &     1.85e+04     &   -24.606  &         0.000        &    -4.92e+05    &    -4.19e+05     \\\\\n",
       "\\textbf{31} &      10.2582  &        0.480     &    21.363  &         0.000        &        9.317    &       11.199     \\\\\n",
       "\\textbf{32} &       0.2856  &        0.026     &    10.991  &         0.000        &        0.235    &        0.336     \\\\\n",
       "\\textbf{33} &       0.2315  &        0.006     &    36.894  &         0.000        &        0.219    &        0.244     \\\\\n",
       "\\textbf{34} &      -0.0084  &        0.005     &    -1.535  &         0.125        &       -0.019    &        0.002     \\\\\n",
       "\\textbf{35} &      -0.3714  &        0.012     &   -30.262  &         0.000        &       -0.395    &       -0.347     \\\\\n",
       "\\textbf{36} &       0.2140  &        0.015     &    14.735  &         0.000        &        0.186    &        0.243     \\\\\n",
       "\\textbf{37} &    2.835e+05  &     2.21e+04     &    12.815  &         0.000        &      2.4e+05    &     3.27e+05     \\\\\n",
       "\\textbf{38} &      -0.2096  &        0.001     &  -151.443  &         0.000        &       -0.212    &       -0.207     \\\\\n",
       "\\textbf{39} &       2.0056  &        0.005     &   418.103  &         0.000        &        1.996    &        2.015     \\\\\n",
       "\\textbf{40} &       2.1296  &        0.005     &   450.847  &         0.000        &        2.120    &        2.139     \\\\\n",
       "\\textbf{41} &       1.7673  &        0.005     &   357.117  &         0.000        &        1.758    &        1.777     \\\\\n",
       "\\bottomrule\n",
       "\\end{tabular}\n",
       "%\\caption{Generalized Linear Model Regression Results}\n",
       "\\end{center}"
      ],
      "text/plain": [
       "<class 'statsmodels.iolib.summary.Summary'>\n",
       "\"\"\"\n",
       "                 Generalized Linear Model Regression Results                  \n",
       "==============================================================================\n",
       "Dep. Variable:                      0   No. Observations:                76421\n",
       "Model:                            GLM   Df Residuals:                    76381\n",
       "Model Family:                 Poisson   Df Model:                           39\n",
       "Link Function:                    Log   Scale:                          1.0000\n",
       "Method:                          IRLS   Log-Likelihood:            -3.3898e+05\n",
       "Date:                Thu, 11 Apr 2024   Deviance:                   4.4394e+05\n",
       "Time:                        10:57:51   Pearson chi2:                 4.84e+05\n",
       "No. Iterations:                    94   Pseudo R-squ. (CS):             0.8479\n",
       "Covariance Type:            nonrobust                                         \n",
       "==============================================================================\n",
       "                 coef    std err          z      P>|z|      [0.025      0.975]\n",
       "------------------------------------------------------------------------------\n",
       "0              0.1410      0.009     15.178      0.000       0.123       0.159\n",
       "1              0.7022      0.016     43.221      0.000       0.670       0.734\n",
       "2              0.4583      0.013     36.332      0.000       0.434       0.483\n",
       "3              0.1360      0.007     19.280      0.000       0.122       0.150\n",
       "4           1.419e+05   1.11e+04     12.815      0.000     1.2e+05    1.64e+05\n",
       "5              0.0340      0.014      2.487      0.013       0.007       0.061\n",
       "6             -0.1698      0.008    -20.441      0.000      -0.186      -0.154\n",
       "7             -0.7382      0.117     -6.308      0.000      -0.968      -0.509\n",
       "8          -2.133e+05   6073.834    -35.117      0.000   -2.25e+05   -2.01e+05\n",
       "9           -1.63e+05   4640.790    -35.117      0.000   -1.72e+05   -1.54e+05\n",
       "10         -8.079e+04   8757.424     -9.225      0.000    -9.8e+04   -6.36e+04\n",
       "11          -2.12e+04   2298.051     -9.225      0.000   -2.57e+04   -1.67e+04\n",
       "12         -3.165e+05   1.08e+04    -29.222      0.000   -3.38e+05   -2.95e+05\n",
       "13             0.1917      0.042      4.563      0.000       0.109       0.274\n",
       "14         -2.133e+05   6073.834    -35.117      0.000   -2.25e+05   -2.01e+05\n",
       "15          -2.12e+04   2298.051     -9.225      0.000   -2.57e+04   -1.67e+04\n",
       "16             0.3055      0.020     15.416      0.000       0.267       0.344\n",
       "17         -1.555e+05   1.21e+04    -12.815      0.000   -1.79e+05   -1.32e+05\n",
       "18            -0.1819      0.004    -51.385      0.000      -0.189      -0.175\n",
       "19             0.2517      0.015     17.352      0.000       0.223       0.280\n",
       "20             0.1680      0.011     15.136      0.000       0.146       0.190\n",
       "21            -0.2816      0.020    -14.002      0.000      -0.321      -0.242\n",
       "22             0.2358      0.013     18.570      0.000       0.211       0.261\n",
       "23             0.2700      0.019     14.427      0.000       0.233       0.307\n",
       "24             0.3085      0.014     21.533      0.000       0.280       0.337\n",
       "25          2.919e+05   6213.097     46.989      0.000     2.8e+05    3.04e+05\n",
       "26          4.149e+05   8829.998     46.990      0.000    3.98e+05    4.32e+05\n",
       "27          2.967e+05   1.21e+04     24.606      0.000    2.73e+05     3.2e+05\n",
       "28          2.213e+05   8995.419     24.606      0.000    2.04e+05    2.39e+05\n",
       "29         -6.279e+05   1.34e+04    -46.990      0.000   -6.54e+05   -6.02e+05\n",
       "30         -4.556e+05   1.85e+04    -24.606      0.000   -4.92e+05   -4.19e+05\n",
       "31            10.2582      0.480     21.363      0.000       9.317      11.199\n",
       "32             0.2856      0.026     10.991      0.000       0.235       0.336\n",
       "33             0.2315      0.006     36.894      0.000       0.219       0.244\n",
       "34            -0.0084      0.005     -1.535      0.125      -0.019       0.002\n",
       "35            -0.3714      0.012    -30.262      0.000      -0.395      -0.347\n",
       "36             0.2140      0.015     14.735      0.000       0.186       0.243\n",
       "37          2.835e+05   2.21e+04     12.815      0.000     2.4e+05    3.27e+05\n",
       "38            -0.2096      0.001   -151.443      0.000      -0.212      -0.207\n",
       "39             2.0056      0.005    418.103      0.000       1.996       2.015\n",
       "40             2.1296      0.005    450.847      0.000       2.120       2.139\n",
       "41             1.7673      0.005    357.117      0.000       1.758       1.777\n",
       "==============================================================================\n",
       "\"\"\""
      ]
     },
     "execution_count": 8,
     "metadata": {},
     "output_type": "execute_result"
    }
   ],
   "source": [
    "dir(poisson_model)\n",
    "poisson_model.summary()"
   ]
  },
  {
   "cell_type": "markdown",
   "metadata": {},
   "source": [
    "### Metrics"
   ]
  },
  {
   "cell_type": "code",
   "execution_count": null,
   "metadata": {},
   "outputs": [
    {
     "name": "stdout",
     "output_type": "stream",
     "text": [
      "Train RMSE: 8.868650403373618\n",
      "Val RMSE: 8.847541013905643\n",
      "\n",
      "Test RMSE: 7.845855102977736\n",
      "Test MAE: 4.567524991652073\n",
      "\n"
     ]
    }
   ],
   "source": [
    "train_rmse = np.sqrt(mean_squared_error(y_train_pred, y_train))\n",
    "val_rmse = np.sqrt(mean_squared_error(y_val_pred, y_val))\n",
    "rmse = np.sqrt(mean_squared_error(y_test_preds, y_test))\n",
    "mae = mean_absolute_error(y_test_preds, y_test)\n",
    "\n",
    "\n",
    "print(f\"Train RMSE: {train_rmse}\")\n",
    "print(f\"Val RMSE: {val_rmse}\\n\")\n",
    "print(f\"Test RMSE: {rmse}\")\n",
    "print(f\"Test MAE: {mae}\\n\")\n"
   ]
  },
  {
   "cell_type": "markdown",
   "metadata": {},
   "source": [
    "Double Poisson NNL"
   ]
  },
  {
   "cell_type": "code",
   "execution_count": null,
   "metadata": {},
   "outputs": [
    {
     "name": "stdout",
     "output_type": "stream",
     "text": [
      "Double Poisson NNL: 35.251579968174994\n"
     ]
    }
   ],
   "source": [
    "from deep_uncertainty.evaluation.calibration import compute_double_poisson_nll, compute_discrete_ece\n",
    "\n",
    "y_true = np.array(y_test)\n",
    "mu = np.array(y_test_preds)\n",
    "phi = mu\n",
    "nnl = compute_double_poisson_nll(y_true, mu, phi)\n",
    "print(f\"Double Poisson NNL: {nnl}\")"
   ]
  },
  {
   "cell_type": "markdown",
   "metadata": {},
   "source": [
    "MP"
   ]
  },
  {
   "cell_type": "code",
   "execution_count": null,
   "metadata": {},
   "outputs": [
    {
     "name": "stdout",
     "output_type": "stream",
     "text": [
      "Median Precision: 0.16286338598099723\n"
     ]
    }
   ],
   "source": [
    "precisions = 1 / y_test_preds\n",
    "mp = np.median(precisions)\n",
    "print(f\"Median Precision: {mp}\")"
   ]
  },
  {
   "cell_type": "markdown",
   "metadata": {},
   "source": [
    "ECE"
   ]
  },
  {
   "cell_type": "code",
   "execution_count": null,
   "metadata": {},
   "outputs": [
    {
     "name": "stdout",
     "output_type": "stream",
     "text": [
      "ECE: 0.16112081345554014\n"
     ]
    }
   ],
   "source": [
    "poisson_predictions = poisson_model.get_prediction(X_test)\n",
    "predictions_summary_frame = poisson_predictions.summary_frame()\n",
    "lambdas = np.array(predictions_summary_frame['mean'])\n",
    "from scipy.special import factorial\n",
    "probs = (np.exp(-lambdas) * (lambdas ** y_test_preds)) / factorial(y_test_preds)\n",
    "\n",
    "ece = compute_discrete_ece(np.array(y_test[0]), np.array(y_test_preds), np.array(probs))\n",
    "print(f\"ECE: {ece}\")"
   ]
  },
  {
   "cell_type": "code",
   "execution_count": null,
   "metadata": {},
   "outputs": [
    {
     "name": "stdout",
     "output_type": "stream",
     "text": [
      "[9553]\n",
      "[9553]\n",
      "[9553]\n"
     ]
    }
   ],
   "source": [
    "probs = (np.exp(-lambdas) * (lambdas ** y_test_preds)) / factorial(y_test_preds)\n",
    "\n",
    "print(np.array(probs.shape))\n",
    "print(np.array(y_test_preds.shape))\n",
    "print(np.array(y_test[0].shape))"
   ]
  },
  {
   "cell_type": "markdown",
   "metadata": {},
   "source": [
    "Negative Binomial"
   ]
  },
  {
   "cell_type": "code",
   "execution_count": null,
   "metadata": {},
   "outputs": [],
   "source": [
    "y_train = y_train.rename(columns={0: 'TARGET'})\n",
    "y_test = y_test.rename(columns={0: 'TARGET'})"
   ]
  },
  {
   "cell_type": "code",
   "execution_count": null,
   "metadata": {},
   "outputs": [
    {
     "name": "stderr",
     "output_type": "stream",
     "text": [
      "/var/folders/xg/5n69np453nn3pzzpyw20jrp40000gn/T/ipykernel_7978/3826647845.py:7: FutureWarning: Series.__getitem__ treating keys as positions is deprecated. In a future version, integer keys will always be treated as labels (consistent with DataFrame behavior). To access a value by position, use `ser.iloc[pos]`\n",
      "  nb2_training_results = sm.GLM(y_train, X_train,family=sm.families.NegativeBinomial(alpha=aux_olsr_results.params[0])).fit()\n"
     ]
    }
   ],
   "source": [
    "df_train = pd.concat([X_train, y_train], axis=1)\n",
    "\n",
    "df_train[\"BB_LAMBDA\"] = poisson_model.mu\n",
    "df_train['AUX_OLS_DEP'] = df_train.apply(lambda x: ((x['TARGET'] - x['BB_LAMBDA'])**2 - x['BB_LAMBDA']) / x['BB_LAMBDA'], axis=1)\n",
    "ols_expr = \"\"\"AUX_OLS_DEP ~ BB_LAMBDA - 1\"\"\"\n",
    "aux_olsr_results = smf.ols(ols_expr, df_train).fit()\n",
    "nb2_training_results = sm.GLM(y_train, X_train,family=sm.families.NegativeBinomial(alpha=aux_olsr_results.params[0])).fit()\n",
    "\n",
    "y_test_preds = nb2_training_results.predict(X_test)\n",
    "y_val_preds = nb2_training_results.predict(X_val)\n",
    "y_train_preds = nb2_training_results.predict(X_train)\n",
    "\n",
    "\n",
    "# Count number of successful predictions\n",
    "# success_threshold = 1\n",
    "# test_predictions = np.array(successes)\n",
    "# y_test_values = y_test.values.flatten()\n",
    "# absolute_differences = np.abs(test_predictions - y_test_values)\n",
    "# successful_predictions_count = np.sum(absolute_differences <= success_threshold)\n",
    "# print(\"Number of successful predictions:\", successful_predictions_count)"
   ]
  },
  {
   "cell_type": "code",
   "execution_count": null,
   "metadata": {},
   "outputs": [
    {
     "name": "stdout",
     "output_type": "stream",
     "text": [
      "[0. 0. 0. ... 0. 0. 0.]\n"
     ]
    },
    {
     "name": "stderr",
     "output_type": "stream",
     "text": [
      "/var/folders/xg/5n69np453nn3pzzpyw20jrp40000gn/T/ipykernel_7978/854703131.py:7: FutureWarning: Series.__getitem__ treating keys as positions is deprecated. In a future version, integer keys will always be treated as labels (consistent with DataFrame behavior). To access a value by position, use `ser.iloc[pos]`\n",
      "  variances = mu + mu**2*aux_olsr_results.params[0]\n"
     ]
    }
   ],
   "source": [
    "nb2_predictions = nb2_training_results.get_prediction(X_test)\n",
    "predictions_summary_frame = nb2_predictions.summary_frame()\n",
    "predicted_counts=predictions_summary_frame['mean']\n",
    "actual_counts = y_test\n",
    "\n",
    "mu = predicted_counts\n",
    "variances = mu + mu**2*aux_olsr_results.params[0]\n",
    "p = mu / variances\n",
    "n = (mu **2 / (variances - mu))[0] # all the values are the same\n",
    "nb_pmf = nbinom(p=p, n=n)\n",
    "probs = nb_pmf.pmf(y_test_preds)\n",
    "print(probs)"
   ]
  },
  {
   "cell_type": "markdown",
   "metadata": {},
   "source": [
    "### Metrics"
   ]
  },
  {
   "cell_type": "code",
   "execution_count": null,
   "metadata": {},
   "outputs": [
    {
     "name": "stdout",
     "output_type": "stream",
     "text": [
      "Train RMSE: 9.255150763968368\n",
      "Val RMSE: 9.283101716314107\n",
      "\n",
      "Test RMSE: 8.262728212550202\n",
      "Test MAE: 4.656295301652769\n"
     ]
    }
   ],
   "source": [
    "train_rmse = np.sqrt(mean_squared_error(y_train_preds, y_train))\n",
    "val_rmse = np.sqrt(mean_squared_error(y_val_preds, y_val))\n",
    "rmse = np.sqrt(mean_squared_error(y_test_preds, y_test))\n",
    "mae = mean_absolute_error(y_test_preds, y_test)\n",
    "\n",
    "print(f\"Train RMSE: {train_rmse}\")\n",
    "print(f\"Val RMSE: {val_rmse}\\n\")\n",
    "print(f\"Test RMSE: {rmse}\")\n",
    "print(f\"Test MAE: {mae}\")"
   ]
  },
  {
   "cell_type": "markdown",
   "metadata": {},
   "source": [
    "NNL"
   ]
  },
  {
   "cell_type": "code",
   "execution_count": null,
   "metadata": {},
   "outputs": [
    {
     "name": "stderr",
     "output_type": "stream",
     "text": [
      "/var/folders/xg/5n69np453nn3pzzpyw20jrp40000gn/T/ipykernel_7978/2967833829.py:3: FutureWarning: Series.__getitem__ treating keys as positions is deprecated. In a future version, integer keys will always be treated as labels (consistent with DataFrame behavior). To access a value by position, use `ser.iloc[pos]`\n",
      "  alpha = aux_olsr_results.params[0]\n"
     ]
    },
    {
     "name": "stdout",
     "output_type": "stream",
     "text": [
      "Double Poisson NNL: 3.160682216653232\n"
     ]
    }
   ],
   "source": [
    "y_true = np.array(y_test)\n",
    "mu = np.array(y_test_preds)\n",
    "alpha = aux_olsr_results.params[0]\n",
    "variance = mu + (mu**2 * alpha)\n",
    "phi = mu / variance\n",
    "nnl = compute_double_poisson_nll(y_true, mu, phi)\n",
    "print(f\"Double Poisson NNL: {nnl}\")"
   ]
  },
  {
   "cell_type": "markdown",
   "metadata": {},
   "source": [
    "MP"
   ]
  },
  {
   "cell_type": "code",
   "execution_count": null,
   "metadata": {},
   "outputs": [
    {
     "name": "stdout",
     "output_type": "stream",
     "text": [
      "Median Precision: 0.022347857659916797\n"
     ]
    }
   ],
   "source": [
    "precisions = 1 / variance\n",
    "mp = np.median(precisions)\n",
    "print(f\"Median Precision: {mp}\")"
   ]
  },
  {
   "cell_type": "markdown",
   "metadata": {},
   "source": [
    "ECE"
   ]
  },
  {
   "cell_type": "code",
   "execution_count": null,
   "metadata": {},
   "outputs": [
    {
     "name": "stdout",
     "output_type": "stream",
     "text": [
      "ECE: 0.0047389544995314024\n"
     ]
    }
   ],
   "source": [
    "p = mu / variance\n",
    "n = mu**2 / (variance - mu)\n",
    "k = np.tile(np.arange(0, np.max(y_test)), (len(mu), 1))\n",
    "\n",
    "probs = nbinom.pmf(k.T, p=p, n=n)\n",
    "\n",
    "ece = compute_discrete_ece(np.array(y_test)[:,0], np.array(y_test_preds), np.array(probs.mean(axis=0)))\n",
    "print(f\"ECE: {ece}\")"
   ]
  },
  {
   "cell_type": "code",
   "execution_count": null,
   "metadata": {},
   "outputs": [
    {
     "data": {
      "text/plain": [
       "211.0"
      ]
     },
     "execution_count": 317,
     "metadata": {},
     "output_type": "execute_result"
    }
   ],
   "source": [
    "np.max(y_test)"
   ]
  },
  {
   "cell_type": "code",
   "execution_count": null,
   "metadata": {},
   "outputs": [],
   "source": [
    "num_examples = 10"
   ]
  },
  {
   "cell_type": "code",
   "execution_count": null,
   "metadata": {},
   "outputs": [],
   "source": [
    "k = np.tile(np.arange(0, 100), (num_examples, 1))\n",
    "p = 0.5\n",
    "n = 5"
   ]
  },
  {
   "cell_type": "code",
   "execution_count": null,
   "metadata": {},
   "outputs": [],
   "source": [
    "n = np.ones(num_examples) * n\n",
    "p = np.ones(num_examples) * p"
   ]
  },
  {
   "cell_type": "code",
   "execution_count": null,
   "metadata": {},
   "outputs": [],
   "source": [
    "probs = nbinom.pmf(k.T, n=n, p=p)"
   ]
  },
  {
   "cell_type": "code",
   "execution_count": null,
   "metadata": {},
   "outputs": [
    {
     "data": {
      "text/plain": [
       "array([0.00473934, 0.00473934, 0.00473934, ..., 0.00473934, 0.00473934,\n",
       "       0.00473934])"
      ]
     },
     "execution_count": 331,
     "metadata": {},
     "output_type": "execute_result"
    }
   ],
   "source": [
    "probs.mean(axis=0)"
   ]
  },
  {
   "cell_type": "code",
   "execution_count": null,
   "metadata": {},
   "outputs": [
    {
     "data": {
      "text/plain": [
       "array([1., 1., 1., ..., 1., 1., 1.])"
      ]
     },
     "execution_count": 330,
     "metadata": {},
     "output_type": "execute_result"
    }
   ],
   "source": [
    "probs.sum(axis=0)"
   ]
  },
  {
   "cell_type": "code",
   "execution_count": null,
   "metadata": {},
   "outputs": [
    {
     "data": {
      "image/png": "[encoded data removed]",
      "text/plain": [
       "<Figure size 2000x800 with 1 Axes>"
      ]
     },
     "metadata": {},
     "output_type": "display_data"
    }
   ],
   "source": [
    "import matplotlib.pyplot as plt\n",
    "predicted_counts=predictions_summary_frame['mean']\n",
    "actual_counts = y_test\n",
    "fig = plt.figure(figsize=(20, 8))\n",
    "fig.suptitle('Predicted versus actual counts using the NB')\n",
    "predicted_counts1 = predicted_counts[::25]\n",
    "actual1 = actual_counts[::50]\n",
    "predicted, = plt.plot(predicted_counts1, 'go-', label='Predicted counts')\n",
    "actual,  = plt.plot(actual1, 'ro-', label='Actual counts')\n",
    "plt.legend(handles=[predicted, actual])\n",
    "plt.show()"
   ]
  }
 ],
 "metadata": {
  "kernelspec": {
   "display_name": "deep-uncertainty",
   "language": "python",
   "name": "python3"
  },
  "language_info": {
   "codemirror_mode": {
    "name": "ipython",
    "version": 3
   },
   "file_extension": ".py",
   "mimetype": "text/x-python",
   "name": "python",
   "nbconvert_exporter": "python",
   "pygments_lexer": "ipython3",
   "version": "3.10.13"
  }
 },
 "nbformat": 4,
 "nbformat_minor": 2
}
