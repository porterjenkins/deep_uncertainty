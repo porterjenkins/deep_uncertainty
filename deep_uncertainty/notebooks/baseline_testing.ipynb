{
 "cells": [
  {
   "cell_type": "code",
   "execution_count": 28,
   "metadata": {},
   "outputs": [],
   "source": [
    "import os\n",
    "from sklearn.linear_model import PoissonRegressor\n",
    "import pandas as pd\n",
    "from sklearn.model_selection import train_test_split\n",
    "from sklearn import preprocessing\n",
    "from sklearn.metrics import mean_squared_error \n",
    "import numpy as np\n",
    "import statsmodels.formula.api as smf\n",
    "import statsmodels.api as sm\n",
    "from scipy.stats import poisson\n",
    "from scipy.stats import nbinom\n",
    "from patsy import dmatrices\n",
    "os.chdir(os.path.expanduser(\"~/Desktop/Classes/Research/deep_uncertainty/deep_uncertainty\"))\n",
    "from deep_uncertainty.evaluation.calibration import compute_mean_calibration"
   ]
  },
  {
   "cell_type": "markdown",
   "metadata": {},
   "source": [
    "# Bikes Data"
   ]
  },
  {
   "cell_type": "markdown",
   "metadata": {},
   "source": [
    "# Poisson"
   ]
  },
  {
   "cell_type": "code",
   "execution_count": 13,
   "metadata": {},
   "outputs": [],
   "source": [
    "data = pd.read_csv('deep_uncertainty/data/bikes/day.csv')"
   ]
  },
  {
   "cell_type": "code",
   "execution_count": 14,
   "metadata": {},
   "outputs": [],
   "source": [
    "X = data.iloc[:,:-1]\n",
    "X = X.drop(['dteday', 'instant'], axis=1)\n",
    "mask = np.random.rand(len(data)) < 0.8\n",
    "df_train = data[mask]\n",
    "df_test = data[~mask]\n",
    "\n",
    "expr = \"cnt ~ \" + \" + \".join(data.columns[:-1])\n",
    "expr\n",
    "\n",
    "y_train, X_train = dmatrices(expr, df_train, return_type='dataframe')\n",
    "y_test, X_test = dmatrices(expr, df_test, return_type='dataframe')\n",
    "\n",
    "poisson_training_results = sm.GLM(y_train, X_train, family=sm.families.Poisson()).fit()\n",
    "# print(poisson_training_results.summary())"
   ]
  },
  {
   "cell_type": "code",
   "execution_count": 16,
   "metadata": {},
   "outputs": [
    {
     "data": {
      "text/plain": [
       "581"
      ]
     },
     "execution_count": 16,
     "metadata": {},
     "output_type": "execute_result"
    }
   ],
   "source": [
    "y_preds = poisson_training_results.mu\n",
    "posterior_predictive = poisson(mu=y_preds)\n",
    "posterior_predictive\n",
    "len(y_preds)"
   ]
  },
  {
   "cell_type": "code",
   "execution_count": 17,
   "metadata": {},
   "outputs": [
    {
     "data": {
      "text/plain": [
       "0.3529786891772373"
      ]
     },
     "execution_count": 17,
     "metadata": {},
     "output_type": "execute_result"
    }
   ],
   "source": [
    "# Poisson calibration\n",
    "compute_mean_calibration(np.array(y_test), posterior_predictive)"
   ]
  },
  {
   "cell_type": "markdown",
   "metadata": {},
   "source": [
    "# Negative Binomial"
   ]
  },
  {
   "cell_type": "code",
   "execution_count": null,
   "metadata": {},
   "outputs": [],
   "source": []
  },
  {
   "cell_type": "markdown",
   "metadata": {},
   "source": [
    "# News Data"
   ]
  },
  {
   "cell_type": "markdown",
   "metadata": {},
   "source": [
    "# Poisson"
   ]
  },
  {
   "cell_type": "code",
   "execution_count": 18,
   "metadata": {},
   "outputs": [],
   "source": [
    "news = pd.read_csv('deep_uncertainty/data/news/OnlineNewsPopularity.csv')\n",
    "news = news.drop(labels = \"url\", axis = 1)\n",
    "news.rename(columns = lambda x: x.strip(), inplace = True)\n",
    "\n",
    "mask = np.random.rand(len(news)) < 0.8\n",
    "df_train = news[mask]\n",
    "df_test = news[~mask]\n",
    "\n",
    "expr = \"shares ~ \" + \" + \".join(news.columns[:-1])\n",
    "expr\n",
    "\n",
    "y_train, X_train = dmatrices(expr, df_train, return_type='dataframe')\n",
    "y_test, X_test = dmatrices(expr, df_test, return_type='dataframe')\n",
    "\n",
    "poisson_training_results = sm.GLM(y_train, X_train, family=sm.families.Poisson()).fit()\n",
    "# print(poisson_training_results.summary())"
   ]
  },
  {
   "cell_type": "code",
   "execution_count": 19,
   "metadata": {},
   "outputs": [
    {
     "data": {
      "text/plain": [
       "31726"
      ]
     },
     "execution_count": 19,
     "metadata": {},
     "output_type": "execute_result"
    }
   ],
   "source": [
    "y_preds = poisson_training_results.mu\n",
    "posterior_predictive = poisson(mu=y_preds)\n",
    "posterior_predictive\n",
    "len(y_preds)"
   ]
  },
  {
   "cell_type": "code",
   "execution_count": 20,
   "metadata": {},
   "outputs": [
    {
     "data": {
      "text/plain": [
       "0.34470697613399937"
      ]
     },
     "execution_count": 20,
     "metadata": {},
     "output_type": "execute_result"
    }
   ],
   "source": [
    "# Poisson calibration\n",
    "compute_mean_calibration(np.array(y_test), posterior_predictive)"
   ]
  },
  {
   "cell_type": "markdown",
   "metadata": {},
   "source": [
    "# Negative Binomial"
   ]
  },
  {
   "cell_type": "code",
   "execution_count": null,
   "metadata": {},
   "outputs": [],
   "source": []
  },
  {
   "cell_type": "markdown",
   "metadata": {},
   "source": [
    "# Traffic Data"
   ]
  },
  {
   "cell_type": "markdown",
   "metadata": {},
   "source": [
    "# Poisson"
   ]
  },
  {
   "cell_type": "code",
   "execution_count": 35,
   "metadata": {},
   "outputs": [
    {
     "data": {
      "text/plain": [
       "38521"
      ]
     },
     "execution_count": 35,
     "metadata": {},
     "output_type": "execute_result"
    }
   ],
   "source": [
    "data = pd.read_csv('deep_uncertainty/data/traffic/Metro_Interstate_Traffic_Volume.csv')\n",
    "# how to break up the date time into year, month, day, hour\n",
    "data['date_time'] = pd.to_datetime(data['date_time'])\n",
    "data['year'] = data['date_time'].dt.year\n",
    "data['month'] = data['date_time'].dt.month\n",
    "data['day'] = data['date_time'].dt.day\n",
    "data['hour'] = data['date_time'].dt.hour\n",
    "data.drop('date_time', axis=1, inplace=True)\n",
    "# enconde all the categorical variables\n",
    "le = preprocessing.LabelEncoder()\n",
    "for column in data.columns:\n",
    "    if data[column].dtype == type(object):\n",
    "        data[column] = le.fit_transform(data[column].astype(str))\n",
    "data.rename(columns = lambda x: x.strip(), inplace = True)\n",
    "\n",
    "mask = np.random.rand(len(data)) < 0.8\n",
    "df_train = data[mask]\n",
    "df_test = data[~mask]\n",
    "\n",
    "expr = \"traffic_volume ~ \" + \" + \".join(data.columns[:-1])\n",
    "expr\n",
    "\n",
    "y_train, X_train = dmatrices(expr, df_train, return_type='dataframe')\n",
    "y_test, X_test = dmatrices(expr, df_test, return_type='dataframe')\n",
    "\n",
    "poisson_training_results = sm.GLM(y_train, X_train, family=sm.families.Poisson()).fit()\n",
    "# print(poisson_training_results.summary())\n",
    "\n",
    "y_preds = poisson_training_results.mu\n",
    "posterior_predictive = poisson(mu=y_preds)\n",
    "posterior_predictive\n",
    "len(y_preds)"
   ]
  },
  {
   "cell_type": "code",
   "execution_count": 26,
   "metadata": {},
   "outputs": [
    {
     "data": {
      "text/plain": [
       "0.347480321449666"
      ]
     },
     "execution_count": 26,
     "metadata": {},
     "output_type": "execute_result"
    }
   ],
   "source": [
    "# Poisson calibration\n",
    "compute_mean_calibration(np.array(y_test), posterior_predictive)"
   ]
  },
  {
   "cell_type": "markdown",
   "metadata": {},
   "source": [
    "# Negative Binomial"
   ]
  },
  {
   "cell_type": "code",
   "execution_count": 36,
   "metadata": {},
   "outputs": [
    {
     "name": "stderr",
     "output_type": "stream",
     "text": [
      "/var/folders/xg/5n69np453nn3pzzpyw20jrp40000gn/T/ipykernel_76104/1300376213.py:1: SettingWithCopyWarning: \n",
      "A value is trying to be set on a copy of a slice from a DataFrame.\n",
      "Try using .loc[row_indexer,col_indexer] = value instead\n",
      "\n",
      "See the caveats in the documentation: https://pandas.pydata.org/pandas-docs/stable/user_guide/indexing.html#returning-a-view-versus-a-copy\n",
      "  df_train[\"BB_LAMBDA\"] = poisson_training_results.mu\n",
      "/var/folders/xg/5n69np453nn3pzzpyw20jrp40000gn/T/ipykernel_76104/1300376213.py:2: SettingWithCopyWarning: \n",
      "A value is trying to be set on a copy of a slice from a DataFrame.\n",
      "Try using .loc[row_indexer,col_indexer] = value instead\n",
      "\n",
      "See the caveats in the documentation: https://pandas.pydata.org/pandas-docs/stable/user_guide/indexing.html#returning-a-view-versus-a-copy\n",
      "  df_train['AUX_OLS_DEP'] = df_train.apply(lambda x: ((x['traffic_volume'] - x['BB_LAMBDA'])**2 - x['BB_LAMBDA']) / x['BB_LAMBDA'], axis=1)\n",
      "/var/folders/xg/5n69np453nn3pzzpyw20jrp40000gn/T/ipykernel_76104/1300376213.py:5: FutureWarning: Series.__getitem__ treating keys as positions is deprecated. In a future version, integer keys will always be treated as labels (consistent with DataFrame behavior). To access a value by position, use `ser.iloc[pos]`\n",
      "  nb2_training_results = sm.GLM(y_train, X_train,family=sm.families.NegativeBinomial(alpha=aux_olsr_results.params[0])).fit()\n"
     ]
    },
    {
     "ename": "TypeError",
     "evalue": "_parse_args() missing 1 required positional argument: 'n'",
     "output_type": "error",
     "traceback": [
      "\u001b[0;31m---------------------------------------------------------------------------\u001b[0m",
      "\u001b[0;31mTypeError\u001b[0m                                 Traceback (most recent call last)",
      "Cell \u001b[0;32mIn[36], line 12\u001b[0m\n\u001b[1;32m     10\u001b[0m y_preds \u001b[38;5;241m=\u001b[39m poisson_training_results\u001b[38;5;241m.\u001b[39mmu\n\u001b[1;32m     11\u001b[0m y_test \u001b[38;5;241m=\u001b[39m y_test[\u001b[38;5;124m'\u001b[39m\u001b[38;5;124mtraffic_volume\u001b[39m\u001b[38;5;124m'\u001b[39m]\n\u001b[0;32m---> 12\u001b[0m posterior_predictive \u001b[38;5;241m=\u001b[39m \u001b[43mnbinom\u001b[49m\u001b[43m(\u001b[49m\u001b[43mp\u001b[49m\u001b[38;5;241;43m=\u001b[39;49m\u001b[43my_preds\u001b[49m\u001b[43m)\u001b[49m\n\u001b[1;32m     13\u001b[0m \u001b[38;5;28mlen\u001b[39m(y_preds)\n",
      "File \u001b[0;32m~/opt/anaconda3/envs/deep-uncertainty/lib/python3.10/site-packages/scipy/stats/_distn_infrastructure.py:849\u001b[0m, in \u001b[0;36mrv_generic.__call__\u001b[0;34m(self, *args, **kwds)\u001b[0m\n\u001b[1;32m    848\u001b[0m \u001b[38;5;28;01mdef\u001b[39;00m \u001b[38;5;21m__call__\u001b[39m(\u001b[38;5;28mself\u001b[39m, \u001b[38;5;241m*\u001b[39margs, \u001b[38;5;241m*\u001b[39m\u001b[38;5;241m*\u001b[39mkwds):\n\u001b[0;32m--> 849\u001b[0m     \u001b[38;5;28;01mreturn\u001b[39;00m \u001b[38;5;28;43mself\u001b[39;49m\u001b[38;5;241;43m.\u001b[39;49m\u001b[43mfreeze\u001b[49m\u001b[43m(\u001b[49m\u001b[38;5;241;43m*\u001b[39;49m\u001b[43margs\u001b[49m\u001b[43m,\u001b[49m\u001b[43m \u001b[49m\u001b[38;5;241;43m*\u001b[39;49m\u001b[38;5;241;43m*\u001b[39;49m\u001b[43mkwds\u001b[49m\u001b[43m)\u001b[49m\n",
      "File \u001b[0;32m~/opt/anaconda3/envs/deep-uncertainty/lib/python3.10/site-packages/scipy/stats/_distn_infrastructure.py:846\u001b[0m, in \u001b[0;36mrv_generic.freeze\u001b[0;34m(self, *args, **kwds)\u001b[0m\n\u001b[1;32m    844\u001b[0m     \u001b[38;5;28;01mreturn\u001b[39;00m rv_continuous_frozen(\u001b[38;5;28mself\u001b[39m, \u001b[38;5;241m*\u001b[39margs, \u001b[38;5;241m*\u001b[39m\u001b[38;5;241m*\u001b[39mkwds)\n\u001b[1;32m    845\u001b[0m \u001b[38;5;28;01melse\u001b[39;00m:\n\u001b[0;32m--> 846\u001b[0m     \u001b[38;5;28;01mreturn\u001b[39;00m \u001b[43mrv_discrete_frozen\u001b[49m\u001b[43m(\u001b[49m\u001b[38;5;28;43mself\u001b[39;49m\u001b[43m,\u001b[49m\u001b[43m \u001b[49m\u001b[38;5;241;43m*\u001b[39;49m\u001b[43margs\u001b[49m\u001b[43m,\u001b[49m\u001b[43m \u001b[49m\u001b[38;5;241;43m*\u001b[39;49m\u001b[38;5;241;43m*\u001b[39;49m\u001b[43mkwds\u001b[49m\u001b[43m)\u001b[49m\n",
      "File \u001b[0;32m~/opt/anaconda3/envs/deep-uncertainty/lib/python3.10/site-packages/scipy/stats/_distn_infrastructure.py:465\u001b[0m, in \u001b[0;36mrv_frozen.__init__\u001b[0;34m(self, dist, *args, **kwds)\u001b[0m\n\u001b[1;32m    462\u001b[0m \u001b[38;5;66;03m# create a new instance\u001b[39;00m\n\u001b[1;32m    463\u001b[0m \u001b[38;5;28mself\u001b[39m\u001b[38;5;241m.\u001b[39mdist \u001b[38;5;241m=\u001b[39m dist\u001b[38;5;241m.\u001b[39m\u001b[38;5;18m__class__\u001b[39m(\u001b[38;5;241m*\u001b[39m\u001b[38;5;241m*\u001b[39mdist\u001b[38;5;241m.\u001b[39m_updated_ctor_param())\n\u001b[0;32m--> 465\u001b[0m shapes, _, _ \u001b[38;5;241m=\u001b[39m \u001b[38;5;28;43mself\u001b[39;49m\u001b[38;5;241;43m.\u001b[39;49m\u001b[43mdist\u001b[49m\u001b[38;5;241;43m.\u001b[39;49m\u001b[43m_parse_args\u001b[49m\u001b[43m(\u001b[49m\u001b[38;5;241;43m*\u001b[39;49m\u001b[43margs\u001b[49m\u001b[43m,\u001b[49m\u001b[43m \u001b[49m\u001b[38;5;241;43m*\u001b[39;49m\u001b[38;5;241;43m*\u001b[39;49m\u001b[43mkwds\u001b[49m\u001b[43m)\u001b[49m\n\u001b[1;32m    466\u001b[0m \u001b[38;5;28mself\u001b[39m\u001b[38;5;241m.\u001b[39ma, \u001b[38;5;28mself\u001b[39m\u001b[38;5;241m.\u001b[39mb \u001b[38;5;241m=\u001b[39m \u001b[38;5;28mself\u001b[39m\u001b[38;5;241m.\u001b[39mdist\u001b[38;5;241m.\u001b[39m_get_support(\u001b[38;5;241m*\u001b[39mshapes)\n",
      "\u001b[0;31mTypeError\u001b[0m: _parse_args() missing 1 required positional argument: 'n'"
     ]
    }
   ],
   "source": [
    "df_train[\"BB_LAMBDA\"] = poisson_training_results.mu\n",
    "df_train['AUX_OLS_DEP'] = df_train.apply(lambda x: ((x['traffic_volume'] - x['BB_LAMBDA'])**2 - x['BB_LAMBDA']) / x['BB_LAMBDA'], axis=1)\n",
    "ols_expr = \"\"\"AUX_OLS_DEP ~ BB_LAMBDA - 1\"\"\"\n",
    "aux_olsr_results = smf.ols(ols_expr, df_train).fit()\n",
    "nb2_training_results = sm.GLM(y_train, X_train,family=sm.families.NegativeBinomial(alpha=aux_olsr_results.params[0])).fit()\n",
    "nb2_predictions = nb2_training_results.get_prediction(X_test)\n",
    "predictions_summary_frame = nb2_predictions.summary_frame()\n",
    "predicted_counts=predictions_summary_frame['mean']\n",
    "\n",
    "y_preds = poisson_training_results.mu\n",
    "y_test = y_test['traffic_volume']\n",
    "posterior_predictive = nbinom(p=y_preds)\n",
    "len(y_preds)"
   ]
  },
  {
   "cell_type": "code",
   "execution_count": null,
   "metadata": {},
   "outputs": [],
   "source": [
    "# Negative Binomial calibration\n",
    "compute_mean_calibration(np.array(y_test), posterior_predictive)"
   ]
  }
 ],
 "metadata": {
  "kernelspec": {
   "display_name": "deep-uncertainty",
   "language": "python",
   "name": "python3"
  },
  "language_info": {
   "codemirror_mode": {
    "name": "ipython",
    "version": 3
   },
   "file_extension": ".py",
   "mimetype": "text/x-python",
   "name": "python",
   "nbconvert_exporter": "python",
   "pygments_lexer": "ipython3",
   "version": "3.10.13"
  }
 },
 "nbformat": 4,
 "nbformat_minor": 2
}
