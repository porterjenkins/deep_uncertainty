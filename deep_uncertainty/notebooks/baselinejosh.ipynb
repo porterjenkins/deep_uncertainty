{
 "cells": [
  {
   "cell_type": "code",
   "execution_count": 27,
   "metadata": {},
   "outputs": [],
   "source": [
    "from sklearn.linear_model import PoissonRegressor\n",
    "import pandas as pd\n",
    "from sklearn.model_selection import train_test_split\n",
    "from sklearn import preprocessing\n",
    "from sklearn.metrics import mean_squared_error \n",
    "from sklearn.metrics import mean_absolute_error\n",
    "import numpy as np\n",
    "from patsy import dmatrices\n",
    "import statsmodels.api as sm\n",
    "import matplotlib.pyplot as plt\n",
    "import statsmodels.formula.api as smf\n",
    "from scipy.stats import poisson\n",
    "from scipy.stats import nbinom"
   ]
  },
  {
   "cell_type": "code",
   "execution_count": 28,
   "metadata": {},
   "outputs": [],
   "source": [
    "from deep_uncertainty.evaluation.calibration import compute_double_poisson_nll, compute_discrete_ece\n",
    "# within evaluation\n"
   ]
  },
  {
   "cell_type": "markdown",
   "metadata": {},
   "source": [
    "# Prescription Data"
   ]
  },
  {
   "cell_type": "code",
   "execution_count": 29,
   "metadata": {},
   "outputs": [],
   "source": [
    "\n",
    "npz = np.load('/Users/joshuaphelps/Misc/Research/deep_uncertainty/prescriptionData/prescriptions.npz')\n",
    "npz.files\n",
    "dataframes = {}\n",
    "for key in npz.files:\n",
    "    dataframes[key] = pd.DataFrame(npz[key])\n",
    "\n",
    "X_train = dataframes['X_train']\n",
    "X_val = dataframes['X_val']\n",
    "X_test = dataframes['X_test']\n",
    "y_train = dataframes['y_train']\n",
    "y_val = dataframes['y_val']\n",
    "y_test = dataframes['y_test']\n",
    "\n"
   ]
  },
  {
   "cell_type": "markdown",
   "metadata": {},
   "source": [
    "__Possion__"
   ]
  },
  {
   "cell_type": "code",
   "execution_count": 30,
   "metadata": {},
   "outputs": [],
   "source": [
    "poisson_training_results = sm.GLM(y_train, X_train, family=sm.families.Poisson()).fit()\n",
    "y_test_pred = poisson_training_results.predict(X_test)\n",
    "y_val_pred = poisson_training_results.predict(X_val)\n",
    "y_train_pred = poisson_training_results.predict(X_train)"
   ]
  },
  {
   "cell_type": "markdown",
   "metadata": {},
   "source": [
    "RMSE"
   ]
  },
  {
   "cell_type": "code",
   "execution_count": 31,
   "metadata": {},
   "outputs": [
    {
     "name": "stdout",
     "output_type": "stream",
     "text": [
      "Poisson Training RMSE: 6.355172330828325\n",
      "Poisson Validation RMSE: 5.582907022772484\n",
      "Poisson Test RMSE: 6.703249377424615\n"
     ]
    }
   ],
   "source": [
    "print('Poisson Training RMSE:', np.sqrt(mean_squared_error(y_train, y_train_pred)))\n",
    "print('Poisson Validation RMSE:', np.sqrt(mean_squared_error(y_val, y_val_pred)))\n",
    "print('Poisson Test RMSE:', np.sqrt(mean_squared_error(y_test, y_test_pred)))"
   ]
  },
  {
   "cell_type": "markdown",
   "metadata": {},
   "source": [
    "MAE"
   ]
  },
  {
   "cell_type": "code",
   "execution_count": 32,
   "metadata": {},
   "outputs": [
    {
     "name": "stdout",
     "output_type": "stream",
     "text": [
      "Poisson Training MAE: 3.1981125604293004\n",
      "Poisson Validation MAE: 3.1380766247605267\n",
      "Poisson Test MAE: 3.1590543721332645\n"
     ]
    }
   ],
   "source": [
    "print('Poisson Training MAE:', mean_absolute_error(y_train, y_train_pred))\n",
    "print('Poisson Validation MAE:', mean_absolute_error(y_val, y_val_pred))\n",
    "print('Poisson Test MAE:', mean_absolute_error(y_test, y_test_pred))"
   ]
  },
  {
   "cell_type": "markdown",
   "metadata": {},
   "source": [
    "NLL"
   ]
  },
  {
   "cell_type": "code",
   "execution_count": 33,
   "metadata": {},
   "outputs": [
    {
     "name": "stdout",
     "output_type": "stream",
     "text": [
      "Poisson Test NLL: 59.726370467290316\n"
     ]
    }
   ],
   "source": [
    "y_true = np.array(y_test)\n",
    "mu = np.array(y_test_pred)\n",
    "phi = mu\n",
    "nll = compute_double_poisson_nll(y_true, mu, phi)\n",
    "print('Poisson Test NLL:', nll)"
   ]
  },
  {
   "cell_type": "markdown",
   "metadata": {},
   "source": [
    "ECE"
   ]
  },
  {
   "cell_type": "code",
   "execution_count": 35,
   "metadata": {},
   "outputs": [
    {
     "name": "stdout",
     "output_type": "stream",
     "text": [
      "0        0.863868\n",
      "1        1.999763\n",
      "2        2.322356\n",
      "3        0.763028\n",
      "4       91.731634\n",
      "          ...    \n",
      "2273     0.647707\n",
      "2274     1.960359\n",
      "2275     1.940872\n",
      "2276     3.593172\n",
      "2277     2.957822\n",
      "Length: 2278, dtype: float64\n",
      "0        2\n",
      "1        0\n",
      "2        5\n",
      "3        0\n",
      "4       31\n",
      "        ..\n",
      "2273     0\n",
      "2274     0\n",
      "2275     1\n",
      "2276     2\n",
      "2277     0\n",
      "Name: 0, Length: 2278, dtype: int64\n",
      "0       0.391065\n",
      "1       0.270685\n",
      "2       0.252612\n",
      "3       0.411361\n",
      "4       0.041616\n",
      "          ...   \n",
      "2273    0.438935\n",
      "2274    0.273169\n",
      "2275    0.274422\n",
      "2276    0.205648\n",
      "2277    0.225545\n",
      "Length: 2278, dtype: float64\n"
     ]
    },
    {
     "name": "stderr",
     "output_type": "stream",
     "text": [
      "/Users/joshuaphelps/anaconda3/lib/python3.11/site-packages/numpy/lib/function_base.py:4655: RuntimeWarning: invalid value encountered in subtract\n",
      "  diff_b_a = subtract(b, a)\n"
     ]
    },
    {
     "ename": "ValueError",
     "evalue": "missing values must be missing in the same location both left and right sides",
     "output_type": "error",
     "traceback": [
      "\u001b[0;31m---------------------------------------------------------------------------\u001b[0m",
      "\u001b[0;31mValueError\u001b[0m                                Traceback (most recent call last)",
      "Cell \u001b[0;32mIn[35], line 13\u001b[0m\n\u001b[1;32m     11\u001b[0m \u001b[38;5;28mprint\u001b[39m(y_test[\u001b[38;5;241m0\u001b[39m])\n\u001b[1;32m     12\u001b[0m \u001b[38;5;28mprint\u001b[39m(probs)\n\u001b[0;32m---> 13\u001b[0m ece \u001b[38;5;241m=\u001b[39m compute_discrete_ece(np\u001b[38;5;241m.\u001b[39marray(y_test[\u001b[38;5;241m0\u001b[39m]), np\u001b[38;5;241m.\u001b[39marray(y_test_pred), np\u001b[38;5;241m.\u001b[39marray(probs))\n\u001b[1;32m     14\u001b[0m \u001b[38;5;28mprint\u001b[39m(\u001b[38;5;124mf\u001b[39m\u001b[38;5;124m\"\u001b[39m\u001b[38;5;124mECE: \u001b[39m\u001b[38;5;132;01m{\u001b[39;00mece\u001b[38;5;132;01m}\u001b[39;00m\u001b[38;5;124m\"\u001b[39m)\n",
      "File \u001b[0;32m~/Misc/Research/deep_uncertainty/deep_uncertainty/evaluation/calibration.py:90\u001b[0m, in \u001b[0;36mcompute_discrete_ece\u001b[0;34m(targets, preds, probs, bin_strategy, alpha, num_bins)\u001b[0m\n\u001b[1;32m     88\u001b[0m     weights \u001b[38;5;241m=\u001b[39m \u001b[38;5;28;01mNone\u001b[39;00m\n\u001b[1;32m     89\u001b[0m \u001b[38;5;28;01melif\u001b[39;00m bin_strategy \u001b[38;5;241m==\u001b[39m \u001b[38;5;124m\"\u001b[39m\u001b[38;5;124madaptive\u001b[39m\u001b[38;5;124m\"\u001b[39m:\n\u001b[0;32m---> 90\u001b[0m     bin_boundaries \u001b[38;5;241m=\u001b[39m pd\u001b[38;5;241m.\u001b[39mqcut(probs, num_bins, retbins\u001b[38;5;241m=\u001b[39m\u001b[38;5;28;01mTrue\u001b[39;00m, duplicates\u001b[38;5;241m=\u001b[39m\u001b[38;5;124m\"\u001b[39m\u001b[38;5;124mdrop\u001b[39m\u001b[38;5;124m\"\u001b[39m)[\u001b[38;5;241m1\u001b[39m]\n\u001b[1;32m     91\u001b[0m     actual_num_bins \u001b[38;5;241m=\u001b[39m \u001b[38;5;28mlen\u001b[39m(bin_boundaries) \u001b[38;5;241m-\u001b[39m \u001b[38;5;241m1\u001b[39m\n\u001b[1;32m     92\u001b[0m     weights \u001b[38;5;241m=\u001b[39m np\u001b[38;5;241m.\u001b[39mones(actual_num_bins) \u001b[38;5;241m/\u001b[39m actual_num_bins\n",
      "File \u001b[0;32m~/anaconda3/lib/python3.11/site-packages/pandas/core/reshape/tile.py:379\u001b[0m, in \u001b[0;36mqcut\u001b[0;34m(x, q, labels, retbins, precision, duplicates)\u001b[0m\n\u001b[1;32m    376\u001b[0m x_np \u001b[38;5;241m=\u001b[39m x_np[\u001b[38;5;241m~\u001b[39mnp\u001b[38;5;241m.\u001b[39misnan(x_np)]\n\u001b[1;32m    377\u001b[0m bins \u001b[38;5;241m=\u001b[39m np\u001b[38;5;241m.\u001b[39mquantile(x_np, quantiles)\n\u001b[0;32m--> 379\u001b[0m fac, bins \u001b[38;5;241m=\u001b[39m _bins_to_cuts(\n\u001b[1;32m    380\u001b[0m     x,\n\u001b[1;32m    381\u001b[0m     bins,\n\u001b[1;32m    382\u001b[0m     labels\u001b[38;5;241m=\u001b[39mlabels,\n\u001b[1;32m    383\u001b[0m     precision\u001b[38;5;241m=\u001b[39mprecision,\n\u001b[1;32m    384\u001b[0m     include_lowest\u001b[38;5;241m=\u001b[39m\u001b[38;5;28;01mTrue\u001b[39;00m,\n\u001b[1;32m    385\u001b[0m     dtype\u001b[38;5;241m=\u001b[39mdtype,\n\u001b[1;32m    386\u001b[0m     duplicates\u001b[38;5;241m=\u001b[39mduplicates,\n\u001b[1;32m    387\u001b[0m )\n\u001b[1;32m    389\u001b[0m \u001b[38;5;28;01mreturn\u001b[39;00m _postprocess_for_cut(fac, bins, retbins, dtype, original)\n",
      "File \u001b[0;32m~/anaconda3/lib/python3.11/site-packages/pandas/core/reshape/tile.py:444\u001b[0m, in \u001b[0;36m_bins_to_cuts\u001b[0;34m(x, bins, right, labels, precision, include_lowest, dtype, duplicates, ordered)\u001b[0m\n\u001b[1;32m    438\u001b[0m     \u001b[38;5;28;01mraise\u001b[39;00m \u001b[38;5;167;01mValueError\u001b[39;00m(\n\u001b[1;32m    439\u001b[0m         \u001b[38;5;124m\"\u001b[39m\u001b[38;5;124mBin labels must either be False, None or passed in as a \u001b[39m\u001b[38;5;124m\"\u001b[39m\n\u001b[1;32m    440\u001b[0m         \u001b[38;5;124m\"\u001b[39m\u001b[38;5;124mlist-like argument\u001b[39m\u001b[38;5;124m\"\u001b[39m\n\u001b[1;32m    441\u001b[0m     )\n\u001b[1;32m    443\u001b[0m \u001b[38;5;28;01mif\u001b[39;00m labels \u001b[38;5;129;01mis\u001b[39;00m \u001b[38;5;28;01mNone\u001b[39;00m:\n\u001b[0;32m--> 444\u001b[0m     labels \u001b[38;5;241m=\u001b[39m _format_labels(\n\u001b[1;32m    445\u001b[0m         bins, precision, right\u001b[38;5;241m=\u001b[39mright, include_lowest\u001b[38;5;241m=\u001b[39minclude_lowest, dtype\u001b[38;5;241m=\u001b[39mdtype\n\u001b[1;32m    446\u001b[0m     )\n\u001b[1;32m    447\u001b[0m \u001b[38;5;28;01melif\u001b[39;00m ordered \u001b[38;5;129;01mand\u001b[39;00m \u001b[38;5;28mlen\u001b[39m(\u001b[38;5;28mset\u001b[39m(labels)) \u001b[38;5;241m!=\u001b[39m \u001b[38;5;28mlen\u001b[39m(labels):\n\u001b[1;32m    448\u001b[0m     \u001b[38;5;28;01mraise\u001b[39;00m \u001b[38;5;167;01mValueError\u001b[39;00m(\n\u001b[1;32m    449\u001b[0m         \u001b[38;5;124m\"\u001b[39m\u001b[38;5;124mlabels must be unique if ordered=True; pass ordered=False \u001b[39m\u001b[38;5;124m\"\u001b[39m\n\u001b[1;32m    450\u001b[0m         \u001b[38;5;124m\"\u001b[39m\u001b[38;5;124mfor duplicate labels\u001b[39m\u001b[38;5;124m\"\u001b[39m\n\u001b[1;32m    451\u001b[0m     )\n",
      "File \u001b[0;32m~/anaconda3/lib/python3.11/site-packages/pandas/core/reshape/tile.py:597\u001b[0m, in \u001b[0;36m_format_labels\u001b[0;34m(bins, precision, right, include_lowest, dtype)\u001b[0m\n\u001b[1;32m    593\u001b[0m \u001b[38;5;28;01mif\u001b[39;00m right \u001b[38;5;129;01mand\u001b[39;00m include_lowest:\n\u001b[1;32m    594\u001b[0m     \u001b[38;5;66;03m# adjust lhs of first interval by precision to account for being right closed\u001b[39;00m\n\u001b[1;32m    595\u001b[0m     breaks[\u001b[38;5;241m0\u001b[39m] \u001b[38;5;241m=\u001b[39m adjust(breaks[\u001b[38;5;241m0\u001b[39m])\n\u001b[0;32m--> 597\u001b[0m \u001b[38;5;28;01mreturn\u001b[39;00m IntervalIndex\u001b[38;5;241m.\u001b[39mfrom_breaks(breaks, closed\u001b[38;5;241m=\u001b[39mclosed)\n",
      "File \u001b[0;32m~/anaconda3/lib/python3.11/site-packages/pandas/core/indexes/interval.py:272\u001b[0m, in \u001b[0;36mIntervalIndex.from_breaks\u001b[0;34m(cls, breaks, closed, name, copy, dtype)\u001b[0m\n\u001b[1;32m    242\u001b[0m \u001b[38;5;129m@classmethod\u001b[39m\n\u001b[1;32m    243\u001b[0m \u001b[38;5;129m@Appender\u001b[39m(\n\u001b[1;32m    244\u001b[0m     _interval_shared_docs[\u001b[38;5;124m\"\u001b[39m\u001b[38;5;124mfrom_breaks\u001b[39m\u001b[38;5;124m\"\u001b[39m]\n\u001b[0;32m   (...)\u001b[0m\n\u001b[1;32m    269\u001b[0m     dtype: Dtype \u001b[38;5;241m|\u001b[39m \u001b[38;5;28;01mNone\u001b[39;00m \u001b[38;5;241m=\u001b[39m \u001b[38;5;28;01mNone\u001b[39;00m,\n\u001b[1;32m    270\u001b[0m ) \u001b[38;5;241m-\u001b[39m\u001b[38;5;241m>\u001b[39m IntervalIndex:\n\u001b[1;32m    271\u001b[0m     \u001b[38;5;28;01mwith\u001b[39;00m rewrite_exception(\u001b[38;5;124m\"\u001b[39m\u001b[38;5;124mIntervalArray\u001b[39m\u001b[38;5;124m\"\u001b[39m, \u001b[38;5;28mcls\u001b[39m\u001b[38;5;241m.\u001b[39m\u001b[38;5;18m__name__\u001b[39m):\n\u001b[0;32m--> 272\u001b[0m         array \u001b[38;5;241m=\u001b[39m IntervalArray\u001b[38;5;241m.\u001b[39mfrom_breaks(\n\u001b[1;32m    273\u001b[0m             breaks, closed\u001b[38;5;241m=\u001b[39mclosed, copy\u001b[38;5;241m=\u001b[39mcopy, dtype\u001b[38;5;241m=\u001b[39mdtype\n\u001b[1;32m    274\u001b[0m         )\n\u001b[1;32m    275\u001b[0m     \u001b[38;5;28;01mreturn\u001b[39;00m \u001b[38;5;28mcls\u001b[39m\u001b[38;5;241m.\u001b[39m_simple_new(array, name\u001b[38;5;241m=\u001b[39mname)\n",
      "File \u001b[0;32m~/anaconda3/lib/python3.11/site-packages/pandas/core/arrays/interval.py:456\u001b[0m, in \u001b[0;36mIntervalArray.from_breaks\u001b[0;34m(cls, breaks, closed, copy, dtype)\u001b[0m\n\u001b[1;32m    429\u001b[0m \u001b[38;5;129m@classmethod\u001b[39m\n\u001b[1;32m    430\u001b[0m \u001b[38;5;129m@Appender\u001b[39m(\n\u001b[1;32m    431\u001b[0m     _interval_shared_docs[\u001b[38;5;124m\"\u001b[39m\u001b[38;5;124mfrom_breaks\u001b[39m\u001b[38;5;124m\"\u001b[39m]\n\u001b[0;32m   (...)\u001b[0m\n\u001b[1;32m    452\u001b[0m     dtype: Dtype \u001b[38;5;241m|\u001b[39m \u001b[38;5;28;01mNone\u001b[39;00m \u001b[38;5;241m=\u001b[39m \u001b[38;5;28;01mNone\u001b[39;00m,\n\u001b[1;32m    453\u001b[0m ) \u001b[38;5;241m-\u001b[39m\u001b[38;5;241m>\u001b[39m Self:\n\u001b[1;32m    454\u001b[0m     breaks \u001b[38;5;241m=\u001b[39m _maybe_convert_platform_interval(breaks)\n\u001b[0;32m--> 456\u001b[0m     \u001b[38;5;28;01mreturn\u001b[39;00m \u001b[38;5;28mcls\u001b[39m\u001b[38;5;241m.\u001b[39mfrom_arrays(breaks[:\u001b[38;5;241m-\u001b[39m\u001b[38;5;241m1\u001b[39m], breaks[\u001b[38;5;241m1\u001b[39m:], closed, copy\u001b[38;5;241m=\u001b[39mcopy, dtype\u001b[38;5;241m=\u001b[39mdtype)\n",
      "File \u001b[0;32m~/anaconda3/lib/python3.11/site-packages/pandas/core/arrays/interval.py:544\u001b[0m, in \u001b[0;36mIntervalArray.from_arrays\u001b[0;34m(cls, left, right, closed, copy, dtype)\u001b[0m\n\u001b[1;32m    535\u001b[0m right \u001b[38;5;241m=\u001b[39m _maybe_convert_platform_interval(right)\n\u001b[1;32m    537\u001b[0m left, right, dtype \u001b[38;5;241m=\u001b[39m \u001b[38;5;28mcls\u001b[39m\u001b[38;5;241m.\u001b[39m_ensure_simple_new_inputs(\n\u001b[1;32m    538\u001b[0m     left,\n\u001b[1;32m    539\u001b[0m     right,\n\u001b[0;32m   (...)\u001b[0m\n\u001b[1;32m    542\u001b[0m     dtype\u001b[38;5;241m=\u001b[39mdtype,\n\u001b[1;32m    543\u001b[0m )\n\u001b[0;32m--> 544\u001b[0m \u001b[38;5;28mcls\u001b[39m\u001b[38;5;241m.\u001b[39m_validate(left, right, dtype\u001b[38;5;241m=\u001b[39mdtype)\n\u001b[1;32m    546\u001b[0m \u001b[38;5;28;01mreturn\u001b[39;00m \u001b[38;5;28mcls\u001b[39m\u001b[38;5;241m.\u001b[39m_simple_new(left, right, dtype\u001b[38;5;241m=\u001b[39mdtype)\n",
      "File \u001b[0;32m~/anaconda3/lib/python3.11/site-packages/pandas/core/arrays/interval.py:656\u001b[0m, in \u001b[0;36mIntervalArray._validate\u001b[0;34m(cls, left, right, dtype)\u001b[0m\n\u001b[1;32m    651\u001b[0m \u001b[38;5;28;01mif\u001b[39;00m \u001b[38;5;129;01mnot\u001b[39;00m (left_mask \u001b[38;5;241m==\u001b[39m right_mask)\u001b[38;5;241m.\u001b[39mall():\n\u001b[1;32m    652\u001b[0m     msg \u001b[38;5;241m=\u001b[39m (\n\u001b[1;32m    653\u001b[0m         \u001b[38;5;124m\"\u001b[39m\u001b[38;5;124mmissing values must be missing in the same \u001b[39m\u001b[38;5;124m\"\u001b[39m\n\u001b[1;32m    654\u001b[0m         \u001b[38;5;124m\"\u001b[39m\u001b[38;5;124mlocation both left and right sides\u001b[39m\u001b[38;5;124m\"\u001b[39m\n\u001b[1;32m    655\u001b[0m     )\n\u001b[0;32m--> 656\u001b[0m     \u001b[38;5;28;01mraise\u001b[39;00m \u001b[38;5;167;01mValueError\u001b[39;00m(msg)\n\u001b[1;32m    657\u001b[0m \u001b[38;5;28;01mif\u001b[39;00m \u001b[38;5;129;01mnot\u001b[39;00m (left[left_mask] \u001b[38;5;241m<\u001b[39m\u001b[38;5;241m=\u001b[39m right[left_mask])\u001b[38;5;241m.\u001b[39mall():\n\u001b[1;32m    658\u001b[0m     msg \u001b[38;5;241m=\u001b[39m \u001b[38;5;124m\"\u001b[39m\u001b[38;5;124mleft side of interval must be <= right side\u001b[39m\u001b[38;5;124m\"\u001b[39m\n",
      "\u001b[0;31mValueError\u001b[0m: missing values must be missing in the same location both left and right sides"
     ]
    }
   ],
   "source": [
    "# post_predictive = poisson(mu=y_test_pred)\n",
    "# ece = compute_discrete_ece(y_true, post_predictive)\n",
    "# print(post_predictive)\n",
    "\n",
    "poisson_predictions = poisson_training_results.get_prediction(X_test)\n",
    "predictions_summary_frame = poisson_predictions.summary_frame()\n",
    "lambdas = np.array(predictions_summary_frame['mean'])\n",
    "from scipy.special import factorial\n",
    "probs = (np.exp(-lambdas) * (lambdas ** y_test_pred)) / factorial(y_test_pred)\n",
    "print(y_test_pred)\n",
    "print(y_test[0])\n",
    "print(probs)\n",
    "ece = compute_discrete_ece(np.array(y_test[0]), np.array(y_test_pred), np.array(probs))\n",
    "print(f\"ECE: {ece}\")"
   ]
  },
  {
   "cell_type": "markdown",
   "metadata": {},
   "source": [
    "MP"
   ]
  },
  {
   "cell_type": "code",
   "execution_count": null,
   "metadata": {},
   "outputs": [
    {
     "name": "stdout",
     "output_type": "stream",
     "text": [
      "Poisson Test Median MP: 0.36140196304564176\n"
     ]
    }
   ],
   "source": [
    "mp = 1/mu\n",
    "median_mp = np.median(mp)\n",
    "print('Poisson Test Median MP:', median_mp)"
   ]
  },
  {
   "cell_type": "markdown",
   "metadata": {},
   "source": [
    "__NB2__"
   ]
  },
  {
   "cell_type": "code",
   "execution_count": null,
   "metadata": {},
   "outputs": [
    {
     "name": "stderr",
     "output_type": "stream",
     "text": [
      "/var/folders/d7/8mpnc7h57hb6gcv3lp21z67m0000gn/T/ipykernel_87125/3868232377.py:8: FutureWarning: Series.__getitem__ treating keys as positions is deprecated. In a future version, integer keys will always be treated as labels (consistent with DataFrame behavior). To access a value by position, use `ser.iloc[pos]`\n",
      "  nb2_training_results = sm.GLM(y_train, X_train,family=sm.families.NegativeBinomial(alpha=aux_olsr_results.params[0])).fit()\n"
     ]
    }
   ],
   "source": [
    "y_train = y_train.rename(columns={0: 'cnt'})\n",
    "y_test = y_test.rename(columns={0: 'cnt'})\n",
    "df_train = pd.concat([X_train, y_train], axis=1)\n",
    "df_train[\"BB_LAMBDA\"] = poisson_training_results.mu\n",
    "df_train['AUX_OLS_DEP'] = df_train.apply(lambda x: ((x['cnt'] - x['BB_LAMBDA'])**2 - x['BB_LAMBDA']) / x['BB_LAMBDA'], axis=1)\n",
    "ols_expr = \"\"\"AUX_OLS_DEP ~ BB_LAMBDA - 1\"\"\"\n",
    "aux_olsr_results = smf.ols(ols_expr, df_train).fit()\n",
    "nb2_training_results = sm.GLM(y_train, X_train,family=sm.families.NegativeBinomial(alpha=aux_olsr_results.params[0])).fit()"
   ]
  },
  {
   "cell_type": "code",
   "execution_count": null,
   "metadata": {},
   "outputs": [
    {
     "data": {
      "image/png": "[encoded data removed]",
      "text/plain": [
       "<Figure size 640x480 with 1 Axes>"
      ]
     },
     "metadata": {},
     "output_type": "display_data"
    }
   ],
   "source": [
    "nb2_predictions = nb2_training_results.get_prediction(X_test)\n",
    "predictions_summary_frame = nb2_predictions.summary_frame()\n",
    "# print(predictions_summary_frame)\n",
    "predicted_counts=predictions_summary_frame['mean']\n",
    "actual_counts = y_test['cnt']\n",
    "fig = plt.figure()\n",
    "fig.suptitle('Predicted versus actual counts using the NB')\n",
    "predicted_counts1 = predicted_counts[::50]\n",
    "actual1 = actual_counts[::50]\n",
    "predicted, = plt.plot(predicted_counts1, 'go-', label='Predicted counts')\n",
    "actual,  = plt.plot(actual1, 'ro-', label='Actual counts')\n",
    "plt.legend(handles=[predicted, actual])\n",
    "plt.show()"
   ]
  },
  {
   "cell_type": "code",
   "execution_count": null,
   "metadata": {},
   "outputs": [],
   "source": [
    "y_test_pred_nb2 = nb2_training_results.predict(X_test)\n",
    "y_val_pred_nb2 = nb2_training_results.predict(X_val)\n",
    "y_train_pred_nb2 = nb2_training_results.predict(X_train)"
   ]
  },
  {
   "cell_type": "markdown",
   "metadata": {},
   "source": [
    "RMSE"
   ]
  },
  {
   "cell_type": "code",
   "execution_count": null,
   "metadata": {},
   "outputs": [
    {
     "name": "stdout",
     "output_type": "stream",
     "text": [
      "NB Training RMSE: 37.52797989901532\n",
      "NB Validation RMSE: 23.382007491854587\n",
      "NB Test RMSE: 39.85040150555174\n"
     ]
    }
   ],
   "source": [
    "print('NB Training RMSE:', np.sqrt(mean_squared_error(y_train, y_train_pred_nb2)))\n",
    "print('NB Validation RMSE:', np.sqrt(mean_squared_error(y_val, y_val_pred_nb2)))\n",
    "print('NB Test RMSE:', np.sqrt(mean_squared_error(y_test, y_test_pred_nb2)))"
   ]
  },
  {
   "cell_type": "markdown",
   "metadata": {},
   "source": [
    "MAE"
   ]
  },
  {
   "cell_type": "code",
   "execution_count": null,
   "metadata": {},
   "outputs": [
    {
     "name": "stdout",
     "output_type": "stream",
     "text": [
      "NB Training MAE: 5.127788683774355\n",
      "NB Validation MAE: 4.986239866916359\n",
      "NB Test MAE: 5.539398513906124\n"
     ]
    }
   ],
   "source": [
    "print('NB Training MAE:', mean_absolute_error(y_train, y_train_pred_nb2))\n",
    "print('NB Validation MAE:', mean_absolute_error(y_val, y_val_pred_nb2))\n",
    "print('NB Test MAE:', mean_absolute_error(y_test, y_test_pred_nb2))"
   ]
  },
  {
   "cell_type": "markdown",
   "metadata": {},
   "source": [
    "NLL"
   ]
  },
  {
   "cell_type": "code",
   "execution_count": null,
   "metadata": {},
   "outputs": [
    {
     "name": "stderr",
     "output_type": "stream",
     "text": [
      "/var/folders/d7/8mpnc7h57hb6gcv3lp21z67m0000gn/T/ipykernel_87125/2323564253.py:3: FutureWarning: Series.__getitem__ treating keys as positions is deprecated. In a future version, integer keys will always be treated as labels (consistent with DataFrame behavior). To access a value by position, use `ser.iloc[pos]`\n",
      "  variance = y_test_pred + y_test_pred**2 * aux_olsr_results.params[0]\n"
     ]
    },
    {
     "name": "stdout",
     "output_type": "stream",
     "text": [
      "Poisson Test NLL: 4.00004281922323\n"
     ]
    }
   ],
   "source": [
    "y_true = np.array(y_test)\n",
    "mu = np.array(y_test_pred_nb2)\n",
    "variance = y_test_pred + y_test_pred**2 * aux_olsr_results.params[0]\n",
    "phi = np.array(mu/variance)\n",
    "nll = compute_double_poisson_nll(y_true, mu, phi)\n",
    "print('Poisson Test NLL:', nll)"
   ]
  },
  {
   "cell_type": "markdown",
   "metadata": {},
   "source": [
    "ECE"
   ]
  },
  {
   "cell_type": "code",
   "execution_count": null,
   "metadata": {},
   "outputs": [],
   "source": [
    "poisson_predictions = poisson_training_results.get_prediction(X_test)\n",
    "predictions_summary_frame = poisson_predictions.summary_frame()\n",
    "lambdas = np.array(predictions_summary_frame['mean'])\n",
    "from scipy.special import factorial\n",
    "probs = (np.exp(-lambdas) * (lambdas ** y_test_pred)) / factorial(y_test_pred)\n",
    "\n",
    "ece = compute_discrete_ece(np.array(y_test[0]), np.array(y_test_pred), np.array(probs))\n",
    "print(f\"ECE: {ece}\")"
   ]
  },
  {
   "cell_type": "markdown",
   "metadata": {},
   "source": [
    "MEDIAN MP"
   ]
  },
  {
   "cell_type": "code",
   "execution_count": null,
   "metadata": {},
   "outputs": [
    {
     "name": "stdout",
     "output_type": "stream",
     "text": [
      "Poisson Test Median MP: 0.1366997489698405\n"
     ]
    }
   ],
   "source": [
    "mp = 1/variance\n",
    "median_mp = np.median(mp)\n",
    "print('Poisson Test Median MP:', median_mp)"
   ]
  },
  {
   "cell_type": "code",
   "execution_count": null,
   "metadata": {},
   "outputs": [],
   "source": []
  }
 ],
 "metadata": {
  "kernelspec": {
   "display_name": "base",
   "language": "python",
   "name": "python3"
  },
  "language_info": {
   "codemirror_mode": {
    "name": "ipython",
    "version": 3
   },
   "file_extension": ".py",
   "mimetype": "text/x-python",
   "name": "python",
   "nbconvert_exporter": "python",
   "pygments_lexer": "ipython3",
   "version": "3.1.undefined"
  }
 },
 "nbformat": 4,
 "nbformat_minor": 2
}
