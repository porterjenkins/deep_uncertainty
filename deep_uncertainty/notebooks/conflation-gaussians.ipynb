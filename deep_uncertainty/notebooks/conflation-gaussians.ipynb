{
 "cells": [
  {
   "cell_type": "code",
   "execution_count": 1,
   "id": "5c35d2a4",
   "metadata": {},
   "outputs": [],
   "source": [
    "import numpy as np\n",
    "import matplotlib.pyplot as plt\n",
    "import seaborn as sns"
   ]
  },
  {
   "cell_type": "code",
   "execution_count": 2,
   "id": "46e36eb3",
   "metadata": {},
   "outputs": [],
   "source": [
    "def get_conflation_pair(mu1: float, mu2: float, sig1: float, sig2: float):\n",
    "    mu = (sig2*mu1 + sig1 * mu2) / (sig1 + sig2)\n",
    "    var = sig1*sig2 / (sig1 + sig2)\n",
    "    return mu, var"
   ]
  },
  {
   "cell_type": "code",
   "execution_count": 3,
   "id": "403e6200",
   "metadata": {},
   "outputs": [],
   "source": [
    "def get_conflation_array(mus: np.ndarray, sigmas: np.ndarray):\n",
    "    assert len(mus) == len(sigmas)\n",
    "    m = len(mus)\n",
    "    \n",
    "    for i in range(m-1):\n",
    "        m1 = mus[i]\n",
    "        m2 = mus[i+1]\n",
    "        s1 = sigmas[i]\n",
    "        s2 = sigmas[i+1]\n",
    "        print(m1, m2)\n",
    "        print(s1, s2)\n",
    "        if i == 0:\n",
    "            mu_star = m1\n",
    "            var_star = s1\n",
    "        mu_star, var_star = get_conflation_pair(mu_star, m2, var_star, s2)\n",
    "        print(mu_star, var_star)\n",
    "        \n",
    "    return mu_star, var_star\n",
    "\n",
    "        "
   ]
  },
  {
   "cell_type": "code",
   "execution_count": 32,
   "id": "c8a19c57",
   "metadata": {},
   "outputs": [],
   "source": [
    "def get_mixture_from_array(mus: np.array, sigmas: np.ndarray):\n",
    "    # equation from Lakshminarayanan 2017\n",
    "    mu_star = np.mean(mus)\n",
    "    var_star = np.mean(sigmas + np.power(mus, 2)) - mu_star\n",
    "    return mu_star, var_star"
   ]
  },
  {
   "cell_type": "markdown",
   "id": "bb8fa68e",
   "metadata": {},
   "source": [
    "## Two Gaussians"
   ]
  },
  {
   "cell_type": "code",
   "execution_count": 33,
   "id": "b8eff026",
   "metadata": {},
   "outputs": [],
   "source": [
    "mu1 = -10.0\n",
    "mu2 = 10.0"
   ]
  },
  {
   "cell_type": "code",
   "execution_count": 82,
   "id": "e0aa880e",
   "metadata": {},
   "outputs": [],
   "source": [
    "sig2_1 = 3.0\n",
    "sig2_2 = 0.2"
   ]
  },
  {
   "cell_type": "code",
   "execution_count": 83,
   "id": "19160bfc",
   "metadata": {},
   "outputs": [],
   "source": [
    "x1 = np.random.normal(mu1, sig2_1, size=10000)\n",
    "x2 = np.random.normal(mu2, sig2_2, size=10000)"
   ]
  },
  {
   "cell_type": "code",
   "execution_count": 84,
   "id": "270f44bb",
   "metadata": {},
   "outputs": [],
   "source": [
    "mu_star, sig2_star = get_conflation_pair(mu1, mu2, sig2_1, sig2_2)"
   ]
  },
  {
   "cell_type": "code",
   "execution_count": 85,
   "id": "18f82501",
   "metadata": {},
   "outputs": [
    {
     "data": {
      "text/plain": [
       "(8.75, 0.18750000000000003)"
      ]
     },
     "execution_count": 85,
     "metadata": {},
     "output_type": "execute_result"
    }
   ],
   "source": [
    "mu_star, sig2_star"
   ]
  },
  {
   "cell_type": "code",
   "execution_count": 86,
   "id": "b09a4e7c",
   "metadata": {},
   "outputs": [],
   "source": [
    "mu_star_mix, sig2_star_mix = get_mixture_from_array([mu1, mu2], [sig2_1, sig2_2])"
   ]
  },
  {
   "cell_type": "code",
   "execution_count": 87,
   "id": "dd0526cd",
   "metadata": {},
   "outputs": [
    {
     "data": {
      "text/plain": [
       "0.0"
      ]
     },
     "execution_count": 87,
     "metadata": {},
     "output_type": "execute_result"
    }
   ],
   "source": [
    "mu_star_mix"
   ]
  },
  {
   "cell_type": "code",
   "execution_count": 88,
   "id": "23426a15",
   "metadata": {},
   "outputs": [
    {
     "data": {
      "text/plain": [
       "101.6"
      ]
     },
     "execution_count": 88,
     "metadata": {},
     "output_type": "execute_result"
    }
   ],
   "source": [
    "sig2_star_mix"
   ]
  },
  {
   "cell_type": "code",
   "execution_count": 89,
   "id": "944783f5",
   "metadata": {},
   "outputs": [],
   "source": [
    "x_star = np.random.normal(mu_star, np.sqrt(sig2_star), size=10000)\n",
    "x_star_mix = np.random.normal(mu_star_mix, np.sqrt(sig2_star_mix), size=10000)"
   ]
  },
  {
   "cell_type": "code",
   "execution_count": 90,
   "id": "871da2e1",
   "metadata": {},
   "outputs": [
    {
     "data": {
      "image/png": "[encoded data removed]",
      "text/plain": [
       "<Figure size 640x480 with 1 Axes>"
      ]
     },
     "metadata": {},
     "output_type": "display_data"
    }
   ],
   "source": [
    "sns.kdeplot(x1,  fill=True, alpha=0.4)\n",
    "sns.kdeplot(x2,  fill=True, alpha=0.4)\n",
    "sns.kdeplot(x_star, color='gray', fill=True, alpha=0.4, label='Conflation')\n",
    "sns.kdeplot(x_star_mix, fill=True, alpha=0.4, label='Mixture')\n",
    "\n",
    "\n",
    "plt.legend()\n",
    "plt.show()"
   ]
  },
  {
   "cell_type": "code",
   "execution_count": null,
   "id": "50353f88",
   "metadata": {},
   "outputs": [],
   "source": []
  },
  {
   "cell_type": "markdown",
   "id": "9b6ba292",
   "metadata": {},
   "source": [
    "## Multiple Gaussians"
   ]
  },
  {
   "cell_type": "code",
   "execution_count": 75,
   "id": "6ba7c4a4",
   "metadata": {},
   "outputs": [
    {
     "name": "stdout",
     "output_type": "stream",
     "text": [
      "-4.0 -3.5\n",
      "0.7701052132400907 2.212019102277337\n",
      "-3.8708797602378837 0.5712328736888592\n",
      "-3.5 -4.5\n",
      "2.212019102277337 0.3620430956606873\n",
      "-4.255947172512097 0.22159674600601081\n",
      "-4.5 -3.8\n",
      "0.3620430956606873 0.7023049824110674\n",
      "-4.146588777921335 0.16844702636582318\n",
      "-3.8 3.0\n",
      "0.7023049824110674 1.5379971506079815\n",
      "-3.441132575752999 0.15181923327750355\n"
     ]
    }
   ],
   "source": [
    "\n",
    "mus = np.array([-4.0, -3.5, -4.5, -3.8, 3.0])\n",
    "#sigmas = np.array([1.0, 1.0, 1.0, 1.0, 1.0])\n",
    "sigmas = np.random.exponential(3, size=5)\n",
    "\n",
    "mu_star, var_star = get_conflation_array(mus=mus, sigmas=sigmas)"
   ]
  },
  {
   "cell_type": "code",
   "execution_count": 76,
   "id": "6b0cfdef",
   "metadata": {},
   "outputs": [
    {
     "data": {
      "text/plain": [
       "array([0.77010521, 2.2120191 , 0.3620431 , 0.70230498, 1.53799715])"
      ]
     },
     "execution_count": 76,
     "metadata": {},
     "output_type": "execute_result"
    }
   ],
   "source": [
    "sigmas"
   ]
  },
  {
   "cell_type": "code",
   "execution_count": 77,
   "id": "b6ef861c",
   "metadata": {},
   "outputs": [],
   "source": [
    "mu_star, sig2_star = get_conflation_pair(mus[0], mus[1], sigmas[0], sigmas[1])"
   ]
  },
  {
   "cell_type": "code",
   "execution_count": 78,
   "id": "35a547f2",
   "metadata": {},
   "outputs": [
    {
     "name": "stdout",
     "output_type": "stream",
     "text": [
      "-3.441132575752999 1.5\n"
     ]
    }
   ],
   "source": [
    "print(mu_star, sig2_star)"
   ]
  },
  {
   "cell_type": "code",
   "execution_count": 79,
   "id": "3a75ccac",
   "metadata": {},
   "outputs": [],
   "source": [
    "mu_star_mix, sig2_star_mix = get_mixture_from_array(mus, sigmas)"
   ]
  },
  {
   "cell_type": "code",
   "execution_count": 80,
   "id": "71605d81",
   "metadata": {},
   "outputs": [],
   "source": [
    "x_star = np.random.normal(mu_star, np.sqrt(sig2_star), size=10000)\n",
    "x_star_mix = np.random.normal(mu_star_mix, np.sqrt(sig2_star_mix), size=10000)\n"
   ]
  },
  {
   "cell_type": "code",
   "execution_count": 81,
   "id": "c7b1ebaf",
   "metadata": {},
   "outputs": [
    {
     "data": {
      "image/png": "[encoded data removed]",
      "text/plain": [
       "<Figure size 640x480 with 1 Axes>"
      ]
     },
     "metadata": {},
     "output_type": "display_data"
    }
   ],
   "source": [
    "for m, s in zip(mus, sigmas):\n",
    "    x = np.random.normal(m, s, size=10000)\n",
    "    sns.kdeplot(x)\n",
    "\n",
    "sns.kdeplot(x_star, color='gray', fill=True, alpha=0.4, label=\"Conflation\")\n",
    "sns.kdeplot(x_star_mix, fill=True, alpha=0.4, label=\"Mixture\")\n",
    "plt.legend()\n",
    "plt.show()"
   ]
  },
  {
   "cell_type": "code",
   "execution_count": null,
   "id": "cf2de8bf",
   "metadata": {},
   "outputs": [],
   "source": []
  },
  {
   "cell_type": "code",
   "execution_count": null,
   "id": "d07b20e0",
   "metadata": {},
   "outputs": [],
   "source": []
  }
 ],
 "metadata": {
  "kernelspec": {
   "display_name": "dailyuse",
   "language": "python",
   "name": "python3"
  },
  "language_info": {
   "codemirror_mode": {
    "name": "ipython",
    "version": 3
   },
   "file_extension": ".py",
   "mimetype": "text/x-python",
   "name": "python",
   "nbconvert_exporter": "python",
   "pygments_lexer": "ipython3",
   "version": "3.8.16"
  },
  "vscode": {
   "interpreter": {
    "hash": "4cea3655416dcb8a7f119db336360e8c57f337627050aac8e8a0d70e8850d62a"
   }
  }
 },
 "nbformat": 4,
 "nbformat_minor": 5
}
