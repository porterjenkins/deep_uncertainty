{
 "cells": [
  {
   "cell_type": "code",
   "execution_count": 21,
   "id": "4a3bb058",
   "metadata": {},
   "outputs": [],
   "source": [
    "import numpy as np\n",
    "from scipy.special import factorial\n",
    "import math\n",
    "import matplotlib.pyplot as plt"
   ]
  },
  {
   "cell_type": "code",
   "execution_count": 39,
   "id": "2423e7ae",
   "metadata": {},
   "outputs": [],
   "source": [
    "def get_kappa(lam, gamma):\n",
    "    first =(1 - gamma) / (12*gamma*lam)\n",
    "    second = 1 + 1/(gamma*lam)\n",
    "    return 1 + first * second"
   ]
  },
  {
   "cell_type": "code",
   "execution_count": 134,
   "id": "2401c76d",
   "metadata": {},
   "outputs": [],
   "source": [
    "\"\"\"def dp_pmf(y, lam, gamma):\n",
    "    kappa = get_kappa(lam, gamma)\n",
    "    print(\"Kappa\", kappa)\n",
    "    first = kappa * np.power(gamma, 0.5) * np.exp(-gamma*lam)\n",
    "    print(\"first\", first)\n",
    "    second = ((np.exp(-y)*np.power(y, y))/factorial(y))\n",
    "    print(\"second\", second)\n",
    "    third = np.power(((math.e*lam)/y),gamma*lam)\n",
    "    print(\"third\", third)\n",
    "    return  first*second*third\"\"\""
   ]
  },
  {
   "cell_type": "code",
   "execution_count": 174,
   "id": "5b55127a",
   "metadata": {},
   "outputs": [],
   "source": [
    "def pmf(y, lam, gam):\n",
    "    kappa = get_kappa(lam, gam)\n",
    "    first = kappa * np.power(gam, 0.5) * np.exp(-gam*lam)\n",
    "    second = (np.exp(-y) * np.power(y, y)) / (factorial(y))\n",
    "    third = np.power(((math.e * lam) / y), lam*gam)\n",
    "    return first * second * third"
   ]
  },
  {
   "cell_type": "raw",
   "id": "23132ede",
   "metadata": {},
   "source": [
    "y = np.arange(0, 10)"
   ]
  },
  {
   "cell_type": "code",
   "execution_count": 175,
   "id": "e92cc1c2",
   "metadata": {},
   "outputs": [
    {
     "data": {
      "text/plain": [
       "array([ 0, -1, -2, -3, -4, -5, -6, -7, -8, -9])"
      ]
     },
     "execution_count": 175,
     "metadata": {},
     "output_type": "execute_result"
    }
   ],
   "source": [
    "-y"
   ]
  },
  {
   "cell_type": "code",
   "execution_count": 176,
   "id": "77db617e",
   "metadata": {},
   "outputs": [
    {
     "name": "stderr",
     "output_type": "stream",
     "text": [
      "/var/folders/w5/203pqh9x1h5089n8fqdq8j3w0000gn/T/ipykernel_22826/1099561525.py:5: RuntimeWarning: divide by zero encountered in true_divide\n",
      "  third = np.power(((math.e * lam) / y), lam*gam)\n"
     ]
    }
   ],
   "source": [
    "density = pmf(y, lam=20, gam=1)"
   ]
  },
  {
   "cell_type": "code",
   "execution_count": 177,
   "id": "7542a5c6",
   "metadata": {},
   "outputs": [
    {
     "data": {
      "text/plain": [
       "array([           inf, 3.85749553e+25, 2.70670566e+19, 6.73757926e+15,\n",
       "       1.86316314e+13, 1.92928413e+11, 4.60662670e+09, 1.95809376e+08,\n",
       "       1.26953211e+07, 1.13636785e+06])"
      ]
     },
     "execution_count": 177,
     "metadata": {},
     "output_type": "execute_result"
    }
   ],
   "source": [
    "density"
   ]
  },
  {
   "cell_type": "code",
   "execution_count": 178,
   "id": "c5abb892",
   "metadata": {},
   "outputs": [
    {
     "data": {
      "image/png": "[encoded data removed]",
      "text/plain": [
       "<Figure size 640x480 with 1 Axes>"
      ]
     },
     "metadata": {},
     "output_type": "display_data"
    }
   ],
   "source": [
    "plt.plot(y, density, marker='o', linestyle='--')\n",
    "plt.show()"
   ]
  },
  {
   "cell_type": "code",
   "execution_count": null,
   "id": "9c6aac34",
   "metadata": {},
   "outputs": [],
   "source": []
  },
  {
   "cell_type": "code",
   "execution_count": null,
   "id": "1403203b",
   "metadata": {},
   "outputs": [],
   "source": []
  }
 ],
 "metadata": {
  "kernelspec": {
   "display_name": "Python 3 (ipykernel)",
   "language": "python",
   "name": "python3"
  },
  "language_info": {
   "codemirror_mode": {
    "name": "ipython",
    "version": 3
   },
   "file_extension": ".py",
   "mimetype": "text/x-python",
   "name": "python",
   "nbconvert_exporter": "python",
   "pygments_lexer": "ipython3",
   "version": "3.9.13"
  }
 },
 "nbformat": 4,
 "nbformat_minor": 5
}
